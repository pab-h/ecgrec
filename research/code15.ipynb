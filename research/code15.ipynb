{
 "cells": [
  {
   "cell_type": "markdown",
   "id": "16b6b6f4",
   "metadata": {},
   "source": [
    "# Libraries"
   ]
  },
  {
   "cell_type": "code",
   "execution_count": null,
   "id": "136a6504",
   "metadata": {},
   "outputs": [],
   "source": [
    "import matplotlib.pyplot as plt\n",
    "import pandas \t\t     as pd\n"
   ]
  },
  {
   "cell_type": "markdown",
   "id": "98ada6a8",
   "metadata": {},
   "source": [
    "# Metadata"
   ]
  },
  {
   "cell_type": "code",
   "execution_count": null,
   "id": "c6424b0e",
   "metadata": {},
   "outputs": [],
   "source": [
    "dataFolder = \"../data/CODE15\"\n",
    "traceFile  = \"exams_part1.hdf5\""
   ]
  },
  {
   "cell_type": "markdown",
   "id": "f4876ccb",
   "metadata": {},
   "source": [
    "# Data dictionary"
   ]
  },
  {
   "cell_type": "markdown",
   "id": "9cfba900",
   "metadata": {},
   "source": [
    "1. **exam_id**: id used for identifying the exam;\n",
    "1. **age**: patient age in years at the moment of the exam;\n",
    "1. **is_male**: true if the patient is male;\n",
    "1. **nn_predicted_age**: age predicted by a neural network to the patient. As described in the paper \"Deep neural network estimated electrocardiographic-age as a mortality predictor\" bellow.\n",
    "1. **1dAVb**: Whether or not the patient has 1st degree AV block;\n",
    "1. **RBBB**: Whether or not the patient has right bundle branch block;\n",
    "1. **LBBB**: Whether or not the patient has left bundle branch block;\n",
    "1. **SB**: Whether or not the patient has sinus bradycardia;\n",
    "1. **AF**: Whether or not the patient has atrial fibrillation;\n",
    "1. **ST**: Whether or not the patient has sinus tachycardia;\n",
    "1. **patient_id**: id used for identifying the patient;\n",
    "1. **normal_ecg**: True if automatic annotation system say it is a normal ECG;\n",
    "1. **death**: true if the patient dies in the follow-up time. This data is available only in the first exam of the patient. Other exams will have this as an empty field;\n",
    "1. **timey**: if the patient dies it is the time to the death of the patient. If not, it is the follow-up time. This data is available only in the first exam of the patient. Other exams will have this as an empty field;\n",
    "1. **trace_file**: identify in which hdf5 file the file corresponding to this patient is located.\n"
   ]
  },
  {
   "cell_type": "markdown",
   "id": "1fac803d",
   "metadata": {},
   "source": [
    "available at: https://zenodo.org/records/4916206"
   ]
  },
  {
   "cell_type": "markdown",
   "id": "ad9ab54c",
   "metadata": {},
   "source": [
    "# Load dataset"
   ]
  },
  {
   "cell_type": "code",
   "execution_count": null,
   "id": "c7e8d11b",
   "metadata": {},
   "outputs": [],
   "source": [
    "exams = pd.read_csv(f\"{ dataFolder }/exams.csv\")"
   ]
  },
  {
   "cell_type": "code",
   "execution_count": null,
   "id": "bb7bc19a",
   "metadata": {},
   "outputs": [],
   "source": [
    "exams.head()"
   ]
  },
  {
   "cell_type": "code",
   "execution_count": null,
   "id": "d4422532",
   "metadata": {},
   "outputs": [],
   "source": [
    "exams.shape"
   ]
  },
  {
   "cell_type": "markdown",
   "id": "fb83eb74",
   "metadata": {},
   "source": [
    "# Preprocessing the dataset"
   ]
  },
  {
   "cell_type": "code",
   "execution_count": null,
   "id": "bfc83f1d",
   "metadata": {},
   "outputs": [],
   "source": [
    "exams = exams.drop(\n",
    "    labels = [ 'nn_predicted_age', 'death', 'timey' ],\n",
    "    axis   = 'columns'\n",
    ")"
   ]
  },
  {
   "cell_type": "code",
   "execution_count": null,
   "id": "e31d29ec",
   "metadata": {},
   "outputs": [],
   "source": [
    "exams.head()"
   ]
  },
  {
   "cell_type": "markdown",
   "id": "11c38bf1",
   "metadata": {},
   "source": [
    "# Exploratory data analysis"
   ]
  },
  {
   "cell_type": "markdown",
   "id": "0200542e",
   "metadata": {},
   "source": [
    "Number of unique patients"
   ]
  },
  {
   "cell_type": "code",
   "execution_count": null,
   "id": "d7125740",
   "metadata": {},
   "outputs": [],
   "source": [
    "exams[\"patient_id\"].unique().shape"
   ]
  },
  {
   "cell_type": "markdown",
   "id": "d12288f5",
   "metadata": {},
   "source": [
    "Proportion of women and men"
   ]
  },
  {
   "cell_type": "code",
   "execution_count": null,
   "id": "4ea9d39c",
   "metadata": {},
   "outputs": [],
   "source": [
    "plt.title(\"Proportion of men and women\")\n",
    "\n",
    "isMaleValueCounts = exams[\"is_male\"].value_counts()\n",
    "\n",
    "bars = plt.bar(\n",
    "    x \t   \t  = [\"Men\", \"Woman\"],\n",
    "    height \t  = isMaleValueCounts * 100 / exams[\"is_male\"].count(),\n",
    "    color  \t  = [\"orange\", \"limegreen\"],\n",
    "    edgecolor = \"black\"\n",
    ")\n",
    "\n",
    "for sex, bar in zip([False, True], bars):\n",
    "\tplt.text(\n",
    "\t\tx  = bar.get_x() + bar.get_width() / 2,\n",
    "\t\ty  = bar.get_height(),\n",
    "\t\ts  = isMaleValueCounts[sex],\n",
    "\t\tha = 'center',\n",
    "\t\tva = 'bottom'\n",
    "\t)\n",
    "\n",
    "\n",
    "plt.xlabel(\"Sex\")\n",
    "plt.ylabel(\"Proportion (%)\")\n",
    "\n",
    "plt.tight_layout()\n",
    "plt.show()\n",
    "\n",
    "plt.close()"
   ]
  },
  {
   "cell_type": "markdown",
   "id": "e0c07460",
   "metadata": {},
   "source": [
    "Disease proportion"
   ]
  },
  {
   "cell_type": "code",
   "execution_count": null,
   "id": "62aeef23",
   "metadata": {},
   "outputs": [],
   "source": [
    "diseases = ['1dAVb', 'RBBB', 'LBBB', 'SB', 'ST', 'AF']"
   ]
  },
  {
   "cell_type": "code",
   "execution_count": null,
   "id": "b32a95f5",
   "metadata": {},
   "outputs": [],
   "source": [
    "plt.title(\"Proportion of disease\")\n",
    "\n",
    "diseasesSum = exams[diseases].sum()\n",
    "\n",
    "bars = plt.bar(\n",
    "    x \t   \t  = diseases,\n",
    "    height \t  = diseasesSum * 100 / exams['patient_id'].count(),\n",
    "    color  \t  = plt.cm.tab20.colors,\n",
    "    edgecolor = \"black\"\n",
    ")\n",
    "\n",
    "for disease, bar in zip(diseases, bars):\n",
    "\tplt.text(\n",
    "\t\tx  = bar.get_x() + bar.get_width() / 2,\n",
    "\t\ty  = bar.get_height(),\n",
    "\t\ts  = diseasesSum[disease],\n",
    "\t\tha = 'center',\n",
    "\t\tva = 'bottom'\n",
    "\t)\n",
    "\n",
    "\n",
    "plt.xlabel(\"Disease\")\n",
    "plt.ylabel(\"Proportion (%)\")\n",
    "\n",
    "plt.tight_layout()\n",
    "plt.show()\n",
    "\n",
    "plt.close()"
   ]
  },
  {
   "cell_type": "markdown",
   "id": "fd7f3f4e",
   "metadata": {},
   "source": [
    "Proportion of Normal ECG"
   ]
  },
  {
   "cell_type": "code",
   "execution_count": null,
   "id": "5eb356d0",
   "metadata": {},
   "outputs": [],
   "source": [
    "plt.title(\"Proportion of normal ECG\")\n",
    "\n",
    "isNormalValueCounts = exams[\"normal_ecg\"].value_counts()\n",
    "\n",
    "bars = plt.bar(\n",
    "    x \t   \t  = [\"No\", \"Yes\"],\n",
    "    height \t  = isNormalValueCounts * 100 / exams[\"normal_ecg\"].count(),\n",
    "    color  \t  = [\"orange\", \"limegreen\"],\n",
    "    edgecolor = \"black\"\n",
    ")\n",
    "\n",
    "for isNormal, bar in zip([False, True], bars):\n",
    "\tplt.text(\n",
    "\t\tx  = bar.get_x() + bar.get_width() / 2,\n",
    "\t\ty  = bar.get_height(),\n",
    "\t\ts  = isNormalValueCounts[isNormal],\n",
    "\t\tha = 'center',\n",
    "\t\tva = 'bottom'\n",
    "\t)\n",
    "\n",
    "plt.xlabel(\"Is normal?\")\n",
    "plt.ylabel(\"Proportion (%)\")\n",
    "\n",
    "plt.tight_layout()\n",
    "plt.show()\n",
    "\n",
    "plt.close()"
   ]
  },
  {
   "cell_type": "markdown",
   "id": "ede2b9b0",
   "metadata": {},
   "source": [
    "Histogram of ages at first examination"
   ]
  },
  {
   "cell_type": "code",
   "execution_count": null,
   "id": "48db26ba",
   "metadata": {},
   "outputs": [],
   "source": [
    "uniquePacientsExams = exams \\\n",
    "\t.drop_duplicates(\n",
    "\t\tsubset = 'patient_id',\n",
    "\t\tkeep   = 'first'\n",
    "\t) \\\n",
    "\t.drop(\n",
    "        labels = 'patient_id', \n",
    "        axis   = 'columns'\n",
    "    )\n",
    "\n",
    "uniquePacientsExams.head()"
   ]
  },
  {
   "cell_type": "code",
   "execution_count": null,
   "id": "0e88c686",
   "metadata": {},
   "outputs": [],
   "source": [
    "uniquePacientsAges = uniquePacientsExams['age']"
   ]
  },
  {
   "cell_type": "code",
   "execution_count": null,
   "id": "efff783f",
   "metadata": {},
   "outputs": [],
   "source": [
    "figure, axes = plt.subplots(\n",
    "\tnrows  = 2,\n",
    "    ncols  = 1,\n",
    "    sharex = True\n",
    ")\n",
    "\n",
    "figure.suptitle(\"Histogram of ages at first examination\")\n",
    "\n",
    "axes[0].hist(\n",
    "    x    \t= uniquePacientsAges,\n",
    "    bins \t= 25,\n",
    "    density = True\n",
    ")\n",
    "axes[1].hist(\n",
    "    x    \t   = uniquePacientsAges,\n",
    "    bins \t   = 25,\n",
    "    density    = True,\n",
    "    cumulative = True\n",
    ")\n",
    "\n",
    "axes[1].yaxis.set_major_formatter(\n",
    "    lambda value, _: round(100 * value, 2)\n",
    ")\n",
    "\n",
    "axes[1].set_xlabel(\"Age\")\n",
    "\n",
    "axes[0].set_ylabel(\"Frequency (%)\")\n",
    "axes[1].set_ylabel(\"Cumulative frequency (%)\")\n",
    "\n",
    "plt.tight_layout()\n",
    "plt.show()\n",
    "\n",
    "plt.close()"
   ]
  },
  {
   "cell_type": "markdown",
   "id": "7a24ff12",
   "metadata": {},
   "source": [
    "# Exploratory data analysis of subset"
   ]
  },
  {
   "cell_type": "markdown",
   "id": "f0c47f7b",
   "metadata": {},
   "source": [
    "The subset"
   ]
  },
  {
   "cell_type": "code",
   "execution_count": null,
   "id": "892e31cc",
   "metadata": {},
   "outputs": [],
   "source": [
    "examsSubset = exams[exams['trace_file'] == traceFile]"
   ]
  },
  {
   "cell_type": "markdown",
   "id": "27e3ac26",
   "metadata": {},
   "source": [
    "Number of unique patients"
   ]
  },
  {
   "cell_type": "code",
   "execution_count": null,
   "id": "cef730be",
   "metadata": {},
   "outputs": [],
   "source": [
    "examsSubset[\"patient_id\"].unique().shape"
   ]
  },
  {
   "cell_type": "markdown",
   "id": "a25653ce",
   "metadata": {},
   "source": [
    "Proportion of women and men"
   ]
  },
  {
   "cell_type": "code",
   "execution_count": null,
   "id": "affea29a",
   "metadata": {},
   "outputs": [],
   "source": [
    "plt.title(\"Proportion of men and women\")\n",
    "\n",
    "isMaleValueCounts = examsSubset[\"is_male\"].value_counts()\n",
    "\n",
    "bars = plt.bar(\n",
    "    x \t   \t  = [\"Men\", \"Woman\"],\n",
    "    height \t  = isMaleValueCounts * 100 / examsSubset[\"is_male\"].count(),\n",
    "    color  \t  = [\"orange\", \"limegreen\"],\n",
    "    edgecolor = \"black\"\n",
    ")\n",
    "\n",
    "for sex, bar in zip([False, True], bars):\n",
    "\tplt.text(\n",
    "\t\tx  = bar.get_x() + bar.get_width() / 2,\n",
    "\t\ty  = bar.get_height(),\n",
    "\t\ts  = isMaleValueCounts[sex],\n",
    "\t\tha = 'center',\n",
    "\t\tva = 'bottom'\n",
    "\t)\n",
    "\n",
    "\n",
    "plt.xlabel(\"Sex\")\n",
    "plt.ylabel(\"Proportion (%)\")\n",
    "\n",
    "plt.tight_layout()\n",
    "plt.show()\n",
    "\n",
    "plt.close()"
   ]
  },
  {
   "cell_type": "markdown",
   "id": "83a2d54e",
   "metadata": {},
   "source": [
    "Disease proportion"
   ]
  },
  {
   "cell_type": "code",
   "execution_count": null,
   "id": "c4636331",
   "metadata": {},
   "outputs": [],
   "source": [
    "diseases = ['1dAVb', 'RBBB', 'LBBB', 'SB', 'ST', 'AF']"
   ]
  },
  {
   "cell_type": "code",
   "execution_count": null,
   "id": "c1161922",
   "metadata": {},
   "outputs": [],
   "source": [
    "plt.title(\"Proportion of disease\")\n",
    "\n",
    "diseasesSum = examsSubset[diseases].sum()\n",
    "\n",
    "bars = plt.bar(\n",
    "    x \t   \t  = diseases,\n",
    "    height \t  = diseasesSum * 100 / examsSubset['patient_id'].count(),\n",
    "    color  \t  = plt.cm.tab20.colors,\n",
    "    edgecolor = \"black\"\n",
    ")\n",
    "\n",
    "for disease, bar in zip(diseases, bars):\n",
    "\tplt.text(\n",
    "\t\tx  = bar.get_x() + bar.get_width() / 2,\n",
    "\t\ty  = bar.get_height(),\n",
    "\t\ts  = diseasesSum[disease],\n",
    "\t\tha = 'center',\n",
    "\t\tva = 'bottom'\n",
    "\t)\n",
    "\n",
    "\n",
    "plt.xlabel(\"Disease\")\n",
    "plt.ylabel(\"Proportion (%)\")\n",
    "\n",
    "plt.tight_layout()\n",
    "plt.show()\n",
    "\n",
    "plt.close()"
   ]
  },
  {
   "cell_type": "markdown",
   "id": "f1aabdbf",
   "metadata": {},
   "source": [
    "Proportion of Normal ECG"
   ]
  },
  {
   "cell_type": "code",
   "execution_count": null,
   "id": "c4e1c27b",
   "metadata": {},
   "outputs": [],
   "source": [
    "plt.title(\"Proportion of normal ECG\")\n",
    "\n",
    "isNormalValueCounts = examsSubset[\"normal_ecg\"].value_counts()\n",
    "\n",
    "bars = plt.bar(\n",
    "    x \t   \t  = [\"No\", \"Yes\"],\n",
    "    height \t  = isNormalValueCounts * 100 / examsSubset[\"normal_ecg\"].count(),\n",
    "    color  \t  = [\"orange\", \"limegreen\"],\n",
    "    edgecolor = \"black\"\n",
    ")\n",
    "\n",
    "for isNormal, bar in zip([False, True], bars):\n",
    "\tplt.text(\n",
    "\t\tx  = bar.get_x() + bar.get_width() / 2,\n",
    "\t\ty  = bar.get_height(),\n",
    "\t\ts  = isNormalValueCounts[isNormal],\n",
    "\t\tha = 'center',\n",
    "\t\tva = 'bottom'\n",
    "\t)\n",
    "\n",
    "\n",
    "plt.xlabel(\"Is normal?\")\n",
    "plt.ylabel(\"Proportion (%)\")\n",
    "\n",
    "plt.tight_layout()\n",
    "plt.show()\n",
    "\n",
    "plt.close()"
   ]
  },
  {
   "cell_type": "markdown",
   "id": "fedcb03c",
   "metadata": {},
   "source": [
    "Histogram of ages at first examination"
   ]
  },
  {
   "cell_type": "code",
   "execution_count": null,
   "id": "2b54ead8",
   "metadata": {},
   "outputs": [],
   "source": [
    "uniquePacientsExams = examsSubset \\\n",
    "\t.drop_duplicates(\n",
    "\t\tsubset = 'patient_id',\n",
    "\t\tkeep   = 'first'\n",
    "\t) \\\n",
    "\t.drop(\n",
    "        labels = 'patient_id', \n",
    "        axis   = 'columns'\n",
    "    )\n",
    "\n",
    "uniquePacientsExams.head()"
   ]
  },
  {
   "cell_type": "code",
   "execution_count": null,
   "id": "6d71585d",
   "metadata": {},
   "outputs": [],
   "source": [
    "uniquePacientsAges = uniquePacientsExams['age']"
   ]
  },
  {
   "cell_type": "code",
   "execution_count": null,
   "id": "27c92d77",
   "metadata": {},
   "outputs": [],
   "source": [
    "figure, axes = plt.subplots(\n",
    "\tnrows  = 2,\n",
    "    ncols  = 1,\n",
    "    sharex = True\n",
    ")\n",
    "\n",
    "figure.suptitle(\"Histogram of ages at first examination\")\n",
    "\n",
    "axes[0].hist(\n",
    "    x    \t= uniquePacientsAges,\n",
    "    bins \t= 25,\n",
    "    density = True\n",
    ")\n",
    "axes[1].hist(\n",
    "    x    \t   = uniquePacientsAges,\n",
    "    bins \t   = 25,\n",
    "    density    = True,\n",
    "    cumulative = True\n",
    ")\n",
    "\n",
    "axes[1].yaxis.set_major_formatter(\n",
    "    lambda value, _: round(100 * value, 2)\n",
    ")\n",
    "\n",
    "axes[1].set_xlabel(\"Age\")\n",
    "\n",
    "axes[0].set_ylabel(\"Frequency (%)\")\n",
    "axes[1].set_ylabel(\"Cumulative frequency (%)\")\n",
    "\n",
    "plt.tight_layout()\n",
    "plt.show()\n",
    "\n",
    "plt.close()"
   ]
  }
 ],
 "metadata": {
  "kernelspec": {
   "display_name": "notebooks-py3.10 (3.10.15)",
   "language": "python",
   "name": "python3"
  },
  "language_info": {
   "codemirror_mode": {
    "name": "ipython",
    "version": 3
   },
   "file_extension": ".py",
   "mimetype": "text/x-python",
   "name": "python",
   "nbconvert_exporter": "python",
   "pygments_lexer": "ipython3",
   "version": "3.10.15"
  }
 },
 "nbformat": 4,
 "nbformat_minor": 5
}
