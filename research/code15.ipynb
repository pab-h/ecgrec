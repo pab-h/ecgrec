{
 "cells": [
  {
   "cell_type": "markdown",
   "id": "16b6b6f4",
   "metadata": {},
   "source": [
    "# Libraries"
   ]
  },
  {
   "cell_type": "code",
   "execution_count": 73,
   "id": "136a6504",
   "metadata": {},
   "outputs": [],
   "source": [
    "import matplotlib.pyplot as plt\n",
    "import pandas \t\t     as pd\n"
   ]
  },
  {
   "cell_type": "markdown",
   "id": "98ada6a8",
   "metadata": {},
   "source": [
    "# Metadata"
   ]
  },
  {
   "cell_type": "code",
   "execution_count": 74,
   "id": "c6424b0e",
   "metadata": {},
   "outputs": [],
   "source": [
    "dataFolder = \"../data/CODE15\"\n",
    "traceFile  = \"exams_part1.hdf5\""
   ]
  },
  {
   "cell_type": "markdown",
   "id": "f4876ccb",
   "metadata": {},
   "source": [
    "# Data dictionary"
   ]
  },
  {
   "cell_type": "markdown",
   "id": "9cfba900",
   "metadata": {},
   "source": [
    "1. **exam_id**: id used for identifying the exam;\n",
    "1. **age**: patient age in years at the moment of the exam;\n",
    "1. **is_male**: true if the patient is male;\n",
    "1. **nn_predicted_age**: age predicted by a neural network to the patient. As described in the paper \"Deep neural network estimated electrocardiographic-age as a mortality predictor\" bellow.\n",
    "1. **1dAVb**: Whether or not the patient has 1st degree AV block;\n",
    "1. **RBBB**: Whether or not the patient has right bundle branch block;\n",
    "1. **LBBB**: Whether or not the patient has left bundle branch block;\n",
    "1. **SB**: Whether or not the patient has sinus bradycardia;\n",
    "1. **AF**: Whether or not the patient has atrial fibrillation;\n",
    "1. **ST**: Whether or not the patient has sinus tachycardia;\n",
    "1. **patient_id**: id used for identifying the patient;\n",
    "1. **normal_ecg**: True if automatic annotation system say it is a normal ECG;\n",
    "1. **death**: true if the patient dies in the follow-up time. This data is available only in the first exam of the patient. Other exams will have this as an empty field;\n",
    "1. **timey**: if the patient dies it is the time to the death of the patient. If not, it is the follow-up time. This data is available only in the first exam of the patient. Other exams will have this as an empty field;\n",
    "1. **trace_file**: identify in which hdf5 file the file corresponding to this patient is located.\n"
   ]
  },
  {
   "cell_type": "markdown",
   "id": "1fac803d",
   "metadata": {},
   "source": [
    "available at: https://zenodo.org/records/4916206"
   ]
  },
  {
   "cell_type": "markdown",
   "id": "ad9ab54c",
   "metadata": {},
   "source": [
    "# Load dataset"
   ]
  },
  {
   "cell_type": "code",
   "execution_count": 75,
   "id": "c7e8d11b",
   "metadata": {},
   "outputs": [],
   "source": [
    "exams = pd.read_csv(f\"{ dataFolder }/exams.csv\")"
   ]
  },
  {
   "cell_type": "code",
   "execution_count": 76,
   "id": "bb7bc19a",
   "metadata": {},
   "outputs": [
    {
     "data": {
      "text/html": [
       "<div>\n",
       "<style scoped>\n",
       "    .dataframe tbody tr th:only-of-type {\n",
       "        vertical-align: middle;\n",
       "    }\n",
       "\n",
       "    .dataframe tbody tr th {\n",
       "        vertical-align: top;\n",
       "    }\n",
       "\n",
       "    .dataframe thead th {\n",
       "        text-align: right;\n",
       "    }\n",
       "</style>\n",
       "<table border=\"1\" class=\"dataframe\">\n",
       "  <thead>\n",
       "    <tr style=\"text-align: right;\">\n",
       "      <th></th>\n",
       "      <th>exam_id</th>\n",
       "      <th>age</th>\n",
       "      <th>is_male</th>\n",
       "      <th>nn_predicted_age</th>\n",
       "      <th>1dAVb</th>\n",
       "      <th>RBBB</th>\n",
       "      <th>LBBB</th>\n",
       "      <th>SB</th>\n",
       "      <th>ST</th>\n",
       "      <th>AF</th>\n",
       "      <th>patient_id</th>\n",
       "      <th>death</th>\n",
       "      <th>timey</th>\n",
       "      <th>normal_ecg</th>\n",
       "      <th>trace_file</th>\n",
       "    </tr>\n",
       "  </thead>\n",
       "  <tbody>\n",
       "    <tr>\n",
       "      <th>0</th>\n",
       "      <td>1169160</td>\n",
       "      <td>38</td>\n",
       "      <td>True</td>\n",
       "      <td>40.160484</td>\n",
       "      <td>False</td>\n",
       "      <td>False</td>\n",
       "      <td>False</td>\n",
       "      <td>False</td>\n",
       "      <td>False</td>\n",
       "      <td>False</td>\n",
       "      <td>523632</td>\n",
       "      <td>False</td>\n",
       "      <td>2.098628</td>\n",
       "      <td>True</td>\n",
       "      <td>exams_part13.hdf5</td>\n",
       "    </tr>\n",
       "    <tr>\n",
       "      <th>1</th>\n",
       "      <td>2873686</td>\n",
       "      <td>73</td>\n",
       "      <td>True</td>\n",
       "      <td>67.059440</td>\n",
       "      <td>False</td>\n",
       "      <td>False</td>\n",
       "      <td>False</td>\n",
       "      <td>False</td>\n",
       "      <td>False</td>\n",
       "      <td>False</td>\n",
       "      <td>1724173</td>\n",
       "      <td>False</td>\n",
       "      <td>6.657529</td>\n",
       "      <td>False</td>\n",
       "      <td>exams_part13.hdf5</td>\n",
       "    </tr>\n",
       "    <tr>\n",
       "      <th>2</th>\n",
       "      <td>168405</td>\n",
       "      <td>67</td>\n",
       "      <td>True</td>\n",
       "      <td>79.621740</td>\n",
       "      <td>False</td>\n",
       "      <td>False</td>\n",
       "      <td>False</td>\n",
       "      <td>False</td>\n",
       "      <td>False</td>\n",
       "      <td>True</td>\n",
       "      <td>51421</td>\n",
       "      <td>False</td>\n",
       "      <td>4.282188</td>\n",
       "      <td>False</td>\n",
       "      <td>exams_part13.hdf5</td>\n",
       "    </tr>\n",
       "    <tr>\n",
       "      <th>3</th>\n",
       "      <td>271011</td>\n",
       "      <td>41</td>\n",
       "      <td>True</td>\n",
       "      <td>69.750260</td>\n",
       "      <td>False</td>\n",
       "      <td>False</td>\n",
       "      <td>False</td>\n",
       "      <td>False</td>\n",
       "      <td>False</td>\n",
       "      <td>False</td>\n",
       "      <td>1737282</td>\n",
       "      <td>False</td>\n",
       "      <td>4.038353</td>\n",
       "      <td>True</td>\n",
       "      <td>exams_part13.hdf5</td>\n",
       "    </tr>\n",
       "    <tr>\n",
       "      <th>4</th>\n",
       "      <td>384368</td>\n",
       "      <td>73</td>\n",
       "      <td>True</td>\n",
       "      <td>78.873460</td>\n",
       "      <td>False</td>\n",
       "      <td>False</td>\n",
       "      <td>False</td>\n",
       "      <td>False</td>\n",
       "      <td>False</td>\n",
       "      <td>False</td>\n",
       "      <td>331652</td>\n",
       "      <td>False</td>\n",
       "      <td>3.786298</td>\n",
       "      <td>False</td>\n",
       "      <td>exams_part13.hdf5</td>\n",
       "    </tr>\n",
       "  </tbody>\n",
       "</table>\n",
       "</div>"
      ],
      "text/plain": [
       "   exam_id  age  is_male  nn_predicted_age  1dAVb   RBBB   LBBB     SB     ST  \\\n",
       "0  1169160   38     True         40.160484  False  False  False  False  False   \n",
       "1  2873686   73     True         67.059440  False  False  False  False  False   \n",
       "2   168405   67     True         79.621740  False  False  False  False  False   \n",
       "3   271011   41     True         69.750260  False  False  False  False  False   \n",
       "4   384368   73     True         78.873460  False  False  False  False  False   \n",
       "\n",
       "      AF  patient_id  death     timey  normal_ecg         trace_file  \n",
       "0  False      523632  False  2.098628        True  exams_part13.hdf5  \n",
       "1  False     1724173  False  6.657529       False  exams_part13.hdf5  \n",
       "2   True       51421  False  4.282188       False  exams_part13.hdf5  \n",
       "3  False     1737282  False  4.038353        True  exams_part13.hdf5  \n",
       "4  False      331652  False  3.786298       False  exams_part13.hdf5  "
      ]
     },
     "execution_count": 76,
     "metadata": {},
     "output_type": "execute_result"
    }
   ],
   "source": [
    "exams.head()"
   ]
  },
  {
   "cell_type": "code",
   "execution_count": 77,
   "id": "d4422532",
   "metadata": {},
   "outputs": [
    {
     "data": {
      "text/plain": [
       "(345779, 15)"
      ]
     },
     "execution_count": 77,
     "metadata": {},
     "output_type": "execute_result"
    }
   ],
   "source": [
    "exams.shape"
   ]
  },
  {
   "cell_type": "markdown",
   "id": "fb83eb74",
   "metadata": {},
   "source": [
    "# Preprocessing the dataset"
   ]
  },
  {
   "cell_type": "code",
   "execution_count": 78,
   "id": "bfc83f1d",
   "metadata": {},
   "outputs": [],
   "source": [
    "exams = exams.drop(\n",
    "    labels = [ 'nn_predicted_age', 'death', 'timey' ],\n",
    "    axis   = 'columns'\n",
    ")"
   ]
  },
  {
   "cell_type": "code",
   "execution_count": 79,
   "id": "e31d29ec",
   "metadata": {},
   "outputs": [
    {
     "data": {
      "text/html": [
       "<div>\n",
       "<style scoped>\n",
       "    .dataframe tbody tr th:only-of-type {\n",
       "        vertical-align: middle;\n",
       "    }\n",
       "\n",
       "    .dataframe tbody tr th {\n",
       "        vertical-align: top;\n",
       "    }\n",
       "\n",
       "    .dataframe thead th {\n",
       "        text-align: right;\n",
       "    }\n",
       "</style>\n",
       "<table border=\"1\" class=\"dataframe\">\n",
       "  <thead>\n",
       "    <tr style=\"text-align: right;\">\n",
       "      <th></th>\n",
       "      <th>exam_id</th>\n",
       "      <th>age</th>\n",
       "      <th>is_male</th>\n",
       "      <th>1dAVb</th>\n",
       "      <th>RBBB</th>\n",
       "      <th>LBBB</th>\n",
       "      <th>SB</th>\n",
       "      <th>ST</th>\n",
       "      <th>AF</th>\n",
       "      <th>patient_id</th>\n",
       "      <th>normal_ecg</th>\n",
       "      <th>trace_file</th>\n",
       "    </tr>\n",
       "  </thead>\n",
       "  <tbody>\n",
       "    <tr>\n",
       "      <th>0</th>\n",
       "      <td>1169160</td>\n",
       "      <td>38</td>\n",
       "      <td>True</td>\n",
       "      <td>False</td>\n",
       "      <td>False</td>\n",
       "      <td>False</td>\n",
       "      <td>False</td>\n",
       "      <td>False</td>\n",
       "      <td>False</td>\n",
       "      <td>523632</td>\n",
       "      <td>True</td>\n",
       "      <td>exams_part13.hdf5</td>\n",
       "    </tr>\n",
       "    <tr>\n",
       "      <th>1</th>\n",
       "      <td>2873686</td>\n",
       "      <td>73</td>\n",
       "      <td>True</td>\n",
       "      <td>False</td>\n",
       "      <td>False</td>\n",
       "      <td>False</td>\n",
       "      <td>False</td>\n",
       "      <td>False</td>\n",
       "      <td>False</td>\n",
       "      <td>1724173</td>\n",
       "      <td>False</td>\n",
       "      <td>exams_part13.hdf5</td>\n",
       "    </tr>\n",
       "    <tr>\n",
       "      <th>2</th>\n",
       "      <td>168405</td>\n",
       "      <td>67</td>\n",
       "      <td>True</td>\n",
       "      <td>False</td>\n",
       "      <td>False</td>\n",
       "      <td>False</td>\n",
       "      <td>False</td>\n",
       "      <td>False</td>\n",
       "      <td>True</td>\n",
       "      <td>51421</td>\n",
       "      <td>False</td>\n",
       "      <td>exams_part13.hdf5</td>\n",
       "    </tr>\n",
       "    <tr>\n",
       "      <th>3</th>\n",
       "      <td>271011</td>\n",
       "      <td>41</td>\n",
       "      <td>True</td>\n",
       "      <td>False</td>\n",
       "      <td>False</td>\n",
       "      <td>False</td>\n",
       "      <td>False</td>\n",
       "      <td>False</td>\n",
       "      <td>False</td>\n",
       "      <td>1737282</td>\n",
       "      <td>True</td>\n",
       "      <td>exams_part13.hdf5</td>\n",
       "    </tr>\n",
       "    <tr>\n",
       "      <th>4</th>\n",
       "      <td>384368</td>\n",
       "      <td>73</td>\n",
       "      <td>True</td>\n",
       "      <td>False</td>\n",
       "      <td>False</td>\n",
       "      <td>False</td>\n",
       "      <td>False</td>\n",
       "      <td>False</td>\n",
       "      <td>False</td>\n",
       "      <td>331652</td>\n",
       "      <td>False</td>\n",
       "      <td>exams_part13.hdf5</td>\n",
       "    </tr>\n",
       "  </tbody>\n",
       "</table>\n",
       "</div>"
      ],
      "text/plain": [
       "   exam_id  age  is_male  1dAVb   RBBB   LBBB     SB     ST     AF  \\\n",
       "0  1169160   38     True  False  False  False  False  False  False   \n",
       "1  2873686   73     True  False  False  False  False  False  False   \n",
       "2   168405   67     True  False  False  False  False  False   True   \n",
       "3   271011   41     True  False  False  False  False  False  False   \n",
       "4   384368   73     True  False  False  False  False  False  False   \n",
       "\n",
       "   patient_id  normal_ecg         trace_file  \n",
       "0      523632        True  exams_part13.hdf5  \n",
       "1     1724173       False  exams_part13.hdf5  \n",
       "2       51421       False  exams_part13.hdf5  \n",
       "3     1737282        True  exams_part13.hdf5  \n",
       "4      331652       False  exams_part13.hdf5  "
      ]
     },
     "execution_count": 79,
     "metadata": {},
     "output_type": "execute_result"
    }
   ],
   "source": [
    "exams.head()"
   ]
  },
  {
   "cell_type": "markdown",
   "id": "11c38bf1",
   "metadata": {},
   "source": [
    "# Exploratory data analysis"
   ]
  },
  {
   "cell_type": "markdown",
   "id": "0200542e",
   "metadata": {},
   "source": [
    "Number of unique patients"
   ]
  },
  {
   "cell_type": "code",
   "execution_count": 80,
   "id": "d7125740",
   "metadata": {},
   "outputs": [
    {
     "data": {
      "text/plain": [
       "(233770,)"
      ]
     },
     "execution_count": 80,
     "metadata": {},
     "output_type": "execute_result"
    }
   ],
   "source": [
    "exams[\"patient_id\"].unique().shape"
   ]
  },
  {
   "cell_type": "markdown",
   "id": "d12288f5",
   "metadata": {},
   "source": [
    "Proportion of women and men"
   ]
  },
  {
   "cell_type": "code",
   "execution_count": 81,
   "id": "4ea9d39c",
   "metadata": {},
   "outputs": [
    {
     "data": {
      "image/png": "[encoded data removed]",
      "text/plain": [
       "<Figure size 640x480 with 1 Axes>"
      ]
     },
     "metadata": {},
     "output_type": "display_data"
    }
   ],
   "source": [
    "plt.title(\"Proportion of men and women\")\n",
    "\n",
    "isMaleValueCounts = exams[\"is_male\"].value_counts()\n",
    "\n",
    "bars = plt.bar(\n",
    "    x \t   \t  = [\"Men\", \"Woman\"],\n",
    "    height \t  = isMaleValueCounts * 100 / exams[\"is_male\"].count(),\n",
    "    color  \t  = [\"orange\", \"limegreen\"],\n",
    "    edgecolor = \"black\"\n",
    ")\n",
    "\n",
    "for sex, bar in zip([False, True], bars):\n",
    "\tplt.text(\n",
    "\t\tx  = bar.get_x() + bar.get_width() / 2,\n",
    "\t\ty  = bar.get_height(),\n",
    "\t\ts  = isMaleValueCounts[sex],\n",
    "\t\tha = 'center',\n",
    "\t\tva = 'bottom'\n",
    "\t)\n",
    "\n",
    "\n",
    "plt.xlabel(\"Sex\")\n",
    "plt.ylabel(\"Proportion (%)\")\n",
    "\n",
    "plt.tight_layout()\n",
    "plt.show()\n",
    "\n",
    "plt.close()"
   ]
  },
  {
   "cell_type": "markdown",
   "id": "e0c07460",
   "metadata": {},
   "source": [
    "Disease proportion"
   ]
  },
  {
   "cell_type": "code",
   "execution_count": 82,
   "id": "62aeef23",
   "metadata": {},
   "outputs": [],
   "source": [
    "diseases = ['1dAVb', 'RBBB', 'LBBB', 'SB', 'ST', 'AF']"
   ]
  },
  {
   "cell_type": "code",
   "execution_count": 83,
   "id": "b32a95f5",
   "metadata": {},
   "outputs": [
    {
     "data": {
      "image/png": "[encoded data removed]",
      "text/plain": [
       "<Figure size 640x480 with 1 Axes>"
      ]
     },
     "metadata": {},
     "output_type": "display_data"
    }
   ],
   "source": [
    "plt.title(\"Proportion of disease\")\n",
    "\n",
    "diseasesSum = exams[diseases].sum()\n",
    "\n",
    "bars = plt.bar(\n",
    "    x \t   \t  = diseases,\n",
    "    height \t  = diseasesSum * 100 / exams['patient_id'].count(),\n",
    "    color  \t  = plt.cm.tab20.colors,\n",
    "    edgecolor = \"black\"\n",
    ")\n",
    "\n",
    "for disease, bar in zip(diseases, bars):\n",
    "\tplt.text(\n",
    "\t\tx  = bar.get_x() + bar.get_width() / 2,\n",
    "\t\ty  = bar.get_height(),\n",
    "\t\ts  = diseasesSum[disease],\n",
    "\t\tha = 'center',\n",
    "\t\tva = 'bottom'\n",
    "\t)\n",
    "\n",
    "\n",
    "plt.xlabel(\"Disease\")\n",
    "plt.ylabel(\"Proportion (%)\")\n",
    "\n",
    "plt.tight_layout()\n",
    "plt.show()\n",
    "\n",
    "plt.close()"
   ]
  },
  {
   "cell_type": "markdown",
   "id": "fd7f3f4e",
   "metadata": {},
   "source": [
    "Proportion of Normal ECG"
   ]
  },
  {
   "cell_type": "code",
   "execution_count": 84,
   "id": "5eb356d0",
   "metadata": {},
   "outputs": [
    {
     "data": {
      "image/png": "[encoded data removed]",
      "text/plain": [
       "<Figure size 640x480 with 1 Axes>"
      ]
     },
     "metadata": {},
     "output_type": "display_data"
    }
   ],
   "source": [
    "plt.title(\"Proportion of normal ECG\")\n",
    "\n",
    "isNormalValueCounts = exams[\"normal_ecg\"].value_counts()\n",
    "\n",
    "bars = plt.bar(\n",
    "    x \t   \t  = [\"No\", \"Yes\"],\n",
    "    height \t  = isNormalValueCounts * 100 / exams[\"normal_ecg\"].count(),\n",
    "    color  \t  = [\"orange\", \"limegreen\"],\n",
    "    edgecolor = \"black\"\n",
    ")\n",
    "\n",
    "for isNormal, bar in zip([False, True], bars):\n",
    "\tplt.text(\n",
    "\t\tx  = bar.get_x() + bar.get_width() / 2,\n",
    "\t\ty  = bar.get_height(),\n",
    "\t\ts  = isNormalValueCounts[isNormal],\n",
    "\t\tha = 'center',\n",
    "\t\tva = 'bottom'\n",
    "\t)\n",
    "\n",
    "plt.xlabel(\"Is normal?\")\n",
    "plt.ylabel(\"Proportion (%)\")\n",
    "\n",
    "plt.tight_layout()\n",
    "plt.show()\n",
    "\n",
    "plt.close()"
   ]
  },
  {
   "cell_type": "markdown",
   "id": "ede2b9b0",
   "metadata": {},
   "source": [
    "Histogram of ages at first examination"
   ]
  },
  {
   "cell_type": "code",
   "execution_count": 85,
   "id": "48db26ba",
   "metadata": {},
   "outputs": [
    {
     "data": {
      "text/html": [
       "<div>\n",
       "<style scoped>\n",
       "    .dataframe tbody tr th:only-of-type {\n",
       "        vertical-align: middle;\n",
       "    }\n",
       "\n",
       "    .dataframe tbody tr th {\n",
       "        vertical-align: top;\n",
       "    }\n",
       "\n",
       "    .dataframe thead th {\n",
       "        text-align: right;\n",
       "    }\n",
       "</style>\n",
       "<table border=\"1\" class=\"dataframe\">\n",
       "  <thead>\n",
       "    <tr style=\"text-align: right;\">\n",
       "      <th></th>\n",
       "      <th>exam_id</th>\n",
       "      <th>age</th>\n",
       "      <th>is_male</th>\n",
       "      <th>1dAVb</th>\n",
       "      <th>RBBB</th>\n",
       "      <th>LBBB</th>\n",
       "      <th>SB</th>\n",
       "      <th>ST</th>\n",
       "      <th>AF</th>\n",
       "      <th>normal_ecg</th>\n",
       "      <th>trace_file</th>\n",
       "    </tr>\n",
       "  </thead>\n",
       "  <tbody>\n",
       "    <tr>\n",
       "      <th>0</th>\n",
       "      <td>1169160</td>\n",
       "      <td>38</td>\n",
       "      <td>True</td>\n",
       "      <td>False</td>\n",
       "      <td>False</td>\n",
       "      <td>False</td>\n",
       "      <td>False</td>\n",
       "      <td>False</td>\n",
       "      <td>False</td>\n",
       "      <td>True</td>\n",
       "      <td>exams_part13.hdf5</td>\n",
       "    </tr>\n",
       "    <tr>\n",
       "      <th>1</th>\n",
       "      <td>2873686</td>\n",
       "      <td>73</td>\n",
       "      <td>True</td>\n",
       "      <td>False</td>\n",
       "      <td>False</td>\n",
       "      <td>False</td>\n",
       "      <td>False</td>\n",
       "      <td>False</td>\n",
       "      <td>False</td>\n",
       "      <td>False</td>\n",
       "      <td>exams_part13.hdf5</td>\n",
       "    </tr>\n",
       "    <tr>\n",
       "      <th>2</th>\n",
       "      <td>168405</td>\n",
       "      <td>67</td>\n",
       "      <td>True</td>\n",
       "      <td>False</td>\n",
       "      <td>False</td>\n",
       "      <td>False</td>\n",
       "      <td>False</td>\n",
       "      <td>False</td>\n",
       "      <td>True</td>\n",
       "      <td>False</td>\n",
       "      <td>exams_part13.hdf5</td>\n",
       "    </tr>\n",
       "    <tr>\n",
       "      <th>3</th>\n",
       "      <td>271011</td>\n",
       "      <td>41</td>\n",
       "      <td>True</td>\n",
       "      <td>False</td>\n",
       "      <td>False</td>\n",
       "      <td>False</td>\n",
       "      <td>False</td>\n",
       "      <td>False</td>\n",
       "      <td>False</td>\n",
       "      <td>True</td>\n",
       "      <td>exams_part13.hdf5</td>\n",
       "    </tr>\n",
       "    <tr>\n",
       "      <th>4</th>\n",
       "      <td>384368</td>\n",
       "      <td>73</td>\n",
       "      <td>True</td>\n",
       "      <td>False</td>\n",
       "      <td>False</td>\n",
       "      <td>False</td>\n",
       "      <td>False</td>\n",
       "      <td>False</td>\n",
       "      <td>False</td>\n",
       "      <td>False</td>\n",
       "      <td>exams_part13.hdf5</td>\n",
       "    </tr>\n",
       "  </tbody>\n",
       "</table>\n",
       "</div>"
      ],
      "text/plain": [
       "   exam_id  age  is_male  1dAVb   RBBB   LBBB     SB     ST     AF  \\\n",
       "0  1169160   38     True  False  False  False  False  False  False   \n",
       "1  2873686   73     True  False  False  False  False  False  False   \n",
       "2   168405   67     True  False  False  False  False  False   True   \n",
       "3   271011   41     True  False  False  False  False  False  False   \n",
       "4   384368   73     True  False  False  False  False  False  False   \n",
       "\n",
       "   normal_ecg         trace_file  \n",
       "0        True  exams_part13.hdf5  \n",
       "1       False  exams_part13.hdf5  \n",
       "2       False  exams_part13.hdf5  \n",
       "3        True  exams_part13.hdf5  \n",
       "4       False  exams_part13.hdf5  "
      ]
     },
     "execution_count": 85,
     "metadata": {},
     "output_type": "execute_result"
    }
   ],
   "source": [
    "uniquePacientsExams = exams \\\n",
    "\t.drop_duplicates(\n",
    "\t\tsubset = 'patient_id',\n",
    "\t\tkeep   = 'first'\n",
    "\t) \\\n",
    "\t.drop(\n",
    "        labels = 'patient_id', \n",
    "        axis   = 'columns'\n",
    "    )\n",
    "\n",
    "uniquePacientsExams.head()"
   ]
  },
  {
   "cell_type": "code",
   "execution_count": 86,
   "id": "0e88c686",
   "metadata": {},
   "outputs": [],
   "source": [
    "uniquePacientsAges = uniquePacientsExams['age']"
   ]
  },
  {
   "cell_type": "code",
   "execution_count": 87,
   "id": "efff783f",
   "metadata": {},
   "outputs": [
    {
     "data": {
      "image/png": "[encoded data removed]",
      "text/plain": [
       "<Figure size 640x480 with 2 Axes>"
      ]
     },
     "metadata": {},
     "output_type": "display_data"
    }
   ],
   "source": [
    "figure, axes = plt.subplots(\n",
    "\tnrows  = 2,\n",
    "    ncols  = 1,\n",
    "    sharex = True\n",
    ")\n",
    "\n",
    "figure.suptitle(\"Histogram of ages at first examination\")\n",
    "\n",
    "axes[0].hist(\n",
    "    x    \t= uniquePacientsAges,\n",
    "    bins \t= 25,\n",
    "    density = True\n",
    ")\n",
    "axes[1].hist(\n",
    "    x    \t   = uniquePacientsAges,\n",
    "    bins \t   = 25,\n",
    "    density    = True,\n",
    "    cumulative = True\n",
    ")\n",
    "\n",
    "axes[1].yaxis.set_major_formatter(\n",
    "    lambda value, _: round(100 * value, 2)\n",
    ")\n",
    "\n",
    "axes[1].set_xlabel(\"Age\")\n",
    "\n",
    "axes[0].set_ylabel(\"Frequency (%)\")\n",
    "axes[1].set_ylabel(\"Cumulative frequency (%)\")\n",
    "\n",
    "plt.tight_layout()\n",
    "plt.show()\n",
    "\n",
    "plt.close()"
   ]
  },
  {
   "cell_type": "markdown",
   "id": "7a24ff12",
   "metadata": {},
   "source": [
    "# Exploratory data analysis of subset"
   ]
  },
  {
   "cell_type": "markdown",
   "id": "f0c47f7b",
   "metadata": {},
   "source": [
    "The subset"
   ]
  },
  {
   "cell_type": "code",
   "execution_count": 88,
   "id": "892e31cc",
   "metadata": {},
   "outputs": [],
   "source": [
    "examsSubset = exams[exams['trace_file'] == traceFile]"
   ]
  },
  {
   "cell_type": "markdown",
   "id": "27e3ac26",
   "metadata": {},
   "source": [
    "Number of unique patients"
   ]
  },
  {
   "cell_type": "code",
   "execution_count": 89,
   "id": "cef730be",
   "metadata": {},
   "outputs": [
    {
     "data": {
      "text/plain": [
       "(19402,)"
      ]
     },
     "execution_count": 89,
     "metadata": {},
     "output_type": "execute_result"
    }
   ],
   "source": [
    "examsSubset[\"patient_id\"].unique().shape"
   ]
  },
  {
   "cell_type": "markdown",
   "id": "a25653ce",
   "metadata": {},
   "source": [
    "Proportion of women and men"
   ]
  },
  {
   "cell_type": "code",
   "execution_count": 90,
   "id": "affea29a",
   "metadata": {},
   "outputs": [
    {
     "data": {
      "image/png": "[encoded data removed]",
      "text/plain": [
       "<Figure size 640x480 with 1 Axes>"
      ]
     },
     "metadata": {},
     "output_type": "display_data"
    }
   ],
   "source": [
    "plt.title(\"Proportion of men and women\")\n",
    "\n",
    "isMaleValueCounts = examsSubset[\"is_male\"].value_counts()\n",
    "\n",
    "bars = plt.bar(\n",
    "    x \t   \t  = [\"Men\", \"Woman\"],\n",
    "    height \t  = isMaleValueCounts * 100 / examsSubset[\"is_male\"].count(),\n",
    "    color  \t  = [\"orange\", \"limegreen\"],\n",
    "    edgecolor = \"black\"\n",
    ")\n",
    "\n",
    "for sex, bar in zip([False, True], bars):\n",
    "\tplt.text(\n",
    "\t\tx  = bar.get_x() + bar.get_width() / 2,\n",
    "\t\ty  = bar.get_height(),\n",
    "\t\ts  = isMaleValueCounts[sex],\n",
    "\t\tha = 'center',\n",
    "\t\tva = 'bottom'\n",
    "\t)\n",
    "\n",
    "\n",
    "plt.xlabel(\"Sex\")\n",
    "plt.ylabel(\"Proportion (%)\")\n",
    "\n",
    "plt.tight_layout()\n",
    "plt.show()\n",
    "\n",
    "plt.close()"
   ]
  },
  {
   "cell_type": "markdown",
   "id": "83a2d54e",
   "metadata": {},
   "source": [
    "Disease proportion"
   ]
  },
  {
   "cell_type": "code",
   "execution_count": 91,
   "id": "c4636331",
   "metadata": {},
   "outputs": [],
   "source": [
    "diseases = ['1dAVb', 'RBBB', 'LBBB', 'SB', 'ST', 'AF']"
   ]
  },
  {
   "cell_type": "code",
   "execution_count": 92,
   "id": "c1161922",
   "metadata": {},
   "outputs": [
    {
     "data": {
      "image/png": "[encoded data removed]",
      "text/plain": [
       "<Figure size 640x480 with 1 Axes>"
      ]
     },
     "metadata": {},
     "output_type": "display_data"
    }
   ],
   "source": [
    "plt.title(\"Proportion of disease\")\n",
    "\n",
    "diseasesSum = examsSubset[diseases].sum()\n",
    "\n",
    "bars = plt.bar(\n",
    "    x \t   \t  = diseases,\n",
    "    height \t  = diseasesSum * 100 / examsSubset['patient_id'].count(),\n",
    "    color  \t  = plt.cm.tab20.colors,\n",
    "    edgecolor = \"black\"\n",
    ")\n",
    "\n",
    "for disease, bar in zip(diseases, bars):\n",
    "\tplt.text(\n",
    "\t\tx  = bar.get_x() + bar.get_width() / 2,\n",
    "\t\ty  = bar.get_height(),\n",
    "\t\ts  = diseasesSum[disease],\n",
    "\t\tha = 'center',\n",
    "\t\tva = 'bottom'\n",
    "\t)\n",
    "\n",
    "\n",
    "plt.xlabel(\"Disease\")\n",
    "plt.ylabel(\"Proportion (%)\")\n",
    "\n",
    "plt.tight_layout()\n",
    "plt.show()\n",
    "\n",
    "plt.close()"
   ]
  },
  {
   "cell_type": "markdown",
   "id": "f1aabdbf",
   "metadata": {},
   "source": [
    "Proportion of Normal ECG"
   ]
  },
  {
   "cell_type": "code",
   "execution_count": 93,
   "id": "c4e1c27b",
   "metadata": {},
   "outputs": [
    {
     "data": {
      "image/png": "[encoded data removed]",
      "text/plain": [
       "<Figure size 640x480 with 1 Axes>"
      ]
     },
     "metadata": {},
     "output_type": "display_data"
    }
   ],
   "source": [
    "plt.title(\"Proportion of normal ECG\")\n",
    "\n",
    "isNormalValueCounts = examsSubset[\"normal_ecg\"].value_counts()\n",
    "\n",
    "bars = plt.bar(\n",
    "    x \t   \t  = [\"No\", \"Yes\"],\n",
    "    height \t  = isNormalValueCounts * 100 / examsSubset[\"normal_ecg\"].count(),\n",
    "    color  \t  = [\"orange\", \"limegreen\"],\n",
    "    edgecolor = \"black\"\n",
    ")\n",
    "\n",
    "for isNormal, bar in zip([False, True], bars):\n",
    "\tplt.text(\n",
    "\t\tx  = bar.get_x() + bar.get_width() / 2,\n",
    "\t\ty  = bar.get_height(),\n",
    "\t\ts  = isNormalValueCounts[isNormal],\n",
    "\t\tha = 'center',\n",
    "\t\tva = 'bottom'\n",
    "\t)\n",
    "\n",
    "\n",
    "plt.xlabel(\"Is normal?\")\n",
    "plt.ylabel(\"Proportion (%)\")\n",
    "\n",
    "plt.tight_layout()\n",
    "plt.show()\n",
    "\n",
    "plt.close()"
   ]
  },
  {
   "cell_type": "markdown",
   "id": "fedcb03c",
   "metadata": {},
   "source": [
    "Histogram of ages at first examination"
   ]
  },
  {
   "cell_type": "code",
   "execution_count": 94,
   "id": "2b54ead8",
   "metadata": {},
   "outputs": [
    {
     "data": {
      "text/html": [
       "<div>\n",
       "<style scoped>\n",
       "    .dataframe tbody tr th:only-of-type {\n",
       "        vertical-align: middle;\n",
       "    }\n",
       "\n",
       "    .dataframe tbody tr th {\n",
       "        vertical-align: top;\n",
       "    }\n",
       "\n",
       "    .dataframe thead th {\n",
       "        text-align: right;\n",
       "    }\n",
       "</style>\n",
       "<table border=\"1\" class=\"dataframe\">\n",
       "  <thead>\n",
       "    <tr style=\"text-align: right;\">\n",
       "      <th></th>\n",
       "      <th>exam_id</th>\n",
       "      <th>age</th>\n",
       "      <th>is_male</th>\n",
       "      <th>1dAVb</th>\n",
       "      <th>RBBB</th>\n",
       "      <th>LBBB</th>\n",
       "      <th>SB</th>\n",
       "      <th>ST</th>\n",
       "      <th>AF</th>\n",
       "      <th>normal_ecg</th>\n",
       "      <th>trace_file</th>\n",
       "    </tr>\n",
       "  </thead>\n",
       "  <tbody>\n",
       "    <tr>\n",
       "      <th>1088</th>\n",
       "      <td>538053</td>\n",
       "      <td>75</td>\n",
       "      <td>False</td>\n",
       "      <td>False</td>\n",
       "      <td>False</td>\n",
       "      <td>False</td>\n",
       "      <td>False</td>\n",
       "      <td>False</td>\n",
       "      <td>False</td>\n",
       "      <td>True</td>\n",
       "      <td>exams_part1.hdf5</td>\n",
       "    </tr>\n",
       "    <tr>\n",
       "      <th>1089</th>\n",
       "      <td>3174141</td>\n",
       "      <td>44</td>\n",
       "      <td>True</td>\n",
       "      <td>False</td>\n",
       "      <td>False</td>\n",
       "      <td>False</td>\n",
       "      <td>False</td>\n",
       "      <td>False</td>\n",
       "      <td>False</td>\n",
       "      <td>False</td>\n",
       "      <td>exams_part1.hdf5</td>\n",
       "    </tr>\n",
       "    <tr>\n",
       "      <th>1090</th>\n",
       "      <td>2754653</td>\n",
       "      <td>22</td>\n",
       "      <td>True</td>\n",
       "      <td>False</td>\n",
       "      <td>False</td>\n",
       "      <td>False</td>\n",
       "      <td>False</td>\n",
       "      <td>False</td>\n",
       "      <td>False</td>\n",
       "      <td>False</td>\n",
       "      <td>exams_part1.hdf5</td>\n",
       "    </tr>\n",
       "    <tr>\n",
       "      <th>1091</th>\n",
       "      <td>433380</td>\n",
       "      <td>34</td>\n",
       "      <td>False</td>\n",
       "      <td>False</td>\n",
       "      <td>False</td>\n",
       "      <td>False</td>\n",
       "      <td>False</td>\n",
       "      <td>False</td>\n",
       "      <td>False</td>\n",
       "      <td>False</td>\n",
       "      <td>exams_part1.hdf5</td>\n",
       "    </tr>\n",
       "    <tr>\n",
       "      <th>1092</th>\n",
       "      <td>857608</td>\n",
       "      <td>50</td>\n",
       "      <td>True</td>\n",
       "      <td>False</td>\n",
       "      <td>False</td>\n",
       "      <td>False</td>\n",
       "      <td>False</td>\n",
       "      <td>False</td>\n",
       "      <td>False</td>\n",
       "      <td>True</td>\n",
       "      <td>exams_part1.hdf5</td>\n",
       "    </tr>\n",
       "  </tbody>\n",
       "</table>\n",
       "</div>"
      ],
      "text/plain": [
       "      exam_id  age  is_male  1dAVb   RBBB   LBBB     SB     ST     AF  \\\n",
       "1088   538053   75    False  False  False  False  False  False  False   \n",
       "1089  3174141   44     True  False  False  False  False  False  False   \n",
       "1090  2754653   22     True  False  False  False  False  False  False   \n",
       "1091   433380   34    False  False  False  False  False  False  False   \n",
       "1092   857608   50     True  False  False  False  False  False  False   \n",
       "\n",
       "      normal_ecg        trace_file  \n",
       "1088        True  exams_part1.hdf5  \n",
       "1089       False  exams_part1.hdf5  \n",
       "1090       False  exams_part1.hdf5  \n",
       "1091       False  exams_part1.hdf5  \n",
       "1092        True  exams_part1.hdf5  "
      ]
     },
     "execution_count": 94,
     "metadata": {},
     "output_type": "execute_result"
    }
   ],
   "source": [
    "uniquePacientsExams = examsSubset \\\n",
    "\t.drop_duplicates(\n",
    "\t\tsubset = 'patient_id',\n",
    "\t\tkeep   = 'first'\n",
    "\t) \\\n",
    "\t.drop(\n",
    "        labels = 'patient_id', \n",
    "        axis   = 'columns'\n",
    "    )\n",
    "\n",
    "uniquePacientsExams.head()"
   ]
  },
  {
   "cell_type": "code",
   "execution_count": 95,
   "id": "6d71585d",
   "metadata": {},
   "outputs": [],
   "source": [
    "uniquePacientsAges = uniquePacientsExams['age']"
   ]
  },
  {
   "cell_type": "code",
   "execution_count": 97,
   "id": "27c92d77",
   "metadata": {},
   "outputs": [
    {
     "data": {
      "image/png": "[encoded data removed]",
      "text/plain": [
       "<Figure size 640x480 with 2 Axes>"
      ]
     },
     "metadata": {},
     "output_type": "display_data"
    }
   ],
   "source": [
    "figure, axes = plt.subplots(\n",
    "\tnrows  = 2,\n",
    "    ncols  = 1,\n",
    "    sharex = True\n",
    ")\n",
    "\n",
    "figure.suptitle(\"Histogram of ages at first examination\")\n",
    "\n",
    "axes[0].hist(\n",
    "    x    \t= uniquePacientsAges,\n",
    "    bins \t= 25,\n",
    "    density = True\n",
    ")\n",
    "axes[1].hist(\n",
    "    x    \t   = uniquePacientsAges,\n",
    "    bins \t   = 25,\n",
    "    density    = True,\n",
    "    cumulative = True\n",
    ")\n",
    "\n",
    "axes[1].yaxis.set_major_formatter(\n",
    "    lambda value, _: round(100 * value, 2)\n",
    ")\n",
    "\n",
    "axes[1].set_xlabel(\"Age\")\n",
    "\n",
    "axes[0].set_ylabel(\"Frequency (%)\")\n",
    "axes[1].set_ylabel(\"Cumulative frequency (%)\")\n",
    "\n",
    "plt.tight_layout()\n",
    "plt.show()\n",
    "\n",
    "plt.close()"
   ]
  }
 ],
 "metadata": {
  "kernelspec": {
   "display_name": ".venv",
   "language": "python",
   "name": "python3"
  },
  "language_info": {
   "codemirror_mode": {
    "name": "ipython",
    "version": 3
   },
   "file_extension": ".py",
   "mimetype": "text/x-python",
   "name": "python",
   "nbconvert_exporter": "python",
   "pygments_lexer": "ipython3",
   "version": "3.10.15"
  }
 },
 "nbformat": 4,
 "nbformat_minor": 5
}
