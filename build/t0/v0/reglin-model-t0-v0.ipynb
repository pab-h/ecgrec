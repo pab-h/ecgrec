{
 "cells": [
  {
   "cell_type": "code",
   "execution_count": null,
   "metadata": {},
   "outputs": [],
   "source": [
    "import pandas \t\t\t as pd\n",
    "import numpy \t\t\t as np\n",
    "import matplotlib.pyplot as plt\n",
    "\n",
    "import scipy.signal as signal\n",
    "\n",
    "from sklearn.preprocessing \t import StandardScaler\n",
    "from sklearn.model_selection import train_test_split\n",
    "from sklearn.metrics \t\t import r2_score\n",
    "from sklearn.linear_model \t import LinearRegression\n",
    "\n",
    "import joblib\n"
   ]
  },
  {
   "cell_type": "markdown",
   "metadata": {},
   "source": [
    "# Load dataset"
   ]
  },
  {
   "cell_type": "markdown",
   "metadata": {},
   "source": [
    "ECG's metadata"
   ]
  },
  {
   "cell_type": "code",
   "execution_count": null,
   "metadata": {},
   "outputs": [],
   "source": [
    "ecgHeaders = [\n",
    "\t\"sample\",\n",
    "\t\"LI\", \n",
    "\t\"LII\", \n",
    "\t\"LIII\", \n",
    "\t\"aVR\", \n",
    "\t\"aVL\",\n",
    "\t\"aVF\", \n",
    "\t\"V1\",\n",
    "\t\"V2\",\n",
    "\t\"V3\",\n",
    "\t\"V4\",\n",
    "\t\"V5\",\n",
    "\t\"V6\"\n",
    "]\n",
    "\n",
    "\n",
    "ecgFeatures = [\n",
    "\t\"LI\", \n",
    "\t\"aVF\", \n",
    "\t\"V2\"\n",
    "]\n",
    "\n",
    "ecgTarget = [\n",
    "\t\"LII\", \n",
    "\t\"LIII\", \n",
    "\t\"aVR\", \n",
    "\t\"aVL\",\n",
    "\t\"V1\",\n",
    "\t\"V3\",\n",
    "\t\"V4\",\n",
    "\t\"V5\",\n",
    "\t\"V6\"\n",
    "]\n"
   ]
  },
  {
   "cell_type": "code",
   "execution_count": null,
   "metadata": {},
   "outputs": [],
   "source": [
    "ecgPlotHeaders = [\n",
    "    \"LI\", \"aVR\", \"V1\", \"V4\",\n",
    "\t\"LII\", \"aVL\", \"V2\", \"V5\",\n",
    "\t\"LIII\", \"aVF\", \"V3\", \"V6\"\n",
    "]\n",
    "\n",
    "ecgPlotColors = {\n",
    "\t\"LI\": \t\"seagreen\",\n",
    "\t\"aVR\": \t\"black\",\n",
    "\t\"V1\": \t\"gold\",\n",
    "\t\"V4\": \t\"orangered\",\n",
    "\t\"LII\": \t\"cornflowerblue\",\n",
    "\t\"aVL\": \t\"seagreen\",\n",
    "\t\"V2\": \t\"gold\",\n",
    "\t\"V5\": \t\"crimson\",\n",
    "\t\"LIII\": \"cornflowerblue\",\n",
    "\t\"aVF\":  \"cornflowerblue\",\n",
    "\t\"V3\":   \"orangered\",\n",
    "\t\"V6\":   \"crimson\"\n",
    "}"
   ]
  },
  {
   "cell_type": "markdown",
   "metadata": {},
   "source": [
    "ECG's labels"
   ]
  },
  {
   "cell_type": "code",
   "execution_count": null,
   "metadata": {},
   "outputs": [],
   "source": [
    "ecgsDataset = []\n",
    "\n",
    "with open(\"../../../data/labels/RECORDS-acceptable\") as file:\n",
    "\tecgsDataset = map(\n",
    "\t\tlambda ecgName: ecgName.strip(), \n",
    "\t\tfile.readlines()\n",
    "\t)\n",
    "\tecgsDataset = list(ecgsDataset) \n",
    "\n",
    "\tprint(\"Quantidade de ECG's disponíveis:\", len(ecgsDataset))"
   ]
  },
  {
   "cell_type": "markdown",
   "metadata": {},
   "source": [
    "Split dataset"
   ]
  },
  {
   "cell_type": "code",
   "execution_count": null,
   "metadata": {},
   "outputs": [],
   "source": [
    "trainEcgs, validationEcgs = train_test_split(\n",
    "\tecgsDataset, \n",
    "\ttrain_size = .70, \n",
    "\ttest_size  = .30\n",
    ")\n",
    "\n",
    "print(\"Quantidade de ECG para treinamento:\", len(trainEcgs))\n",
    "print(\"Quantidade de ECG para validação:\", len(validationEcgs))"
   ]
  },
  {
   "cell_type": "markdown",
   "metadata": {},
   "source": [
    "# Preprocessing Dataset"
   ]
  },
  {
   "cell_type": "markdown",
   "metadata": {},
   "source": [
    "- highpass butterworth filter with $ f_c = 1$ Hz\n",
    "- Truncation in the tails of $N = 500 $ samples\n",
    "- With 5 Gain"
   ]
  },
  {
   "cell_type": "markdown",
   "metadata": {},
   "source": [
    "Making the highpass butter filter"
   ]
  },
  {
   "cell_type": "code",
   "execution_count": null,
   "metadata": {},
   "outputs": [],
   "source": [
    "order = 2\n",
    "fc = 1\n",
    "fs = 500\n",
    "\n",
    "b, a = signal.butter(\n",
    "\tN \t  = order,\n",
    "\tWn \t  = fc,\n",
    "\tbtype = \"highpass\",\n",
    "\tfs    = fs\n",
    ")\n",
    "\n",
    "print(\"Numerador: \", b)\n",
    "print(\"Denominador: \", a)"
   ]
  },
  {
   "cell_type": "markdown",
   "metadata": {},
   "source": [
    "Filtering and crop "
   ]
  },
  {
   "cell_type": "code",
   "execution_count": null,
   "metadata": {},
   "outputs": [],
   "source": [
    "def preprocessing(ecgDf):\n",
    "\tecgFiltred = ecgDf.apply(\n",
    "\t\tlambda serie: 5 * signal.filtfilt(b, a, serie), \n",
    "\t\taxis = 0\n",
    "\t)\n",
    "\tecgCroped = ecgFiltred.iloc[500: -500]\n",
    "\n",
    "\treturn ecgCroped"
   ]
  },
  {
   "cell_type": "code",
   "execution_count": null,
   "metadata": {},
   "outputs": [],
   "source": [
    "xTrainAll = []\n",
    "yTrainAll = []\n",
    "\n",
    "for trainEcgFile in trainEcgs:\n",
    "\tecgDf = pd.read_csv(\n",
    "\t\tfilepath_or_buffer = f\"../../../data/set-a/{trainEcgFile}.txt\",\n",
    "\t\tnames \t\t\t   = ecgHeaders,\n",
    "\t\tindex_col \t\t   = 0\n",
    "\t)\n",
    "\n",
    "\tecgDf = preprocessing(ecgDf)\n",
    "\n",
    "\txTrain = ecgDf[ecgFeatures]\n",
    "\tyTrain = ecgDf[ecgTarget]\n",
    "\t\n",
    "\txTrainAll.extend(xTrain.values)\n",
    "\tyTrainAll.extend(yTrain.values)\n",
    "\n",
    "xTrainAll = np.array(xTrainAll)\n",
    "yTrainAll = np.array(yTrainAll)\n"
   ]
  },
  {
   "cell_type": "code",
   "execution_count": null,
   "metadata": {},
   "outputs": [],
   "source": [
    "xValidationAll = []\n",
    "yValidationAll = []\n",
    "\n",
    "for validationEcgFile in validationEcgs:\n",
    "\tecgDf = pd.read_csv(\n",
    "\t\tfilepath_or_buffer = f\"../../../data/set-a/{validationEcgFile}.txt\",\n",
    "\t\tnames \t\t\t   = ecgHeaders,\n",
    "\t\tindex_col \t\t   = 0\n",
    "\t)\n",
    "\n",
    "\tecgDf = preprocessing(ecgDf)\n",
    "\n",
    "\txValidation = ecgDf[ecgFeatures]\n",
    "\tyValidation = ecgDf[ecgTarget]\n",
    "\n",
    "\txValidationAll.extend(xValidation.values)\n",
    "\tyValidationAll.extend(yValidation.values)\n",
    "\n",
    "\tdel ecgDf\n",
    "\n",
    "xValidationAll = np.array(xValidationAll)\n",
    "yValidationAll = np.array(yValidationAll)"
   ]
  },
  {
   "cell_type": "markdown",
   "metadata": {},
   "source": [
    "Normalization"
   ]
  },
  {
   "cell_type": "code",
   "execution_count": null,
   "metadata": {},
   "outputs": [],
   "source": [
    "scaler = StandardScaler()"
   ]
  },
  {
   "cell_type": "code",
   "execution_count": null,
   "metadata": {},
   "outputs": [],
   "source": [
    "xTrainScaled      = scaler.fit_transform(xTrainAll)\n",
    "xValidationScaled = scaler.transform(xValidationAll)"
   ]
  },
  {
   "cell_type": "markdown",
   "metadata": {},
   "source": [
    "# Training"
   ]
  },
  {
   "cell_type": "code",
   "execution_count": null,
   "metadata": {},
   "outputs": [],
   "source": [
    "linearModel = LinearRegression()"
   ]
  },
  {
   "cell_type": "code",
   "execution_count": null,
   "metadata": {
    "notebookRunGroups": {
     "groupValue": "2"
    }
   },
   "outputs": [],
   "source": [
    "linearModel.fit(xTrainScaled, yTrainAll)"
   ]
  },
  {
   "cell_type": "code",
   "execution_count": null,
   "metadata": {
    "notebookRunGroups": {
     "groupValue": "1"
    }
   },
   "outputs": [],
   "source": [
    "print(\"Coeficientes: \")\n",
    "print(np.round(linearModel.coef_, 3))\n",
    "print(np.round(linearModel.intercept_, 3))"
   ]
  },
  {
   "cell_type": "markdown",
   "metadata": {},
   "source": [
    "# Validation"
   ]
  },
  {
   "cell_type": "code",
   "execution_count": null,
   "metadata": {
    "notebookRunGroups": {
     "groupValue": "1"
    }
   },
   "outputs": [],
   "source": [
    "yPredicted = linearModel.predict(xValidationScaled)\n",
    "\n",
    "r2Validation = r2_score(\n",
    "\ty_true \t\t= yValidationAll, \n",
    "\ty_pred \t\t= yPredicted,\n",
    "\tmultioutput = \"raw_values\"\n",
    ")\n",
    "r2Validation = np.round(r2Validation, 3)\n",
    "r2Validation = r2Validation.tolist()\n",
    "\n",
    "print(\"R² Labels: \", ecgTarget)\n",
    "print(\"R² Values:\", r2Validation)"
   ]
  },
  {
   "cell_type": "markdown",
   "metadata": {
    "notebookRunGroups": {
     "groupValue": "1"
    }
   },
   "source": [
    "# Ploting"
   ]
  },
  {
   "cell_type": "code",
   "execution_count": null,
   "metadata": {},
   "outputs": [],
   "source": [
    "def plotECG(ecg, headers, colors): \n",
    "\tfigure, axes = plt.subplots(\n",
    "\t\tnrows = 3,\n",
    "\t\tncols = 4,\n",
    "\t\tsharex = True,\n",
    "\t\tfigsize = (16, 9)\n",
    "\t)\n",
    "\n",
    "\tfigure.suptitle(\"ECG 12-Lead\")\n",
    "\tfigure.supxlabel(\"Sample\")\n",
    "\tfigure.supylabel(\"Dpp\")\n",
    "\n",
    "\taxes = axes.flatten()\n",
    "\n",
    "\tfor idx, header in enumerate(headers):\n",
    "\t\taxes[idx].plot(ecg[header], color = colors[header])\n",
    "\t\taxes[idx].set_title(f\"{header}\")\n",
    "\t\n",
    "\n",
    "\tplt.tight_layout(pad = 1.5)\n",
    "\n",
    "\tplt.show()\n",
    "\n",
    "\tplt.close()"
   ]
  },
  {
   "cell_type": "code",
   "execution_count": null,
   "metadata": {},
   "outputs": [],
   "source": [
    "def comparativeFullEcgPlot(ecgOring, ecgRec, headers):\n",
    "\tfigure, axes = plt.subplots(\n",
    "\t\tnrows   = 3,\n",
    "\t\tncols   = 4,\n",
    "\t\tsharex  = True,\n",
    "\t\tfigsize = (16, 9)\n",
    "\t)\n",
    "\n",
    "\tfigure.suptitle(\"Comparison: ECG 12-Lead\")\n",
    "\tfigure.supxlabel(\"Sample\")\n",
    "\tfigure.supylabel(\"Dpp\")\n",
    "\n",
    "\taxes = axes.flatten()\n",
    "\n",
    "\tfor idx, header in enumerate(headers):\n",
    "\t\tcorr = np.round(ecgOring[header].corr(ecgRec[header]), 3)\n",
    "\t\tr2   = np.round(r2_score(ecgOring[header], ecgRec[header]), 3)\n",
    "\n",
    "\t\taxes[idx].plot(\n",
    "\t\t\tecgOring[header], \n",
    "\t\t\tcolor = \"blue\", \n",
    "\t\t\talpha = 0.75)\n",
    "\t\taxes[idx].plot(\n",
    "\t\t\tecgRec[header], \n",
    "\t\t\tcolor = \"red\", \n",
    "\t\t\talpha=0.75\n",
    "\t\t)\n",
    "\n",
    "\t\taxes[idx].set_title(f\"{header} CORR = {corr} R² = {r2}\")\n",
    "\t\n",
    "\n",
    "\tplt.tight_layout(pad = 1.5)\n",
    "\n",
    "\tplt.show()\n",
    "\n",
    "\tplt.close()"
   ]
  },
  {
   "cell_type": "code",
   "execution_count": null,
   "metadata": {},
   "outputs": [],
   "source": [
    "ecgSampleDf = pd.read_csv(\n",
    "\tfilepath_or_buffer = f\"../../../samples/1031414.txt\",\n",
    "\tnames \t\t\t   = ecgHeaders,\n",
    "\tindex_col \t\t   = 0\n",
    ")"
   ]
  },
  {
   "cell_type": "code",
   "execution_count": null,
   "metadata": {},
   "outputs": [],
   "source": [
    "ecgSampleDf = preprocessing(ecgSampleDf)"
   ]
  },
  {
   "cell_type": "code",
   "execution_count": null,
   "metadata": {},
   "outputs": [],
   "source": [
    "plotECG(\n",
    "    ecg     = ecgSampleDf,  \n",
    "    headers = ecgPlotHeaders, \n",
    "    colors  = ecgPlotColors\n",
    ")"
   ]
  },
  {
   "cell_type": "code",
   "execution_count": null,
   "metadata": {},
   "outputs": [],
   "source": [
    "xFeaturesSampleEcgDf = ecgSampleDf[ecgFeatures]\n",
    "yTargetSampleEcg = ecgSampleDf[ecgTarget].values\n",
    "\n",
    "ecgSampleTargetPredicted = linearModel.predict(\n",
    "\tX = scaler.transform(\n",
    "\t\tX = xFeaturesSampleEcgDf.values\n",
    "\t)\n",
    ")"
   ]
  },
  {
   "cell_type": "code",
   "execution_count": null,
   "metadata": {},
   "outputs": [],
   "source": [
    "ecgSampleTargetPredictedDf = pd.DataFrame(\n",
    "\tdata    = ecgSampleTargetPredicted,\n",
    "\tcolumns = ecgTarget,\n",
    "\tindex   = ecgSampleDf.index\n",
    ")"
   ]
  },
  {
   "cell_type": "code",
   "execution_count": null,
   "metadata": {},
   "outputs": [],
   "source": [
    "ecgSampleRecDf = pd.concat([\n",
    "\txFeaturesSampleEcgDf,\n",
    "\tecgSampleTargetPredictedDf     \n",
    "], axis = 1)\n"
   ]
  },
  {
   "cell_type": "code",
   "execution_count": null,
   "metadata": {},
   "outputs": [],
   "source": [
    "plotECG(\n",
    "    ecg     = ecgSampleRecDf,\n",
    "    headers = ecgPlotHeaders,\n",
    "    colors  = ecgPlotColors\n",
    ")"
   ]
  },
  {
   "cell_type": "code",
   "execution_count": null,
   "metadata": {},
   "outputs": [],
   "source": [
    "comparativeFullEcgPlot(\n",
    "\tecgOring = ecgSampleDf,\n",
    "\tecgRec   = ecgSampleRecDf,\n",
    "    headers  = ecgPlotHeaders\n",
    ")"
   ]
  },
  {
   "cell_type": "code",
   "execution_count": null,
   "metadata": {},
   "outputs": [],
   "source": [
    "viewport = slice(1000, 1500)"
   ]
  },
  {
   "cell_type": "code",
   "execution_count": null,
   "metadata": {},
   "outputs": [],
   "source": [
    "comparativeFullEcgPlot(\n",
    "\tecgOring = ecgSampleDf[viewport],\n",
    "\tecgRec   = ecgSampleRecDf[viewport],\n",
    "    headers  = ecgPlotHeaders\n",
    ")"
   ]
  },
  {
   "cell_type": "markdown",
   "metadata": {},
   "source": [
    "# Save Model"
   ]
  },
  {
   "cell_type": "code",
   "execution_count": null,
   "metadata": {},
   "outputs": [],
   "source": [
    "joblib.dump(\n",
    "\tvalue    = linearModel,\n",
    "\tfilename = \"../../../models/t0/reglin-t0-v0.pkl\"\n",
    ")\n",
    "\n",
    "joblib.dump(\n",
    "\tvalue    = scaler,\n",
    "\tfilename = \"../../../models/t0/reglin-t0-v0.scaler.pkl\"\n",
    ")"
   ]
  }
 ],
 "metadata": {
  "kernelspec": {
   "display_name": ".venv",
   "language": "python",
   "name": "python3"
  },
  "language_info": {
   "codemirror_mode": {
    "name": "ipython",
    "version": 3
   },
   "file_extension": ".py",
   "mimetype": "text/x-python",
   "name": "python",
   "nbconvert_exporter": "python",
   "pygments_lexer": "ipython3",
   "version": "3.10.15"
  }
 },
 "nbformat": 4,
 "nbformat_minor": 2
}
