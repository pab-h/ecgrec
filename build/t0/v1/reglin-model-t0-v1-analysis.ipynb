{
 "cells": [
  {
   "cell_type": "markdown",
   "id": "8498d2f2",
   "metadata": {},
   "source": [
    "# Libraries"
   ]
  },
  {
   "cell_type": "code",
   "execution_count": null,
   "id": "31df3f96",
   "metadata": {},
   "outputs": [],
   "source": [
    "import h5py\n",
    "import torch\n",
    "\n",
    "from torch.utils.data import Dataset\n",
    "from torch.utils.data import DataLoader\n",
    "from sklearn.metrics  import r2_score\n",
    "from glob             import glob\n",
    "\n",
    "import matplotlib.pyplot as plt\n",
    "import scipy.signal      as signal\n",
    "import scipy.stats \t\t as stats\n",
    "import torch.nn          as nn\n",
    "import numpy  \t\t\t as np\n",
    "import pandas \t\t     as pd\n"
   ]
  },
  {
   "cell_type": "markdown",
   "id": "59b7ba4b",
   "metadata": {},
   "source": [
    "# ECG Definitions"
   ]
  },
  {
   "cell_type": "markdown",
   "id": "7a3ca37f",
   "metadata": {},
   "source": [
    "ECG metadata"
   ]
  },
  {
   "cell_type": "code",
   "execution_count": null,
   "id": "cde0b86c",
   "metadata": {},
   "outputs": [],
   "source": [
    "samplingFrequency = 400"
   ]
  },
  {
   "cell_type": "markdown",
   "id": "478def16",
   "metadata": {},
   "source": [
    "ECG file headers"
   ]
  },
  {
   "cell_type": "code",
   "execution_count": null,
   "id": "ec15eb40",
   "metadata": {},
   "outputs": [],
   "source": [
    "ecgHeaders = [\n",
    "\t\"LI\", \n",
    "\t\"LII\", \n",
    "\t\"LIII\", \n",
    "\t\"aVR\", \n",
    "\t\"aVL\",\n",
    "\t\"aVF\", \n",
    "\t\"V1\",\n",
    "\t\"V2\",\n",
    "\t\"V3\",\n",
    "\t\"V4\",\n",
    "\t\"V5\",\n",
    "\t\"V6\"\n",
    "]"
   ]
  },
  {
   "cell_type": "markdown",
   "id": "53449fa3",
   "metadata": {},
   "source": [
    "ECG plot definitions"
   ]
  },
  {
   "cell_type": "code",
   "execution_count": null,
   "id": "b1032cce",
   "metadata": {},
   "outputs": [],
   "source": [
    "ecgPlotHeaders = [\n",
    "\t\"LI\", \"aVR\", \"V1\", \"V4\",\n",
    "\t\"LII\", \"aVL\", \"V2\", \"V5\",\n",
    "\t\"LIII\", \"aVF\", \"V3\", \"V6\"\n",
    "]\n",
    "\n",
    "ecgPlotColors = {\n",
    "\t\"LI\":   \"seagreen\",\n",
    "\t\"aVR\":  \"black\",\n",
    "\t\"V1\":   \"gold\",\n",
    "\t\"V4\":   \"orangered\",\n",
    "\t\"LII\":  \"cornflowerblue\",\n",
    "\t\"aVL\":  \"seagreen\",\n",
    "\t\"V2\":   \"gold\",\n",
    "\t\"V5\":   \"crimson\",\n",
    "\t\"LIII\": \"cornflowerblue\",\n",
    "\t\"aVF\":  \"cornflowerblue\",\n",
    "\t\"V3\":   \"orangered\",\n",
    "\t\"V6\":   \"crimson\"\n",
    "}"
   ]
  },
  {
   "cell_type": "markdown",
   "id": "d29b9e79",
   "metadata": {},
   "source": [
    "# The Dataset: CODE-15"
   ]
  },
  {
   "cell_type": "markdown",
   "id": "d4302025",
   "metadata": {},
   "source": [
    "Metadata"
   ]
  },
  {
   "cell_type": "code",
   "execution_count": null,
   "id": "07d000cb",
   "metadata": {},
   "outputs": [],
   "source": [
    "dataFolder = \"../../../data/CODE15/hdf5/\""
   ]
  },
  {
   "cell_type": "code",
   "execution_count": null,
   "id": "242a22d2",
   "metadata": {},
   "outputs": [],
   "source": [
    "ecgFeatures = [\n",
    "\t\"LI\", \n",
    "\t\"aVF\", \n",
    "\t\"V2\"\n",
    "]\n",
    "\n",
    "ecgFeaturesIndexes = [ecgHeaders.index(derivation) for derivation in ecgFeatures]\n",
    "ecgFeaturesIndexes"
   ]
  },
  {
   "cell_type": "code",
   "execution_count": null,
   "id": "d20f960b",
   "metadata": {},
   "outputs": [],
   "source": [
    "ecgTarget = [\n",
    "\t\"LII\", \n",
    "\t\"LIII\", \n",
    "\t\"aVR\", \n",
    "\t\"aVL\",\n",
    "\t\"V1\",\n",
    "\t\"V3\",\n",
    "\t\"V4\",\n",
    "\t\"V5\",\n",
    "\t\"V6\"\n",
    "]\n",
    "\n",
    "ecgTargetIndexes = [ecgHeaders.index(derivation) for derivation in ecgTarget]\n",
    "ecgTargetIndexes"
   ]
  },
  {
   "cell_type": "markdown",
   "id": "81933fbc",
   "metadata": {},
   "source": [
    "Dataset class"
   ]
  },
  {
   "cell_type": "code",
   "execution_count": null,
   "id": "abcf948c",
   "metadata": {},
   "outputs": [],
   "source": [
    "class Code15Dataset(Dataset):\n",
    "\tdef __init__(self, hdf5Files, features, target, transform):\n",
    "\t\t\n",
    "\t\tsuper().__init__()\n",
    "\t\t\n",
    "\t\tself.hdf5Files = hdf5Files\n",
    "\t\tself.indexMap  = []\n",
    "\t\tself.features  = features\n",
    "\t\tself.target    = target\n",
    "\t\tself.transform = transform\n",
    "\n",
    "\n",
    "\t\tfor fileIndex, path in enumerate(self.hdf5Files):\n",
    "\t\t\t\n",
    "\t\t\twith h5py.File(path, \"r\") as f:\n",
    "\t\t\t\tsamplesCount = f['exam_id'].shape[0]\n",
    "\t\t\t\t\n",
    "\t\t\t\tself.indexMap.extend([(fileIndex, i) for i in range(samplesCount)])\n",
    "\n",
    "\tdef __len__(self):\n",
    "\t\treturn len(self.indexMap)\n",
    "\n",
    "\tdef __getitem__(self, idx):\n",
    "\n",
    "\t\tfileIndex, examIdx = self.indexMap[idx]\n",
    "\t\thdf5File           = self.hdf5Files[fileIndex]\n",
    "\n",
    "\t\twith h5py.File(hdf5File, \"r\") as file:\n",
    "\t\t\ttracing = np.array(file['tracings'][examIdx])\n",
    "\n",
    "\t\ttracing = self.transform(tracing)\n",
    "\n",
    "\t\tX = tracing[:, self.features]\n",
    "\t\tX = torch.tensor(X, dtype = torch.float32)\n",
    "\n",
    "\t\tY = tracing[:, self.target]\n",
    "\t\tY = torch.tensor(Y, dtype = torch.float32)\n",
    "\n",
    "\t\treturn X, Y\n"
   ]
  },
  {
   "cell_type": "markdown",
   "id": "844da6fd",
   "metadata": {},
   "source": [
    "Transform Function\n",
    "\n",
    "- highpass butterworth filter with $ f_c = 1$ Hz\n",
    "- Truncation in the tails of $ N = 600  $ samples\n",
    "- Gain of 5\n",
    "- Normalization with z-score"
   ]
  },
  {
   "cell_type": "code",
   "execution_count": null,
   "id": "0e4107db",
   "metadata": {},
   "outputs": [],
   "source": [
    "def transform(ecg):\n",
    "\tb, a = signal.butter(\n",
    "\t\tN     = 1, \n",
    "\t\tWn    = 1, \n",
    "\t\tbtype = 'high', \n",
    "\t\tfs    = samplingFrequency\n",
    "\t)\n",
    "\t\n",
    "\tecgFiltred  = signal.filtfilt(b, a, ecg, axis = 0)\n",
    "\tecgWithGain = 5 * ecgFiltred\n",
    "\tecgClean    = ecgWithGain[600: -600, :]\n",
    "\n",
    "\tecgMean = np.mean(ecgClean, axis = 0, keepdims = True)\n",
    "\tecgStd  = np.std(ecgClean,  axis = 0, keepdims = True) + 1e-8\n",
    "\n",
    "\tecgNormalized = (ecgClean - ecgMean) / ecgStd\n",
    "\n",
    "\treturn ecgNormalized\n"
   ]
  },
  {
   "cell_type": "code",
   "execution_count": null,
   "id": "c3a0f82a",
   "metadata": {},
   "outputs": [],
   "source": [
    "dataset = Code15Dataset(\n",
    "\thdf5Files = glob(f\"{dataFolder}/*.hdf5\")[:-9],\n",
    "\tfeatures  = ecgFeaturesIndexes,\n",
    "\ttarget    = ecgTargetIndexes,\t\n",
    "\ttransform = transform\n",
    ")"
   ]
  },
  {
   "cell_type": "code",
   "execution_count": null,
   "id": "31fad8fe",
   "metadata": {},
   "outputs": [],
   "source": [
    "len(dataset)"
   ]
  },
  {
   "cell_type": "markdown",
   "id": "905561cf",
   "metadata": {},
   "source": [
    "Dataloader"
   ]
  },
  {
   "cell_type": "code",
   "execution_count": null,
   "id": "f8e1e9ae",
   "metadata": {},
   "outputs": [],
   "source": [
    "dataloader = DataLoader(\n",
    "\tdataset     = dataset,\n",
    "\tbatch_size  = 1,\n",
    "\tshuffle     = False,\n",
    "\tnum_workers = 4\n",
    "\n",
    ")"
   ]
  },
  {
   "cell_type": "markdown",
   "id": "2afa69e0",
   "metadata": {},
   "source": [
    "# Model loading"
   ]
  },
  {
   "cell_type": "code",
   "execution_count": null,
   "id": "86f47682",
   "metadata": {},
   "outputs": [],
   "source": [
    "class ECGReconstructor(nn.Module):\n",
    "\tdef __init__(self):\n",
    "\t\tsuper().__init__()\n",
    "\n",
    "\t\tself.linear = nn.Linear(\n",
    "\t\t\tin_features  = 3,\n",
    "\t\t\tout_features = 9\n",
    "\t\t)\n",
    "\n",
    "\tdef forward(self, X):\n",
    "\t\treturn self.linear(X)"
   ]
  },
  {
   "cell_type": "code",
   "execution_count": null,
   "id": "b6b56666",
   "metadata": {},
   "outputs": [],
   "source": [
    "device = torch.device(\"cuda\" if torch.cuda.is_available() else \"cpu\")\n",
    "model  = ECGReconstructor().to(device)\n",
    "\n",
    "model.load_state_dict(\n",
    "    torch.load(\n",
    "        \"../../../models/t0/reglin-t0-v1.pth\", \n",
    "        weights_only = True\n",
    "    )\n",
    ")\n",
    "\n",
    "model"
   ]
  },
  {
   "cell_type": "markdown",
   "id": "4224aa6f",
   "metadata": {},
   "source": [
    "# Graphical analysis of reconstruction performance"
   ]
  },
  {
   "cell_type": "code",
   "execution_count": null,
   "id": "3dba2d57",
   "metadata": {},
   "outputs": [],
   "source": [
    "r2Scores = pd.DataFrame(\n",
    "    columns = ecgTarget,\n",
    "    index   = range(len(dataset))\n",
    ")\n",
    "\n",
    "correlations = pd.DataFrame(\n",
    "    columns = ecgTarget,\n",
    "    index   = range(len(dataset))\n",
    ")"
   ]
  },
  {
   "cell_type": "markdown",
   "id": "dcbfb09c",
   "metadata": {},
   "source": [
    "Calculating Pearson Correlations and r2 score for each ECG"
   ]
  },
  {
   "cell_type": "code",
   "execution_count": null,
   "id": "a7326c48",
   "metadata": {},
   "outputs": [],
   "source": [
    "model.eval()\n",
    "\n",
    "with torch.no_grad():\n",
    "\tfor i, (X, Y) in enumerate(dataloader):\n",
    "\t\tX, Y       =  X.to(device), Y.to(device)\n",
    "\t\tprediction =  model(X)\n",
    "\n",
    "\t\tprediction = prediction.cpu()[0]\n",
    "\t\tY \t\t   = Y.cpu()[0]\n",
    "\n",
    "\t\tr2Row   = pd.DataFrame(columns = ecgTarget)\n",
    "\t\tcorrRow = pd.DataFrame(columns = ecgTarget)\n",
    "\n",
    "\t\tfor j, derivation in enumerate(ecgTarget):\n",
    "\n",
    "\t\t\tr2Row[derivation] = [r2_score(\n",
    "\t\t\t\ty_true = Y[:, j],\n",
    "\t\t\t\ty_pred = prediction[:, j]\n",
    "\t\t\t)]\n",
    "\n",
    "\t\t\tcorrRow[derivation] = [stats.pearsonr(\n",
    "\t\t\t\tx = Y[:, j],\n",
    "\t\t\t\ty = prediction[:, j]\n",
    "\t\t\t).statistic]\n",
    "\n",
    "\t\tr2Scores.iloc[i]     = r2Row\n",
    "\t\tcorrelations.iloc[i] = corrRow"
   ]
  },
  {
   "cell_type": "markdown",
   "id": "6ce8b1c4",
   "metadata": {},
   "source": [
    "Description of statistical measures"
   ]
  },
  {
   "cell_type": "code",
   "execution_count": null,
   "id": "37b64319",
   "metadata": {},
   "outputs": [],
   "source": [
    "r2Scores = r2Scores.dropna()\n",
    "r2Scores.describe()"
   ]
  },
  {
   "cell_type": "code",
   "execution_count": null,
   "id": "33e4fd0c",
   "metadata": {},
   "outputs": [],
   "source": [
    "correlations = correlations.dropna()\n",
    "correlations.describe()"
   ]
  },
  {
   "cell_type": "markdown",
   "id": "20abfbd2",
   "metadata": {},
   "source": [
    "The comparative plot function"
   ]
  },
  {
   "cell_type": "code",
   "execution_count": null,
   "id": "584d681a",
   "metadata": {},
   "outputs": [],
   "source": [
    "def methodComparativePlot(df, derivation, method):\n",
    "\tdfMean = np.mean(df[derivation])\n",
    "\tdfMean = np.round(dfMean, 3)\n",
    "\n",
    "\tfigure, axes = plt.subplots(nrows = 1, ncols = 2, figsize = (12, 6))\n",
    "\n",
    "\taxes[0].set_title(f\"{method}($ {derivation} $, $ {derivation}_{{rec}} $)\")\n",
    "\taxes[1].set_title(f\"Histograma - {method}($ {derivation} $, $ {derivation}_{{rec}} $)\")\n",
    "\n",
    "\taxes[0].set_xlabel(\"n\")\n",
    "\taxes[0].set_ylabel(f\"{method}\")\n",
    "\t\n",
    "\taxes[1].set_xlabel(f\"{method}\")\n",
    "\taxes[1].set_ylabel(\"Frequência\")\n",
    "\n",
    "\n",
    "\taxes[0].scatter(\n",
    "\t\tdf.index, \n",
    "\t\tdf[derivation]\n",
    "\t)\n",
    "\taxes[0].axhline(\n",
    "\t\tdfMean, \n",
    "\t\tcolor     = 'r', \n",
    "\t\tlinestyle = '--', \n",
    "\t\tlabel     = f\"Média = {dfMean}\"\n",
    "\t)\n",
    "\n",
    "\n",
    "\tcounts, bins = np.histogram(df[derivation], 50)\n",
    "\taxes[1].stairs(counts / len(df[derivation]), bins, fill = True)\n",
    "\taxes[1].axvline(\n",
    "\t\tdfMean, \n",
    "\t\tcolor     = 'r', \n",
    "\t\tlinestyle = '--', \n",
    "\t\tlabel     = f\"Média = {dfMean}\"\n",
    "\t)\n",
    "\n",
    "\taxes[1].legend()\n",
    "\taxes[0].legend()\n",
    "\n",
    "\tplt.show()\n",
    "\n",
    "\tplt.close()"
   ]
  },
  {
   "cell_type": "markdown",
   "id": "ec82f0e8",
   "metadata": {},
   "source": [
    "## Results"
   ]
  },
  {
   "cell_type": "code",
   "execution_count": null,
   "id": "027b089f",
   "metadata": {},
   "outputs": [],
   "source": [
    "for derivation in ecgTarget:\n",
    "\tmethodComparativePlot(r2Scores, derivation, \"R²\")"
   ]
  },
  {
   "cell_type": "code",
   "execution_count": null,
   "id": "ad6b8dcd",
   "metadata": {},
   "outputs": [],
   "source": [
    "for derivation in ecgTarget:\n",
    "\tmethodComparativePlot(correlations, derivation, \"CORR\")"
   ]
  }
 ],
 "metadata": {
  "kernelspec": {
   "display_name": ".venv",
   "language": "python",
   "name": "python3"
  },
  "language_info": {
   "codemirror_mode": {
    "name": "ipython",
    "version": 3
   },
   "file_extension": ".py",
   "mimetype": "text/x-python",
   "name": "python",
   "nbconvert_exporter": "python",
   "pygments_lexer": "ipython3",
   "version": "3.10.15"
  }
 },
 "nbformat": 4,
 "nbformat_minor": 5
}
