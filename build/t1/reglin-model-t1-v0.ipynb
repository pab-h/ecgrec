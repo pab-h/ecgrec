{
 "cells": [
  {
   "cell_type": "markdown",
   "metadata": {},
   "source": [
    "# Libraries"
   ]
  },
  {
   "cell_type": "code",
   "execution_count": null,
   "metadata": {},
   "outputs": [],
   "source": [
    "import pandas \t\t\t as pd\n",
    "import numpy \t\t\t as np\n",
    "import matplotlib.pyplot as plt\n",
    "\n",
    "import scipy.signal as signal\n",
    "\n",
    "from sklearn.preprocessing   import StandardScaler\n",
    "from sklearn.model_selection import train_test_split\n",
    "from sklearn.metrics \t\t import root_mean_squared_error\n",
    "from sklearn.linear_model \t import LinearRegression\n",
    "\n",
    "import joblib\n"
   ]
  },
  {
   "cell_type": "markdown",
   "metadata": {},
   "source": [
    "# ECG Definitions"
   ]
  },
  {
   "cell_type": "markdown",
   "metadata": {},
   "source": [
    "ECG file headers"
   ]
  },
  {
   "cell_type": "code",
   "execution_count": null,
   "metadata": {},
   "outputs": [],
   "source": [
    "ecgHeaders = [\n",
    "\t\"sample\",\n",
    "\t\"LI\", \n",
    "\t\"LII\", \n",
    "\t\"LIII\", \n",
    "\t\"aVR\", \n",
    "\t\"aVL\",\n",
    "\t\"aVF\", \n",
    "\t\"V1\",\n",
    "\t\"V2\",\n",
    "\t\"V3\",\n",
    "\t\"V4\",\n",
    "\t\"V5\",\n",
    "\t\"V6\"\n",
    "]"
   ]
  },
  {
   "cell_type": "markdown",
   "metadata": {},
   "source": [
    "ECG plot definitions"
   ]
  },
  {
   "cell_type": "code",
   "execution_count": null,
   "metadata": {},
   "outputs": [],
   "source": [
    "ecgPlotHeaders = [\n",
    "    \"LI\", \"aVR\", \"V1\", \"V4\",\n",
    "\t\"LII\", \"aVL\", \"V2\", \"V5\",\n",
    "\t\"LIII\", \"aVF\", \"V3\", \"V6\"\n",
    "]\n",
    "\n",
    "ecgPlotColors = {\n",
    "\t\"LI\":   \"seagreen\",\n",
    "\t\"aVR\":  \"black\",\n",
    "\t\"V1\":   \"gold\",\n",
    "\t\"V4\":   \"orangered\",\n",
    "\t\"LII\":  \"cornflowerblue\",\n",
    "\t\"aVL\":  \"seagreen\",\n",
    "\t\"V2\":   \"gold\",\n",
    "\t\"V5\":   \"crimson\",\n",
    "\t\"LIII\": \"cornflowerblue\",\n",
    "\t\"aVF\":  \"cornflowerblue\",\n",
    "\t\"V3\":   \"orangered\",\n",
    "\t\"V6\":   \"crimson\"\n",
    "}"
   ]
  },
  {
   "cell_type": "markdown",
   "metadata": {},
   "source": [
    "Loading ECGs labeled as acceptable"
   ]
  },
  {
   "cell_type": "code",
   "execution_count": null,
   "metadata": {},
   "outputs": [],
   "source": [
    "ecgsDataset = []\n",
    "\n",
    "with open(\"../../data/labels/RECORDS-acceptable\") as file:\n",
    "\tecgsDataset = map(\n",
    "\t\tlambda ecgName: ecgName.strip(), \n",
    "\t\tfile.readlines()\n",
    "\t)\n",
    "\tecgsDataset = list(ecgsDataset) \n",
    "\n",
    "\tprint(\"Dataset len =\", len(ecgsDataset))"
   ]
  },
  {
   "cell_type": "markdown",
   "metadata": {},
   "source": [
    "Split dataset"
   ]
  },
  {
   "cell_type": "code",
   "execution_count": null,
   "metadata": {},
   "outputs": [],
   "source": [
    "trainEcgs, validationEcgs = train_test_split(\n",
    "\tecgsDataset, \n",
    "\ttrain_size = .70, \n",
    "\ttest_size = .30\n",
    ")\n",
    "\n",
    "print(\"Train dataset len =\",     len(trainEcgs))\n",
    "print(\"Validation dataset le =\", len(validationEcgs))"
   ]
  },
  {
   "cell_type": "markdown",
   "metadata": {},
   "source": [
    "# Linear Regression Definitions"
   ]
  },
  {
   "cell_type": "markdown",
   "metadata": {},
   "source": [
    "Features Vector"
   ]
  },
  {
   "cell_type": "code",
   "execution_count": null,
   "metadata": {},
   "outputs": [],
   "source": [
    "ecgFeatures = [\n",
    "\t\"LII\", \n",
    "\t\"Z\"  , # Z = -0,5 * V2 \n",
    "\t\"V6\" , \n",
    "]"
   ]
  },
  {
   "cell_type": "markdown",
   "metadata": {},
   "source": [
    "Target Vector"
   ]
  },
  {
   "cell_type": "code",
   "execution_count": null,
   "metadata": {},
   "outputs": [],
   "source": [
    "ecgTarget = [\n",
    "\t\"LI\", \n",
    "\t\"LIII\", \n",
    "\t\"aVR\", \n",
    "\t\"aVL\",\n",
    "\t\"aVF\", \n",
    "\t\"V1\",\n",
    "\t\"V3\",\n",
    "\t\"V4\",\n",
    "\t\"V5\",\n",
    "]"
   ]
  },
  {
   "cell_type": "markdown",
   "metadata": {},
   "source": [
    "# Preprocessing Dataset"
   ]
  },
  {
   "cell_type": "markdown",
   "metadata": {},
   "source": [
    "ECG preprocessing function"
   ]
  },
  {
   "cell_type": "markdown",
   "metadata": {},
   "source": [
    "- highpass butterworth filter with $ f_c = 1$ Hz\n",
    "- Truncation in the tails of $N = 500$ samples"
   ]
  },
  {
   "cell_type": "code",
   "execution_count": null,
   "metadata": {},
   "outputs": [],
   "source": [
    "order = 2\n",
    "fc    = 1\n",
    "fs    = 500\n",
    "\n",
    "b, a = signal.butter(\n",
    "\tN \t  = order,\n",
    "\tWn \t  = fc,\n",
    "\tbtype = \"highpass\",\n",
    "\tfs \t  = fs\n",
    ")\n",
    "\n",
    "print(\"Numerator: \",   b)\n",
    "print(\"Denominator: \", a)"
   ]
  },
  {
   "cell_type": "code",
   "execution_count": null,
   "metadata": {},
   "outputs": [],
   "source": [
    "def preprocessing(ecgDf):\n",
    "\tecgClean      = ecgDf.apply(\n",
    "\t\tlambda column: signal.filtfilt(b, a, column), \n",
    "\t\taxis = 0\n",
    "\t)\n",
    "\tecgClean      = ecgClean.iloc[500: -500]\n",
    "\tecgClean[\"Z\"] = -0.5 * ecgClean[\"V2\"]\n",
    "\n",
    "\treturn ecgClean"
   ]
  },
  {
   "cell_type": "markdown",
   "metadata": {},
   "source": [
    "Load and preprocessing dataset"
   ]
  },
  {
   "cell_type": "code",
   "execution_count": null,
   "metadata": {},
   "outputs": [],
   "source": [
    "xTrainAll = []\n",
    "yTrainAll = []\n",
    "\n",
    "for trainEcgFile in trainEcgs:\n",
    "\tecg = pd.read_csv(\n",
    "\t\tfilepath_or_buffer = f\"../../data/set-a/{trainEcgFile}.txt\",\n",
    "\t\tnames = ecgHeaders,\n",
    "\t\tindex_col = 0\n",
    "\t)\n",
    "\n",
    "\tecgClean = preprocessing(ecg)\n",
    "\t\n",
    "\txTrain = ecgClean[ecgFeatures]\n",
    "\tyTrain = ecgClean[ecgTarget]\n",
    "\t\n",
    "\txTrainAll.extend(xTrain.values)\n",
    "\tyTrainAll.extend(yTrain.values)"
   ]
  },
  {
   "cell_type": "code",
   "execution_count": null,
   "metadata": {},
   "outputs": [],
   "source": [
    "xValidationAll = []\n",
    "yValidationAll = []\n",
    "\n",
    "for validationEcgFile in validationEcgs:\n",
    "\tecg = pd.read_csv(\n",
    "\t\tfilepath_or_buffer = f\"../../data/set-a/{validationEcgFile}.txt\",\n",
    "\t\tnames = ecgHeaders,\n",
    "\t\tindex_col = 0\n",
    "\t)\n",
    "\n",
    "\tecgClean = preprocessing(ecg)\n",
    "\n",
    "\txValidation = ecgClean[ecgFeatures]\n",
    "\tyValidation = ecgClean[ecgTarget]\n",
    "\n",
    "\txValidationAll.extend(xValidation.values)\n",
    "\tyValidationAll.extend(yValidation.values)"
   ]
  },
  {
   "cell_type": "markdown",
   "metadata": {},
   "source": [
    "Normalization"
   ]
  },
  {
   "cell_type": "code",
   "execution_count": null,
   "metadata": {},
   "outputs": [],
   "source": [
    "scaler = StandardScaler()"
   ]
  },
  {
   "cell_type": "code",
   "execution_count": null,
   "metadata": {},
   "outputs": [],
   "source": [
    "xTrainScaled      = scaler.fit_transform(xTrainAll)\n",
    "xValidationScaled = scaler.transform(xValidationAll)"
   ]
  },
  {
   "cell_type": "markdown",
   "metadata": {},
   "source": [
    "# Training"
   ]
  },
  {
   "cell_type": "code",
   "execution_count": null,
   "metadata": {},
   "outputs": [],
   "source": [
    "linearModel = LinearRegression()"
   ]
  },
  {
   "cell_type": "code",
   "execution_count": null,
   "metadata": {
    "notebookRunGroups": {
     "groupValue": "2"
    }
   },
   "outputs": [],
   "source": [
    "linearModel.fit(xTrainScaled, yTrainAll)"
   ]
  },
  {
   "cell_type": "code",
   "execution_count": null,
   "metadata": {
    "notebookRunGroups": {
     "groupValue": "1"
    }
   },
   "outputs": [],
   "source": [
    "print(\"Coefficients: \")\n",
    "print(np.round(linearModel.coef_, 3))\n",
    "print(np.round(linearModel.intercept_, 3))"
   ]
  },
  {
   "cell_type": "markdown",
   "metadata": {},
   "source": [
    "# Validation"
   ]
  },
  {
   "cell_type": "code",
   "execution_count": null,
   "metadata": {
    "notebookRunGroups": {
     "groupValue": "1"
    }
   },
   "outputs": [],
   "source": [
    "yPredicted = linearModel.predict(xValidationScaled)\n",
    "\n",
    "rmseValidation = root_mean_squared_error(\n",
    "\ty_true \t\t= yValidationAll, \n",
    "\ty_pred \t\t= yPredicted,\n",
    "\tmultioutput = \"raw_values\"\n",
    ")\n",
    "rmseValidation = np.round(rmseValidation, 3)\n",
    "rmseValidation = rmseValidation.tolist()\n",
    "\n",
    "rmseScores = pd.DataFrame(\n",
    "    columns = ecgTarget,\n",
    "    data    = [rmseValidation]\n",
    ")\n",
    "\n",
    "print(rmseScores)"
   ]
  },
  {
   "cell_type": "markdown",
   "metadata": {
    "notebookRunGroups": {
     "groupValue": "1"
    }
   },
   "source": [
    "# Ploting"
   ]
  },
  {
   "cell_type": "code",
   "execution_count": null,
   "metadata": {},
   "outputs": [],
   "source": [
    "def plotECG(ecg, headers, colors): \n",
    "\tfigure, axes = plt.subplots(\n",
    "\t\tnrows   = 3,\n",
    "\t\tncols   = 4,\n",
    "\t\tsharex  = True,\n",
    "\t\tfigsize = (16, 9)\n",
    "\t)\n",
    "\n",
    "\tfigure.suptitle(\"ECG 12-Lead\")\n",
    "\tfigure.supxlabel(\"Sample\")\n",
    "\tfigure.supylabel(\"Dpp\")\n",
    "\n",
    "\taxes = axes.flatten()\n",
    "\n",
    "\tfor idx, header in enumerate(headers):\n",
    "\t\taxes[idx].plot(ecg[header], color = colors[header])\n",
    "\t\taxes[idx].set_title(f\"{header}\")\n",
    "\t\n",
    "\n",
    "\tplt.tight_layout(pad = 1.5)\n",
    "\n",
    "\tplt.show()\n",
    "\n",
    "\tplt.close()"
   ]
  },
  {
   "cell_type": "code",
   "execution_count": null,
   "metadata": {},
   "outputs": [],
   "source": [
    "def comparativeFullEcgPlot(ecgOring, ecgRec, headers):\n",
    "\tfigure, axes = plt.subplots(\n",
    "\t\tnrows   = 3,\n",
    "\t\tncols   = 4,\n",
    "\t\tsharex  = True,\n",
    "\t\tfigsize = (16, 9)\n",
    "\t)\n",
    "\n",
    "\tfigure.suptitle(\"Comparison: ECG 12-Lead\")\n",
    "\tfigure.supxlabel(\"Sample\")\n",
    "\tfigure.supylabel(\"Dpp\")\n",
    "\n",
    "\taxes = axes.flatten()\n",
    "\n",
    "\tfor idx, header in enumerate(headers):\n",
    "\t\tcorr  = np.round(ecgOring[header].corr(ecgRec[header]), 3)\n",
    "\t\trmse  = np.round(root_mean_squared_error(ecgOring[header], ecgRec[header]), 3)\n",
    "\n",
    "\t\taxes[idx].plot(\n",
    "\t\t\tecgOring[header], \n",
    "\t\t\tcolor = \"blue\", \n",
    "\t\t\talpha = 0.75\n",
    "\t\t)\n",
    "\t\taxes[idx].plot(\n",
    "\t\t\tecgRec[header], \n",
    "\t\t\tcolor = \"red\", \n",
    "\t\t\talpha = 0.75\n",
    "\t\t)\n",
    "\n",
    "\t\taxes[idx].set_title(f\"{header} CORR = {corr} RMSE = {rmse}\")\n",
    "\t\n",
    "\n",
    "\tplt.tight_layout(pad = 1.5)\n",
    "\n",
    "\tplt.show()\n",
    "\n",
    "\tplt.close()"
   ]
  },
  {
   "cell_type": "markdown",
   "metadata": {},
   "source": [
    "Loading a ECG sample for reconstruction"
   ]
  },
  {
   "cell_type": "code",
   "execution_count": null,
   "metadata": {},
   "outputs": [],
   "source": [
    "ecgSampleDf = pd.read_csv(\n",
    "\tfilepath_or_buffer = f\"../../samples/1002867.txt\",\n",
    "\tnames \t\t\t   = ecgHeaders,\n",
    "\tindex_col \t\t   = 0\n",
    ")"
   ]
  },
  {
   "cell_type": "code",
   "execution_count": null,
   "metadata": {},
   "outputs": [],
   "source": [
    "ecgSampleDf = preprocessing(ecgSampleDf)"
   ]
  },
  {
   "cell_type": "markdown",
   "metadata": {},
   "source": [
    "Trying to reconstruct the ECG"
   ]
  },
  {
   "cell_type": "code",
   "execution_count": null,
   "metadata": {},
   "outputs": [],
   "source": [
    "xFeaturesSampleEcgDf = ecgSampleDf[ecgFeatures]\n",
    "yTargetSampleEcg = ecgSampleDf[ecgTarget].values\n",
    "\n",
    "ecgSampleTargetPredicted = linearModel.predict(\n",
    "\tX = scaler.transform(\n",
    "\t\tX = xFeaturesSampleEcgDf.values\n",
    "\t)\n",
    ")"
   ]
  },
  {
   "cell_type": "code",
   "execution_count": null,
   "metadata": {},
   "outputs": [],
   "source": [
    "ecgSampleTargetPredictedDf = pd.DataFrame(\n",
    "\tdata    = ecgSampleTargetPredicted,\n",
    "\tcolumns = ecgTarget,\n",
    "\tindex   = ecgSampleDf.index\n",
    ")"
   ]
  },
  {
   "cell_type": "code",
   "execution_count": null,
   "metadata": {},
   "outputs": [],
   "source": [
    "ecgSampleRecDf = pd.concat([\n",
    "\txFeaturesSampleEcgDf,\n",
    "\tecgSampleTargetPredictedDf     \n",
    "], axis = 1)\n"
   ]
  },
  {
   "cell_type": "code",
   "execution_count": null,
   "metadata": {},
   "outputs": [],
   "source": [
    "ecgSampleRecDf[\"V2\"] = ecgSampleDf[\"V2\"]"
   ]
  },
  {
   "cell_type": "markdown",
   "metadata": {},
   "source": [
    "Comparison between original and reconstructed ECG"
   ]
  },
  {
   "cell_type": "code",
   "execution_count": null,
   "metadata": {},
   "outputs": [],
   "source": [
    "comparativeFullEcgPlot(\n",
    "\tecgOring = ecgSampleDf,\n",
    "\tecgRec   = ecgSampleRecDf,\n",
    "    headers  = ecgPlotHeaders\n",
    ")"
   ]
  },
  {
   "cell_type": "markdown",
   "metadata": {},
   "source": [
    "Seeing a strip of reconstruction"
   ]
  },
  {
   "cell_type": "code",
   "execution_count": null,
   "metadata": {},
   "outputs": [],
   "source": [
    "viewport = slice(1000, 1500)"
   ]
  },
  {
   "cell_type": "code",
   "execution_count": null,
   "metadata": {},
   "outputs": [],
   "source": [
    "comparativeFullEcgPlot(\n",
    "\tecgOring = ecgSampleDf[viewport],\n",
    "\tecgRec   = ecgSampleRecDf[viewport],\n",
    "    headers  = ecgPlotHeaders\n",
    ")"
   ]
  },
  {
   "cell_type": "markdown",
   "metadata": {},
   "source": [
    "# Save Model"
   ]
  },
  {
   "cell_type": "code",
   "execution_count": null,
   "metadata": {},
   "outputs": [],
   "source": [
    "joblib.dump(\n",
    "\tvalue    = linearModel,\n",
    "\tfilename = \"../../models/t1/reglin-t1-v0.pkl\"\n",
    ")\n",
    "\n",
    "joblib.dump(\n",
    "\tvalue    = scaler,\n",
    "\tfilename = \"../../models/t1/reglin-t1-v0.scaler.pkl\"\n",
    ")"
   ]
  }
 ],
 "metadata": {
  "kernelspec": {
   "display_name": ".venv",
   "language": "python",
   "name": "python3"
  },
  "language_info": {
   "codemirror_mode": {
    "name": "ipython",
    "version": 3
   },
   "file_extension": ".py",
   "mimetype": "text/x-python",
   "name": "python",
   "nbconvert_exporter": "python",
   "pygments_lexer": "ipython3",
   "version": "3.10.15"
  }
 },
 "nbformat": 4,
 "nbformat_minor": 2
}
