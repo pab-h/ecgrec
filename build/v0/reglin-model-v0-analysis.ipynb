{
 "cells": [
  {
   "cell_type": "markdown",
   "id": "18361d16",
   "metadata": {},
   "source": [
    "# Libraries"
   ]
  },
  {
   "cell_type": "code",
   "execution_count": null,
   "id": "506c22fb",
   "metadata": {},
   "outputs": [],
   "source": [
    "import joblib\n",
    "\n",
    "import pandas \t\t\t as pd\n",
    "import numpy \t\t\t as np\n",
    "import matplotlib.pyplot as plt\n",
    "\n",
    "import scipy.signal \t as signal\n",
    "import scipy.stats \t\t as stats\n",
    "\n",
    "from sklearn.metrics import mean_squared_error"
   ]
  },
  {
   "cell_type": "markdown",
   "id": "87e02e57",
   "metadata": {},
   "source": [
    "# ECG Definitions"
   ]
  },
  {
   "cell_type": "markdown",
   "id": "2421161b",
   "metadata": {},
   "source": [
    "ECG file headers"
   ]
  },
  {
   "cell_type": "code",
   "execution_count": null,
   "id": "7bb5d5e0",
   "metadata": {},
   "outputs": [],
   "source": [
    "ecgHeaders = [\n",
    "\t\"sample\",\n",
    "\t\"LI\", \n",
    "\t\"LII\", \n",
    "\t\"LIII\", \n",
    "\t\"aVR\", \n",
    "\t\"aVL\",\n",
    "\t\"aVF\", \n",
    "\t\"V1\",\n",
    "\t\"V2\",\n",
    "\t\"V3\",\n",
    "\t\"V4\",\n",
    "\t\"V5\",\n",
    "\t\"V6\"\n",
    "]"
   ]
  },
  {
   "cell_type": "markdown",
   "id": "b683c320",
   "metadata": {},
   "source": [
    "Loading ECGs labeled as acceptable"
   ]
  },
  {
   "cell_type": "code",
   "execution_count": null,
   "id": "7bc6f78a",
   "metadata": {},
   "outputs": [],
   "source": [
    "ecgsDataset = []\n",
    "\n",
    "with open(\"../../data/labels/RECORDS-acceptable\") as file:\n",
    "\tecgsDataset = map(\n",
    "\t\tlambda ecgName: ecgName.strip(), \n",
    "\t\tfile.readlines()\n",
    "\t)\n",
    "\tecgsDataset = list(ecgsDataset) \n",
    "\n",
    "\tprint(\"Dataset len =\", len(ecgsDataset))"
   ]
  },
  {
   "cell_type": "markdown",
   "id": "b39f9432",
   "metadata": {},
   "source": [
    "ECG preprocessing function"
   ]
  },
  {
   "cell_type": "markdown",
   "id": "d59d7caa",
   "metadata": {},
   "source": [
    "- highpass butterworth filter with $ f_c = 1$ Hz\n",
    "- Truncation in the tails of $N = 500$ samples"
   ]
  },
  {
   "cell_type": "code",
   "execution_count": null,
   "id": "acbf1b38",
   "metadata": {},
   "outputs": [],
   "source": [
    "order = 2\n",
    "fc = 1\n",
    "fs = 500\n",
    "\n",
    "b, a = signal.butter(\n",
    "\tN = order,\n",
    "\tWn = fc,\n",
    "\tbtype = \"highpass\",\n",
    "\tfs = fs\n",
    ")\n",
    "\n",
    "print(\"Numerator: \",   b)\n",
    "print(\"Denominator: \", a)"
   ]
  },
  {
   "cell_type": "code",
   "execution_count": null,
   "id": "9408ae2f",
   "metadata": {},
   "outputs": [],
   "source": [
    "def preprocessing(ecgDf):\n",
    "\tecgFiltred = ecgDf.apply(\n",
    "\t\tlambda serie: 2.5 * signal.filtfilt(b, a, serie), \n",
    "\t\taxis = 0\n",
    "\t)\n",
    "\tecgCroped = ecgFiltred.iloc[500: -500]\n",
    "\n",
    "\treturn ecgCroped"
   ]
  },
  {
   "cell_type": "markdown",
   "id": "41edb486",
   "metadata": {},
   "source": [
    "# Linear Regression Definitions"
   ]
  },
  {
   "cell_type": "markdown",
   "id": "47f3722e",
   "metadata": {},
   "source": [
    "Features Vector"
   ]
  },
  {
   "cell_type": "code",
   "execution_count": null,
   "id": "c41d4405",
   "metadata": {},
   "outputs": [],
   "source": [
    "ecgFeatures = [\n",
    "\t\"LI\", \n",
    "\t\"aVF\", \n",
    "\t\"V2\"\n",
    "]"
   ]
  },
  {
   "cell_type": "markdown",
   "id": "3173ba79",
   "metadata": {},
   "source": [
    "Target Vector"
   ]
  },
  {
   "cell_type": "code",
   "execution_count": null,
   "id": "5ad91666",
   "metadata": {},
   "outputs": [],
   "source": [
    "ecgTarget = [\n",
    "\t\"LII\", \n",
    "\t\"LIII\", \n",
    "\t\"aVR\", \n",
    "\t\"aVL\",\n",
    "\t\"V1\",\n",
    "\t\"V3\",\n",
    "\t\"V4\",\n",
    "\t\"V5\",\n",
    "\t\"V6\"\n",
    "]"
   ]
  },
  {
   "cell_type": "markdown",
   "id": "dbc5e628",
   "metadata": {},
   "source": [
    "Loading Linear Regression Model and Scaler"
   ]
  },
  {
   "cell_type": "code",
   "execution_count": null,
   "id": "195b0787",
   "metadata": {},
   "outputs": [],
   "source": [
    "linearRegression = joblib.load(\"../../models/v0/reglin-v0.pkl\")\n",
    "\n",
    "print(linearRegression.coef_)\n",
    "print(linearRegression.intercept_)"
   ]
  },
  {
   "cell_type": "code",
   "execution_count": null,
   "id": "77f2e644",
   "metadata": {},
   "outputs": [],
   "source": [
    "scaler = joblib.load(\"../../models/v0/reglin-v0.scaler.pkl\")\n",
    "\n",
    "print(scaler.mean_)\n",
    "print(scaler.var_)"
   ]
  },
  {
   "cell_type": "markdown",
   "id": "2923ff8e",
   "metadata": {},
   "source": [
    "# Graphical analysis of reconstruction performance"
   ]
  },
  {
   "cell_type": "markdown",
   "id": "7b487bbf",
   "metadata": {},
   "source": [
    "Calculating Pearson Correlations and Root Mean Square Error for each ECG"
   ]
  },
  {
   "cell_type": "code",
   "execution_count": null,
   "id": "1261e125",
   "metadata": {},
   "outputs": [],
   "source": [
    "correlations = pd.DataFrame(columns = ecgTarget)\n",
    "mseScores \t = pd.DataFrame(columns = ecgTarget)\n",
    "\n",
    "for ecgID in ecgsDataset:\n",
    "\t\n",
    "\t# Load and clean ECG file\n",
    "\n",
    "\tecg      = pd.read_csv(\n",
    "\t\tfilepath_or_buffer = f\"../../data/set-a/{ecgID}.txt\",\n",
    "\t\tnames              = ecgHeaders,\n",
    "\t\tindex_col \t\t   = 0\n",
    "\t)\n",
    "\n",
    "\tecgClean = preprocessing(ecg)\n",
    "\n",
    "\n",
    "\t# Extract features and expected vector\n",
    "\n",
    "\tfeatures   = ecgClean[ecgFeatures].values\n",
    "\texpected   = ecgClean[ecgTarget]\n",
    "\n",
    "\t\n",
    "\t# Reconstructing the derivations\n",
    "\t\n",
    "\tpredicted  = linearRegression.predict(\n",
    "\t\tX = scaler.transform(\n",
    "\t\t\tX = features\n",
    "\t\t)\n",
    "\t)\n",
    "\tpredicted  = pd.DataFrame(\n",
    "\t\tdata    = predicted,\n",
    "\t\tcolumns = ecgTarget,\n",
    "\t)\n",
    "\n",
    "\n",
    "\t# Calculating MSE and CORR for each lead\n",
    "\n",
    "\tmseRow  = pd.DataFrame(columns = ecgTarget)\n",
    "\tcorrRow = pd.DataFrame(columns = ecgTarget)\n",
    "\n",
    "\tfor derivation in ecgTarget:\n",
    "\t\t\n",
    "\t\tmseRow[derivation]  = [mean_squared_error(\n",
    "\t\t\ty_true = expected[derivation],\n",
    "\t\t\ty_pred = predicted[derivation]\n",
    "\t\t)]\n",
    "\n",
    "\t\tcorrRow[derivation] = [stats.pearsonr(\n",
    "\t\t\tx = expected[derivation],\n",
    "\t\t\ty = predicted[derivation]\n",
    "\t\t).statistic]\n",
    "\n",
    "\n",
    "\t# Storing the metrics\n",
    "\n",
    "\tmseScores \t = pd.concat(\n",
    "\t\t[mseScores, mseRow], \n",
    "\t\tignore_index = True\n",
    "\t)\n",
    "\tcorrelations = pd.concat(\n",
    "\t\t[correlations, corrRow],  \n",
    "\t\tignore_index = True\n",
    "\t)\n"
   ]
  },
  {
   "cell_type": "markdown",
   "id": "1b128e3d",
   "metadata": {},
   "source": [
    "Description of statistical measures"
   ]
  },
  {
   "cell_type": "code",
   "execution_count": null,
   "id": "163924a5",
   "metadata": {},
   "outputs": [],
   "source": [
    "correlations = correlations.dropna()\n",
    "print(correlations.describe())"
   ]
  },
  {
   "cell_type": "code",
   "execution_count": null,
   "id": "cbb3b7ce",
   "metadata": {},
   "outputs": [],
   "source": [
    "mseScores = mseScores.dropna()\n",
    "print(mseScores.describe())"
   ]
  },
  {
   "cell_type": "markdown",
   "id": "a01afb31",
   "metadata": {},
   "source": [
    "The comparative plot function"
   ]
  },
  {
   "cell_type": "code",
   "execution_count": null,
   "id": "3ff58504",
   "metadata": {},
   "outputs": [],
   "source": [
    "def methodComparativePlot(df, derivation, method):\n",
    "\tdfMean = np.mean(df[derivation])\n",
    "\tdfMean = np.round(dfMean, 3)\n",
    "\n",
    "\tfigure, axes = plt.subplots(nrows = 1, ncols = 2, figsize = (12, 6))\n",
    "\n",
    "\taxes[0].set_title(f\"{method}($ {derivation} $, $ {derivation}_{{rec}} $)\")\n",
    "\taxes[1].set_title(f\"Histograma - {method}($ {derivation} $, $ {derivation}_{{rec}} $)\")\n",
    "\n",
    "\taxes[0].set_xlabel(\"n\")\n",
    "\taxes[0].set_ylabel(f\"{method}\")\n",
    "\t\n",
    "\taxes[1].set_xlabel(f\"{method}\")\n",
    "\taxes[1].set_ylabel(\"Frequência\")\n",
    "\n",
    "\n",
    "\taxes[0].scatter(\n",
    "\t\tdf.index, \n",
    "\t\tdf[derivation]\n",
    "\t)\n",
    "\taxes[0].axhline(\n",
    "\t\tdfMean, \n",
    "\t\tcolor     = 'r', \n",
    "\t\tlinestyle = '--', \n",
    "\t\tlabel     = f\"Média = {dfMean}\"\n",
    "\t)\n",
    "\n",
    "\n",
    "\tcounts, bins = np.histogram(df[derivation], 50)\n",
    "\taxes[1].stairs(counts / len(df[derivation]), bins, fill = True)\n",
    "\taxes[1].axvline(\n",
    "\t\tdfMean, \n",
    "\t\tcolor     = 'r', \n",
    "\t\tlinestyle = '--', \n",
    "\t\tlabel     = f\"Média = {dfMean}\"\n",
    "\t)\n",
    "\n",
    "\taxes[1].legend()\n",
    "\taxes[0].legend()\n",
    "\n",
    "\tplt.show()\n",
    "\n",
    "\tplt.close()"
   ]
  },
  {
   "cell_type": "markdown",
   "id": "0901f117",
   "metadata": {},
   "source": [
    "## Results"
   ]
  },
  {
   "cell_type": "code",
   "execution_count": null,
   "id": "932a4404",
   "metadata": {},
   "outputs": [],
   "source": [
    "for derivation in ecgTarget:\n",
    "\tmethodComparativePlot(mseScores, derivation, \"MSE\")"
   ]
  },
  {
   "cell_type": "code",
   "execution_count": null,
   "id": "2c8db827",
   "metadata": {},
   "outputs": [],
   "source": [
    "for derivation in ecgTarget:\n",
    "\tmethodComparativePlot(correlations, derivation, \"CORR\")"
   ]
  }
 ],
 "metadata": {
  "kernelspec": {
   "display_name": ".venv",
   "language": "python",
   "name": "python3"
  },
  "language_info": {
   "codemirror_mode": {
    "name": "ipython",
    "version": 3
   },
   "file_extension": ".py",
   "mimetype": "text/x-python",
   "name": "python",
   "nbconvert_exporter": "python",
   "pygments_lexer": "ipython3",
   "version": "3.13.0"
  }
 },
 "nbformat": 4,
 "nbformat_minor": 5
}
