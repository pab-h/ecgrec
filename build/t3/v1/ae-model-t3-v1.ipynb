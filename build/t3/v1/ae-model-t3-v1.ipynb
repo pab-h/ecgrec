{
 "cells": [
  {
   "cell_type": "markdown",
   "metadata": {},
   "source": [
    "# Libraries"
   ]
  },
  {
   "cell_type": "code",
   "execution_count": null,
   "metadata": {},
   "outputs": [],
   "source": [
    "import h5py\n",
    "import torch\n",
    "\n",
    "from torch.utils.data import Dataset\n",
    "from torch.utils.data import DataLoader\n",
    "from torch.utils.data import random_split\n",
    "from sklearn.metrics  import r2_score\n",
    "from glob             import glob\n",
    "\n",
    "import matplotlib.pyplot as plt\n",
    "import scipy.signal      as signal\n",
    "import torch.nn          as nn\n",
    "import numpy  \t\t\t as np\n",
    "import pandas \t\t     as pd\n"
   ]
  },
  {
   "cell_type": "markdown",
   "metadata": {},
   "source": [
    "# ECG Definitions"
   ]
  },
  {
   "cell_type": "markdown",
   "metadata": {},
   "source": [
    "ECG metadata"
   ]
  },
  {
   "cell_type": "code",
   "execution_count": null,
   "metadata": {},
   "outputs": [],
   "source": [
    "samplingFrequency = 400"
   ]
  },
  {
   "cell_type": "markdown",
   "metadata": {},
   "source": [
    "ECG file headers"
   ]
  },
  {
   "cell_type": "code",
   "execution_count": null,
   "metadata": {},
   "outputs": [],
   "source": [
    "ecgHeaders = [\n",
    "\t\"LI\", \n",
    "\t\"LII\", \n",
    "\t\"LIII\", \n",
    "\t\"aVR\", \n",
    "\t\"aVL\",\n",
    "\t\"aVF\", \n",
    "\t\"V1\",\n",
    "\t\"V2\",\n",
    "\t\"V3\",\n",
    "\t\"V4\",\n",
    "\t\"V5\",\n",
    "\t\"V6\"\n",
    "]"
   ]
  },
  {
   "cell_type": "markdown",
   "metadata": {},
   "source": [
    "ECG plot definitions"
   ]
  },
  {
   "cell_type": "code",
   "execution_count": null,
   "metadata": {},
   "outputs": [],
   "source": [
    "ecgPlotHeaders = [\n",
    "\t\"LI\", \"aVR\", \"V1\", \"V4\",\n",
    "\t\"LII\", \"aVL\", \"V2\", \"V5\",\n",
    "\t\"LIII\", \"aVF\", \"V3\", \"V6\"\n",
    "]\n",
    "\n",
    "ecgPlotColors = {\n",
    "\t\"LI\":   \"seagreen\",\n",
    "\t\"aVR\":  \"black\",\n",
    "\t\"V1\":   \"gold\",\n",
    "\t\"V4\":   \"orangered\",\n",
    "\t\"LII\":  \"cornflowerblue\",\n",
    "\t\"aVL\":  \"seagreen\",\n",
    "\t\"V2\":   \"gold\",\n",
    "\t\"V5\":   \"crimson\",\n",
    "\t\"LIII\": \"cornflowerblue\",\n",
    "\t\"aVF\":  \"cornflowerblue\",\n",
    "\t\"V3\":   \"orangered\",\n",
    "\t\"V6\":   \"crimson\"\n",
    "}"
   ]
  },
  {
   "cell_type": "markdown",
   "metadata": {},
   "source": [
    "# The Dataset: CODE-15"
   ]
  },
  {
   "cell_type": "markdown",
   "metadata": {},
   "source": [
    "Metadata"
   ]
  },
  {
   "cell_type": "code",
   "execution_count": null,
   "metadata": {},
   "outputs": [],
   "source": [
    "dataFolder = \"../../../data/CODE15/hdf5/\""
   ]
  },
  {
   "cell_type": "code",
   "execution_count": null,
   "metadata": {},
   "outputs": [],
   "source": [
    "ecgFeatures = [\n",
    "\t\"LI\", \n",
    "\t\"LII\", \n",
    "\t\"LIII\", \n",
    "\t\"aVR\", \n",
    "\t\"aVL\",\n",
    "\t\"aVF\", \n",
    "\t\"V1\",\n",
    "\t\"V2\",\n",
    "\t\"V3\",\n",
    "\t\"V4\",\n",
    "\t\"V5\",\n",
    "\t\"V6\"\n",
    "]\n",
    "\n",
    "ecgFeaturesIndexes = [ecgHeaders.index(derivation) for derivation in ecgFeatures]\n",
    "ecgFeaturesIndexes"
   ]
  },
  {
   "cell_type": "code",
   "execution_count": null,
   "metadata": {},
   "outputs": [],
   "source": [
    "ecgTarget = [\n",
    "\t\"LI\", \n",
    "\t\"LII\", \n",
    "\t\"LIII\", \n",
    "\t\"aVR\", \n",
    "\t\"aVL\",\n",
    "\t\"aVF\", \n",
    "\t\"V1\",\n",
    "\t\"V2\",\n",
    "\t\"V3\",\n",
    "\t\"V4\",\n",
    "\t\"V5\",\n",
    "\t\"V6\"\n",
    "]\n",
    "\n",
    "ecgTargetIndexes = [ecgHeaders.index(derivation) for derivation in ecgTarget]\n",
    "ecgTargetIndexes"
   ]
  },
  {
   "cell_type": "markdown",
   "metadata": {},
   "source": [
    "Dataset class"
   ]
  },
  {
   "cell_type": "code",
   "execution_count": null,
   "metadata": {},
   "outputs": [],
   "source": [
    "class Code15Dataset(Dataset):\n",
    "\tdef __init__(self, hdf5Files, features, target, transform):\n",
    "\t\t\n",
    "\t\tsuper().__init__()\n",
    "\t\t\n",
    "\t\tself.hdf5Files = hdf5Files\n",
    "\t\tself.indexMap  = []\n",
    "\t\tself.features  = features\n",
    "\t\tself.target    = target\n",
    "\t\tself.transform = transform\n",
    "\n",
    "\n",
    "\t\tfor fileIndex, path in enumerate(self.hdf5Files):\n",
    "\t\t\t\n",
    "\t\t\twith h5py.File(path, \"r\") as f:\n",
    "\t\t\t\tsamplesCount = f['exam_id'].shape[0]\n",
    "\t\t\t\t\n",
    "\t\t\t\tself.indexMap.extend([(fileIndex, i) for i in range(samplesCount)])\n",
    "\n",
    "\tdef __len__(self):\n",
    "\t\treturn len(self.indexMap)\n",
    "\n",
    "\tdef __getitem__(self, idx):\n",
    "\n",
    "\t\tfileIndex, examIdx = self.indexMap[idx]\n",
    "\t\thdf5File           = self.hdf5Files[fileIndex]\n",
    "\n",
    "\t\twith h5py.File(hdf5File, \"r\") as file:\n",
    "\t\t\ttracing = np.array(file['tracings'][examIdx])\n",
    "\n",
    "\t\ttracing = self.transform(tracing)\n",
    "\n",
    "\t\tX = tracing[:, self.features]\n",
    "\t\tX = torch.tensor(X, dtype = torch.float32)\n",
    "\n",
    "\t\tY = tracing[:, self.target]\n",
    "\t\tY = torch.tensor(Y, dtype = torch.float32)\n",
    "\n",
    "\t\treturn X, Y\n"
   ]
  },
  {
   "cell_type": "markdown",
   "metadata": {},
   "source": [
    "Transform Function\n",
    "\n",
    "- highpass butterworth filter with $ f_c = 1$ Hz\n",
    "- Truncation in the tails of $ N = 600  $ samples\n",
    "- Gain of 5\n",
    "- Normalization with z-score"
   ]
  },
  {
   "cell_type": "code",
   "execution_count": null,
   "metadata": {},
   "outputs": [],
   "source": [
    "def transform(ecg):\n",
    "\tb, a = signal.butter(\n",
    "\t\tN     = 1, \n",
    "\t\tWn    = 1, \n",
    "\t\tbtype = 'high', \n",
    "\t\tfs    = samplingFrequency\n",
    "\t)\n",
    "\t\n",
    "\tecgFiltred  = signal.filtfilt(b, a, ecg, axis = 0)\n",
    "\tecgWithGain = 5 * ecgFiltred\n",
    "\tecgClean    = ecgWithGain[600: -600, :]\n",
    "\n",
    "\tecgMean = np.mean(ecgClean, axis = 0, keepdims = True)\n",
    "\tecgStd  = np.std(ecgClean,  axis = 0, keepdims = True) + 1e-8\n",
    "\n",
    "\tecgNormalized = (ecgClean - ecgMean) / ecgStd\n",
    "\n",
    "\treturn ecgNormalized\n"
   ]
  },
  {
   "cell_type": "markdown",
   "metadata": {},
   "source": [
    "Holdout dataset"
   ]
  },
  {
   "cell_type": "code",
   "execution_count": null,
   "metadata": {},
   "outputs": [],
   "source": [
    "dataset = Code15Dataset(\n",
    "\thdf5Files = glob(f\"{dataFolder}/*.hdf5\"),\n",
    "\tfeatures  = ecgFeaturesIndexes,\n",
    "\ttarget    = ecgTargetIndexes,\t\n",
    "\ttransform = transform\n",
    ")"
   ]
  },
  {
   "cell_type": "code",
   "execution_count": null,
   "metadata": {},
   "outputs": [],
   "source": [
    "dataset[0][0].shape, dataset[0][1].shape "
   ]
  },
  {
   "cell_type": "code",
   "execution_count": null,
   "metadata": {},
   "outputs": [],
   "source": [
    "len(dataset)"
   ]
  },
  {
   "cell_type": "code",
   "execution_count": null,
   "metadata": {},
   "outputs": [],
   "source": [
    "generator = torch.Generator().manual_seed(14)"
   ]
  },
  {
   "cell_type": "code",
   "execution_count": null,
   "metadata": {},
   "outputs": [],
   "source": [
    "trainRatio = 0.80\n",
    "\n",
    "trainSize = int(trainRatio * len(dataset))\n",
    "testSize  = len(dataset) - trainSize\n",
    "\n",
    "print(\"Train dataset Len =\", trainSize)\n",
    "print(\"Train dataset Len =\", testSize)"
   ]
  },
  {
   "cell_type": "code",
   "execution_count": null,
   "metadata": {},
   "outputs": [],
   "source": [
    "trainDataset, testDataset = random_split(\n",
    "\tdataset = dataset,\n",
    "\tlengths = [trainSize, testSize]\n",
    ")"
   ]
  },
  {
   "cell_type": "markdown",
   "metadata": {},
   "source": [
    "Dataloaders"
   ]
  },
  {
   "cell_type": "code",
   "execution_count": null,
   "metadata": {},
   "outputs": [],
   "source": [
    "trainDataloader = DataLoader(\n",
    "\tdataset     = trainDataset,\n",
    "\tbatch_size  = 32,\n",
    "\tshuffle     = True,\n",
    "\tnum_workers = 4\n",
    "\n",
    ")\n",
    "\n",
    "testDataloader = DataLoader(\n",
    "\tdataset     = testDataset,\n",
    "\tbatch_size  = 32,\n",
    "\tshuffle     = False,\n",
    "\tnum_workers = 4\n",
    "\n",
    ")"
   ]
  },
  {
   "cell_type": "code",
   "execution_count": null,
   "metadata": {},
   "outputs": [],
   "source": [
    "print(\"X shape =\", dataset[0][0].shape)\n",
    "print(\"Y shape =\", dataset[0][1].shape)"
   ]
  },
  {
   "cell_type": "markdown",
   "metadata": {},
   "source": [
    "# Model definition"
   ]
  },
  {
   "cell_type": "code",
   "execution_count": null,
   "metadata": {},
   "outputs": [],
   "source": [
    "class ECGReconstructor(nn.Module):\n",
    "\tdef __init__(self, latentDim=256):\n",
    "\t\tsuper(ECGReconstructor, self).__init__()\n",
    "\n",
    "\t\tself.latentDim = latentDim\n",
    "\n",
    "\t\tself.encoder = nn.Sequential(\n",
    "\t\t\tnn.Conv1d(12, 32, kernel_size=5, stride=2, padding=2),  # (batch, 32, 1448)\n",
    "\t\t\tnn.LeakyReLU(0.2),\n",
    "\t\t\tnn.Conv1d(32, 64, kernel_size=5, stride=2, padding=2), # (batch, 64, 724)\n",
    "\t\t\tnn.LeakyReLU(0.2),\n",
    "\t\t\tnn.Conv1d(64, 128, kernel_size=5, stride=2, padding=2), # (batch, 128, 362)\n",
    "\t\t\tnn.LeakyReLU(0.2),\n",
    "\t\t\tnn.Conv1d(128, 256, kernel_size=5, stride=2, padding=2), # (batch, 256, 181)\n",
    "\t\t\tnn.LeakyReLU(0.2),\n",
    "\t\t)\n",
    "\n",
    "\t\tself.flattenedSize = 256 * 181\n",
    "\n",
    "\t\t# Bottleneck\n",
    "\t\tself.fc_mu \t   = nn.Linear(self.flattenedSize, latentDim)\n",
    "\t\tself.fc_logvar = nn.Linear(self.flattenedSize, latentDim)\n",
    "\n",
    "\t\tself.fc_decode = nn.Linear(latentDim, self.flattenedSize)\n",
    "\n",
    "\t\tself.decoder = nn.Sequential(\n",
    "\t\t\tnn.ConvTranspose1d(256, 128, kernel_size=5, stride=2, padding=2, output_padding=1),  # (batch, 128, 362)\n",
    "\t\t\tnn.LeakyReLU(0.2),\n",
    "\t\t\tnn.ConvTranspose1d(128, 64, kernel_size=5, stride=2, padding=2, output_padding=1),   # (batch, 64, 724)\n",
    "\t\t\tnn.LeakyReLU(0.2),\n",
    "\t\t\tnn.ConvTranspose1d(64, 32, kernel_size=5, stride=2, padding=2, output_padding=1),    # (batch, 32, 1448)\n",
    "\t\t\tnn.LeakyReLU(0.2),\n",
    "\t\t\tnn.ConvTranspose1d(32, 12, kernel_size=5, stride=2, padding=2, output_padding=1),     # (batch, 9, 2896)\n",
    "\t\t)\n",
    "\n",
    "\tdef encode(self, X):\n",
    "\t\tX = self.encoder(X)\n",
    "\t\tX = torch.flatten(X, start_dim = 1)\n",
    "\n",
    "\t\tmu \t   = self.fc_mu(X)\n",
    "\t\tlogvar = self.fc_logvar(X)\n",
    "\t\t\n",
    "\t\treturn mu, logvar\n",
    "\n",
    "\tdef reparameterize(self, mu, logvar):\n",
    "\t\t\n",
    "\t\tstd = torch.exp(0.5 * logvar)\n",
    "\t\teps = torch.randn_like(std)\n",
    "\t\t\n",
    "\t\treturn mu + eps * std\n",
    "\n",
    "\tdef decode(self, Z):\n",
    "\t\tY = self.fc_decode(Z)\n",
    "\t\tY = Y.view(-1, 256, 181)\n",
    "\t\tY = self.decoder(Y)\n",
    "\t\tY = Y.permute(0, 2, 1)\n",
    "\t\t\n",
    "\t\treturn Y\n",
    "\n",
    "\tdef forward(self, X):\n",
    "\t\tX = X.permute(0, 2, 1)\n",
    "\n",
    "\t\tmu, logvar = self.encode(X)\n",
    "\t\tZ \t\t   = self.reparameterize(mu, logvar)\n",
    "\t\tYHat \t   = self.decode(Z)\n",
    "\n",
    "\t\treturn YHat, mu, logvar"
   ]
  },
  {
   "cell_type": "markdown",
   "metadata": {},
   "source": [
    "# Training"
   ]
  },
  {
   "cell_type": "markdown",
   "metadata": {},
   "source": [
    "Metadata"
   ]
  },
  {
   "cell_type": "code",
   "execution_count": null,
   "metadata": {},
   "outputs": [],
   "source": [
    "def vaeLoss(Y, yHat, mean, logvar):\n",
    "\t\n",
    "\treproductionLoss = nn.functional.mse_loss(yHat, Y)\n",
    "\tKLD \t\t\t = -0.5 * torch.sum(1 + logvar - mean.pow(2) - logvar.exp()) / Y.shape[0]\n",
    "\tKLD \t\t\t = 1e-3 * KLD\n",
    "\n",
    "\treturn reproductionLoss + KLD\n"
   ]
  },
  {
   "cell_type": "code",
   "execution_count": null,
   "metadata": {},
   "outputs": [],
   "source": [
    "device    = torch.device(\"cuda\" if torch.cuda.is_available() else \"cpu\")\n",
    "model     = ECGReconstructor(latentDim = 256).to(device)\n",
    "optimizer = torch.optim.Adam(model.parameters(), lr = 1e-3)\n",
    "criterion = vaeLoss\n",
    "epochs    = 50\n",
    "\n",
    "print(device)"
   ]
  },
  {
   "cell_type": "markdown",
   "metadata": {},
   "source": [
    "Run"
   ]
  },
  {
   "cell_type": "code",
   "execution_count": null,
   "metadata": {},
   "outputs": [],
   "source": [
    "trainingLoss = []"
   ]
  },
  {
   "cell_type": "code",
   "execution_count": null,
   "metadata": {},
   "outputs": [],
   "source": [
    "model.train()\n",
    "\n",
    "for epoch in range(epochs):\n",
    "\ttotalLoss = 0\n",
    "\n",
    "\tfor X, Y in trainDataloader:\n",
    "\t\tX, Y = X.to(device), Y.to(device)\n",
    "\n",
    "\t\tYHat, mean, logvar  = model(X)\n",
    "\t\tloss \t\t\t\t= criterion(Y, YHat, mean, logvar)\n",
    "\n",
    "\t\toptimizer.zero_grad()\n",
    "\t\tloss.backward()\n",
    "\t\toptimizer.step()\n",
    "\n",
    "\t\ttotalLoss += loss.item()\n",
    "\n",
    "\ttrainingLoss.append(totalLoss / len(trainDataloader))\n",
    "\n",
    "\tprint(f\"Epoch {epoch + 1}: loss = {trainingLoss[-1]:.4f}\")"
   ]
  },
  {
   "cell_type": "markdown",
   "metadata": {},
   "source": [
    "Loss along the epochs"
   ]
  },
  {
   "cell_type": "code",
   "execution_count": null,
   "metadata": {},
   "outputs": [],
   "source": [
    "plt.scatter(range(epochs), trainingLoss, c = \"blue\", marker = \"x\")\n",
    "\n",
    "plt.title(\"Training Loss\")\n",
    "\n",
    "plt.xlabel(\"Epoch\")\n",
    "plt.ylabel(\"Loss\")\n",
    "\n",
    "plt.grid()\n",
    "plt.tight_layout()\n",
    "plt.show()"
   ]
  },
  {
   "cell_type": "markdown",
   "metadata": {},
   "source": [
    "# Test"
   ]
  },
  {
   "cell_type": "code",
   "execution_count": null,
   "metadata": {},
   "outputs": [],
   "source": [
    "model.eval()\n",
    "\n",
    "testLoss = 0\n",
    "testR2   = 0\n",
    "\n",
    "totalSamples = 0\n",
    "\n",
    "with torch.no_grad():\n",
    "\tfor X, Y in testDataloader:\n",
    "\t\tX, Y       =  X.to(device), Y.to(device)\n",
    "\n",
    "\t\tYHat, mean, logvar  = model(X)\n",
    "\t\tloss \t\t\t\t= criterion(Y, YHat, mean, logvar)\n",
    "\n",
    "\t\tYFlat    = Y.cpu().numpy().reshape(-1, Y.shape[-1])\n",
    "\t\tYHatFlat = YHat.cpu().numpy().reshape(-1, YHat.shape[-1])\n",
    "\n",
    "\t\ttestLoss += loss.item()\n",
    "\t\ttestR2   += r2_score(YFlat, YHatFlat) * YFlat.shape[0]\n",
    "\n",
    "\t\ttotalSamples += YFlat.shape[0]\n",
    "\n",
    "testR2 /= totalSamples\n",
    "\n",
    "print(f\"Test Loss: {testLoss:.4f}\")\n",
    "print(f\"Test R^2:  {testR2:.4f}\")\n"
   ]
  },
  {
   "cell_type": "markdown",
   "metadata": {},
   "source": [
    "# Ploting"
   ]
  },
  {
   "cell_type": "markdown",
   "metadata": {},
   "source": [
    "Ploting functions"
   ]
  },
  {
   "cell_type": "code",
   "execution_count": null,
   "metadata": {},
   "outputs": [],
   "source": [
    "def plotECG(ecg, headers, colors): \n",
    "\tfigure, axes = plt.subplots(\n",
    "\t\tnrows   = 3,\n",
    "\t\tncols   = 4,\n",
    "\t\tsharex  = True,\n",
    "\t\tfigsize = (16, 9)\n",
    "\t)\n",
    "\n",
    "\tfigure.suptitle(\"ECG 12-Lead\")\n",
    "\tfigure.supxlabel(\"Sample\")\n",
    "\tfigure.supylabel(\"Dpp\")\n",
    "\n",
    "\taxes = axes.flatten()\n",
    "\n",
    "\tfor idx, header in enumerate(headers):\n",
    "\t\taxes[idx].plot(ecg[header], color = colors[header])\n",
    "\t\taxes[idx].set_title(f\"{header}\")\n",
    "\t\n",
    "\n",
    "\tplt.tight_layout(pad = 1.5)\n",
    "\n",
    "\tplt.show()\n",
    "\n",
    "\tplt.close()"
   ]
  },
  {
   "cell_type": "code",
   "execution_count": null,
   "metadata": {},
   "outputs": [],
   "source": [
    "def comparativeFullEcgPlot(ecgOring, ecgRec, headers):\n",
    "\tfigure, axes = plt.subplots(\n",
    "\t\tnrows   = 3,\n",
    "\t\tncols   = 4,\n",
    "\t\tsharex  = True,\n",
    "\t\tfigsize = (16, 9)\n",
    "\t)\n",
    "\n",
    "\tfigure.suptitle(\"Comparison: ECG 12-Lead\")\n",
    "\tfigure.supxlabel(\"Sample\")\n",
    "\tfigure.supylabel(\"Dpp\")\n",
    "\n",
    "\taxes = axes.flatten()\n",
    "\n",
    "\tfor idx, header in enumerate(headers):\n",
    "\t\tcorr = np.round(ecgOring[header].corr(ecgRec[header]), 3)\n",
    "\t\tr2   = np.round(r2_score(ecgOring[header], ecgRec[header]), 3)\n",
    "\n",
    "\t\taxes[idx].plot(\n",
    "\t\t\tecgOring[header], \n",
    "\t\t\tcolor = \"blue\", \n",
    "\t\t\talpha = 0.75\n",
    "\t\t)\n",
    "\t\taxes[idx].plot(\n",
    "\t\t\tecgRec[header], \n",
    "\t\t\tcolor = \"red\", \n",
    "\t\t\talpha = 0.75\n",
    "\t\t)\n",
    "\n",
    "\t\taxes[idx].set_title(f\"{header} CORR = {corr} r2 = {r2}\")\n",
    "\t\n",
    "\n",
    "\tplt.tight_layout(pad = 1.5)\n",
    "\n",
    "\tplt.show()\n",
    "\n",
    "\tplt.close()"
   ]
  },
  {
   "cell_type": "markdown",
   "metadata": {},
   "source": [
    "Extract a sample ECG from dataset"
   ]
  },
  {
   "cell_type": "code",
   "execution_count": null,
   "metadata": {},
   "outputs": [],
   "source": [
    "model  = ECGReconstructor(latentDim = 256).to(device)\n",
    "\n",
    "model.load_state_dict(\n",
    "    torch.load(\n",
    "        \"../../../models/t3/ae-t3-v1.pth\", \n",
    "        weights_only = True\n",
    "    )\n",
    ")\n",
    "\n",
    "model"
   ]
  },
  {
   "cell_type": "code",
   "execution_count": null,
   "metadata": {},
   "outputs": [],
   "source": [
    "sampleECGTensor, _ = trainDataset[150]\n",
    "\n",
    "sampleECG = pd.DataFrame(\n",
    "\tcolumns = ecgFeatures,\n",
    "\tdata    = sampleECGTensor\n",
    ")\n",
    "\n",
    "sampleECG.head()\n"
   ]
  },
  {
   "cell_type": "code",
   "execution_count": null,
   "metadata": {},
   "outputs": [],
   "source": [
    "with torch.no_grad():\n",
    "    sampleECGReconstructed, _, _ = model(sampleECGTensor.unsqueeze(0).to(device))\n",
    "    sampleECGReconstructed       = sampleECGReconstructed.cpu().numpy()\n",
    "    sampleECGReconstructed       = sampleECGReconstructed.squeeze(0)\n",
    "\n",
    "sampleECGReconstructed = pd.DataFrame(\n",
    "    columns = ecgTarget,\n",
    "    data    = sampleECGReconstructed\n",
    ")"
   ]
  },
  {
   "cell_type": "code",
   "execution_count": null,
   "metadata": {},
   "outputs": [],
   "source": [
    "plotECG(\n",
    "\tecg     = sampleECG,\n",
    "\theaders = ecgPlotHeaders,\n",
    "\tcolors  = ecgPlotColors\n",
    ")"
   ]
  },
  {
   "cell_type": "code",
   "execution_count": null,
   "metadata": {},
   "outputs": [],
   "source": [
    "plotECG(\n",
    "\tecg     = sampleECGReconstructed,\n",
    "\theaders = ecgPlotHeaders,\n",
    "\tcolors  = ecgPlotColors\n",
    ")"
   ]
  },
  {
   "cell_type": "code",
   "execution_count": null,
   "metadata": {},
   "outputs": [],
   "source": [
    "comparativeFullEcgPlot(\n",
    "\tecgOring = sampleECG,\n",
    "\tecgRec   = sampleECGReconstructed,\n",
    "\theaders  = ecgPlotHeaders\n",
    ")"
   ]
  },
  {
   "cell_type": "code",
   "execution_count": null,
   "metadata": {},
   "outputs": [],
   "source": [
    "viewWindow = slice(1000, 2000)"
   ]
  },
  {
   "cell_type": "code",
   "execution_count": null,
   "metadata": {},
   "outputs": [],
   "source": [
    "comparativeFullEcgPlot(\n",
    "\tecgOring = sampleECG[viewWindow],\n",
    "\tecgRec   = sampleECGReconstructed[viewWindow],\n",
    "\theaders  = ecgPlotHeaders\n",
    ")"
   ]
  },
  {
   "cell_type": "markdown",
   "metadata": {},
   "source": [
    "# Save model"
   ]
  },
  {
   "cell_type": "code",
   "execution_count": null,
   "metadata": {},
   "outputs": [],
   "source": [
    "torch.save(model.state_dict(), \"../../../models/t3/ae-t3-v1.pth\")"
   ]
  }
 ],
 "metadata": {
  "kernelspec": {
   "display_name": "notebooks-py3.10 (3.10.15)",
   "language": "python",
   "name": "python3"
  },
  "language_info": {
   "codemirror_mode": {
    "name": "ipython",
    "version": 3
   },
   "file_extension": ".py",
   "mimetype": "text/x-python",
   "name": "python",
   "nbconvert_exporter": "python",
   "pygments_lexer": "ipython3",
   "version": "3.10.15"
  }
 },
 "nbformat": 4,
 "nbformat_minor": 2
}
