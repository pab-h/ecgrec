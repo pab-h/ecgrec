{
 "cells": [
  {
   "cell_type": "markdown",
   "metadata": {},
   "source": [
    "# Libraries"
   ]
  },
  {
   "cell_type": "code",
   "execution_count": null,
   "metadata": {},
   "outputs": [],
   "source": [
    "import h5py\n",
    "import torch\n",
    "import random\n",
    "\n",
    "from torch.utils.data import Dataset\n",
    "from torch.utils.data import DataLoader\n",
    "from torch.utils.data import random_split\n",
    "from sklearn.metrics  import r2_score\n",
    "from glob             import glob\n",
    "\n",
    "import matplotlib.pyplot as plt\n",
    "import scipy.signal      as signal\n",
    "import torch.nn          as nn\n",
    "import numpy  \t\t\t as np\n",
    "import pandas \t\t     as pd\n"
   ]
  },
  {
   "cell_type": "markdown",
   "metadata": {},
   "source": [
    "# ECG Definitions"
   ]
  },
  {
   "cell_type": "markdown",
   "metadata": {},
   "source": [
    "ECG metadata"
   ]
  },
  {
   "cell_type": "code",
   "execution_count": null,
   "metadata": {},
   "outputs": [],
   "source": [
    "samplingFrequency = 400"
   ]
  },
  {
   "cell_type": "markdown",
   "metadata": {},
   "source": [
    "ECG file headers"
   ]
  },
  {
   "cell_type": "code",
   "execution_count": null,
   "metadata": {},
   "outputs": [],
   "source": [
    "ecgHeaders = [\n",
    "\t\"LI\", \n",
    "\t\"LII\", \n",
    "\t\"LIII\", \n",
    "\t\"aVR\", \n",
    "\t\"aVL\",\n",
    "\t\"aVF\", \n",
    "\t\"V1\",\n",
    "\t\"V2\",\n",
    "\t\"V3\",\n",
    "\t\"V4\",\n",
    "\t\"V5\",\n",
    "\t\"V6\"\n",
    "]"
   ]
  },
  {
   "cell_type": "markdown",
   "metadata": {},
   "source": [
    "ECG plot definitions"
   ]
  },
  {
   "cell_type": "code",
   "execution_count": null,
   "metadata": {},
   "outputs": [],
   "source": [
    "ecgPlotHeaders = [\n",
    "\t\"LI\", \"aVR\", \"V1\", \"V4\",\n",
    "\t\"LII\", \"aVL\", \"V2\", \"V5\",\n",
    "\t\"LIII\", \"aVF\", \"V3\", \"V6\"\n",
    "]\n",
    "\n",
    "ecgPlotColors = {\n",
    "\t\"LI\":   \"seagreen\",\n",
    "\t\"aVR\":  \"black\",\n",
    "\t\"V1\":   \"gold\",\n",
    "\t\"V4\":   \"orangered\",\n",
    "\t\"LII\":  \"cornflowerblue\",\n",
    "\t\"aVL\":  \"seagreen\",\n",
    "\t\"V2\":   \"gold\",\n",
    "\t\"V5\":   \"crimson\",\n",
    "\t\"LIII\": \"cornflowerblue\",\n",
    "\t\"aVF\":  \"cornflowerblue\",\n",
    "\t\"V3\":   \"orangered\",\n",
    "\t\"V6\":   \"crimson\"\n",
    "}"
   ]
  },
  {
   "cell_type": "markdown",
   "metadata": {},
   "source": [
    "# The Dataset: CODE-15"
   ]
  },
  {
   "cell_type": "markdown",
   "metadata": {},
   "source": [
    "Metadata"
   ]
  },
  {
   "cell_type": "code",
   "execution_count": null,
   "metadata": {},
   "outputs": [],
   "source": [
    "dataFolder = \"../../../data/\""
   ]
  },
  {
   "cell_type": "code",
   "execution_count": null,
   "metadata": {},
   "outputs": [],
   "source": [
    "ecgFeatures = [\n",
    "\t\"LI\", \n",
    "\t\"LII\", \n",
    "\t\"LIII\", \n",
    "\t\"aVR\", \n",
    "\t\"aVL\",\n",
    "\t\"aVF\", \n",
    "\t\"V1\",\n",
    "\t\"V2\",\n",
    "\t\"V3\",\n",
    "\t\"V4\",\n",
    "\t\"V5\",\n",
    "\t\"V6\"\n",
    "]\n",
    "\n",
    "ecgFeaturesIndexes = [ecgHeaders.index(derivation) for derivation in ecgFeatures]\n",
    "ecgFeaturesIndexes"
   ]
  },
  {
   "cell_type": "code",
   "execution_count": null,
   "metadata": {},
   "outputs": [],
   "source": [
    "ecgTarget = [\n",
    "\t\"LI\", \n",
    "\t\"LII\", \n",
    "\t\"LIII\", \n",
    "\t\"aVR\", \n",
    "\t\"aVL\",\n",
    "\t\"aVF\", \n",
    "\t\"V1\",\n",
    "\t\"V2\",\n",
    "\t\"V3\",\n",
    "\t\"V4\",\n",
    "\t\"V5\",\n",
    "\t\"V6\"\n",
    "]\n",
    "\n",
    "ecgTargetIndexes = [ecgHeaders.index(derivation) for derivation in ecgTarget]\n",
    "ecgTargetIndexes"
   ]
  },
  {
   "cell_type": "markdown",
   "metadata": {},
   "source": [
    "Dataset class"
   ]
  },
  {
   "cell_type": "code",
   "execution_count": null,
   "metadata": {},
   "outputs": [],
   "source": [
    "class Code15RandomLeadsDataset(Dataset):\n",
    "    def __init__(self, hdf5Files, features, target, transform, subsetSize=None, seed=None):\n",
    "        super().__init__()\n",
    "\n",
    "        self.hdf5Files = hdf5Files\n",
    "        self.indexMap  = []  \n",
    "        self.features  = features\n",
    "        self.target    = target\n",
    "        self.transform = transform\n",
    "\n",
    "        self.nLeads      = 12  \n",
    "        self.leadSubsets = []\n",
    "\n",
    "        for fileIndex, path in enumerate(self.hdf5Files):\n",
    "\n",
    "            with h5py.File(path, \"r\") as f:\n",
    "                samplesCount = f['exam_id'].shape[0]\n",
    "                self.indexMap.extend([(fileIndex, i) for i in range(samplesCount)])\n",
    "\n",
    "        if subsetSize is not None:\n",
    "\n",
    "            if seed is not None:\n",
    "                random.seed(seed)\n",
    "\n",
    "            self.indexMap = random.sample(self.indexMap, min(subsetSize, len(self.indexMap)))\n",
    "\n",
    "    def preComputeRandomLeadSubset(self):\n",
    "\n",
    "        leadCounts       = np.zeros(self.nLeads)\n",
    "        self.leadSubsets = []\n",
    "\n",
    "        for _ in range(len(self.indexMap)):\n",
    "            nLeadsToPick = random.randint(3, 9)\n",
    "\n",
    "            odds =  1 / (leadCounts + 1)\n",
    "            odds /= odds.sum()\n",
    "\n",
    "            chosen = np.random.choice(\n",
    "                a       = self.nLeads,\n",
    "                size    = nLeadsToPick,\n",
    "                replace = False,\n",
    "                p       = odds\n",
    "            )\n",
    "\n",
    "            self.leadSubsets.append(chosen)\n",
    "\n",
    "            leadCounts[chosen] += 1\n",
    "\n",
    "    def __len__(self):\n",
    "        return len(self.indexMap)\n",
    "\n",
    "    def __getitem__(self, idx):\n",
    "        \n",
    "        fileIndex, examIdx = self.indexMap[idx]\n",
    "        hdf5File           = self.hdf5Files[fileIndex]\n",
    "\n",
    "        with h5py.File(hdf5File, \"r\") as file:\n",
    "            tracing = np.array(file['tracings'][examIdx]) \n",
    "\n",
    "        tracing     = self.transform(tracing)\n",
    "        randomLeads = self.leadSubsets[idx]\n",
    "\n",
    "        X = np.zeros_like(tracing)\n",
    "        X[:, randomLeads] = tracing[:, randomLeads]\n",
    "\n",
    "        X = X[:, self.features]\n",
    "        X = torch.tensor(X, dtype = torch.float32)\n",
    "\n",
    "        Y = tracing[:, self.target]\n",
    "        Y = torch.tensor(Y, dtype = torch.float32)\n",
    "\n",
    "        return X, Y"
   ]
  },
  {
   "cell_type": "markdown",
   "metadata": {},
   "source": [
    "Transform Function\n",
    "\n",
    "- highpass butterworth filter with $ f_c = 1$ Hz\n",
    "- Truncation in the tails of $ N = 600  $ samples\n",
    "- Gain of 5\n",
    "- Normalization with z-score"
   ]
  },
  {
   "cell_type": "code",
   "execution_count": null,
   "metadata": {},
   "outputs": [],
   "source": [
    "def transform(ecg):\n",
    "\tb, a = signal.butter(\n",
    "\t\tN     = 1, \n",
    "\t\tWn    = 1, \n",
    "\t\tbtype = 'high', \n",
    "\t\tfs    = samplingFrequency\n",
    "\t)\n",
    "\t\n",
    "\tecgFiltred  = signal.filtfilt(b, a, ecg, axis = 0)\n",
    "\tecgWithGain = 5 * ecgFiltred\n",
    "\tecgClean    = ecgWithGain[600: -600, :]\n",
    "\n",
    "\tecgMean = np.mean(ecgClean, axis = 0, keepdims = True)\n",
    "\tecgStd  = np.std(ecgClean,  axis = 0, keepdims = True) + 1e-8\n",
    "\n",
    "\tecgNormalized = (ecgClean - ecgMean) / ecgStd\n",
    "\n",
    "\treturn ecgNormalized\n"
   ]
  },
  {
   "cell_type": "markdown",
   "metadata": {},
   "source": [
    "Holdout dataset"
   ]
  },
  {
   "cell_type": "code",
   "execution_count": null,
   "metadata": {},
   "outputs": [],
   "source": [
    "randomLeadsDataset = Code15RandomLeadsDataset(\n",
    "    hdf5Files  = glob(f\"{dataFolder}/*.hdf5\"),\n",
    "    features   = ecgFeaturesIndexes,\n",
    "    target     = ecgTargetIndexes,    \n",
    "    transform  = transform,\n",
    "    subsetSize = 20_000,\n",
    "    seed       = 42\n",
    ")\n",
    "\n",
    "randomLeadsDataset.preComputeRandomLeadSubset()"
   ]
  },
  {
   "cell_type": "code",
   "execution_count": null,
   "metadata": {},
   "outputs": [],
   "source": [
    "len(randomLeadsDataset)"
   ]
  },
  {
   "cell_type": "code",
   "execution_count": null,
   "metadata": {},
   "outputs": [],
   "source": [
    "generator = torch.Generator().manual_seed(42)"
   ]
  },
  {
   "cell_type": "code",
   "execution_count": null,
   "metadata": {},
   "outputs": [],
   "source": [
    "trainSize = int(0.80 * len(randomLeadsDataset))\n",
    "testSize  = len(randomLeadsDataset) - trainSize\n",
    "\n",
    "print(\"Train size =\", trainSize)\n",
    "print(\"Test size  =\", testSize)"
   ]
  },
  {
   "cell_type": "code",
   "execution_count": null,
   "metadata": {},
   "outputs": [],
   "source": [
    "trainSet, testSet = random_split(\n",
    "    randomLeadsDataset, \n",
    "    [trainSize, testSize], \n",
    "    generator = generator\n",
    ")"
   ]
  },
  {
   "cell_type": "markdown",
   "metadata": {},
   "source": [
    "Dataloaders"
   ]
  },
  {
   "cell_type": "code",
   "execution_count": null,
   "metadata": {},
   "outputs": [],
   "source": [
    "batchSize = 32"
   ]
  },
  {
   "cell_type": "code",
   "execution_count": null,
   "metadata": {},
   "outputs": [],
   "source": [
    "trainDataloader = DataLoader(\n",
    "\tdataset     = trainSet,\n",
    "\tbatch_size  = batchSize,\n",
    "\tshuffle     = True,\n",
    "\tnum_workers = 4\n",
    ")\n",
    "\n",
    "testDataloader = DataLoader(\n",
    "\tdataset     = testSet,\n",
    "\tbatch_size  = batchSize,\n",
    "\tshuffle     = False,\n",
    "\tnum_workers = 4\n",
    ")"
   ]
  },
  {
   "cell_type": "markdown",
   "metadata": {},
   "source": [
    "# Model definition"
   ]
  },
  {
   "cell_type": "code",
   "execution_count": null,
   "metadata": {},
   "outputs": [],
   "source": [
    "class ECGReconstructor(nn.Module):\n",
    "    def __init__(self, latentDim, hiddenDim):\n",
    "        super().__init__()\n",
    "        \n",
    "        self.encoder = nn.Sequential(\n",
    "            nn.Conv1d(12, 6, 5, padding = 2),\n",
    "            nn.ReLU(),\n",
    "            nn.Conv1d(6, hiddenDim, 5, padding = 2),\n",
    "            nn.ReLU(),\n",
    "            nn.Conv1d(hiddenDim, latentDim, 5, padding = 2)\n",
    "        )\n",
    "        \n",
    "        self.decoder = nn.Sequential(\n",
    "            nn.Conv1d(latentDim, hiddenDim, 5, padding = 2),\n",
    "            nn.ReLU(),\n",
    "            nn.Conv1d(hiddenDim, 6, 5, padding = 2),\n",
    "            nn.ReLU(),\n",
    "            nn.Conv1d(6, 12, 5, padding = 2)\n",
    "        )\n",
    "\n",
    "    def forward(self, x):\n",
    "        x = x.permute(0, 2, 1)  \n",
    "\n",
    "        encoded = self.encoder(x) \n",
    "        decoded = self.decoder(encoded)\n",
    "        decoded = decoded.permute(0, 2, 1)\n",
    "\n",
    "        return decoded"
   ]
  },
  {
   "cell_type": "markdown",
   "metadata": {},
   "source": [
    "# Training"
   ]
  },
  {
   "cell_type": "markdown",
   "metadata": {},
   "source": [
    "Metadata"
   ]
  },
  {
   "cell_type": "code",
   "execution_count": null,
   "metadata": {},
   "outputs": [],
   "source": [
    "device    = torch.device(\"cuda\" if torch.cuda.is_available() else \"cpu\")\n",
    "model     = ECGReconstructor(128, 32).to(device)\t\t\t\t\t\t\t\t\t\t\t\t\t\t\t\t\t\t\t\t\t\t\t\t\t\t\t\t\t\t\t\t\t\t\t\t\t\t\t\t\t\t\t\t\t\t\t\t\t\t\t\t\t\t\t\t\t\t\t\t\t\t\t\t\t\t\t\t\t\t\t\t\t\t\t\t\t\t\t\t\t\t\t\t\t\t\t\t\t\t\t\t\t\t\t\t\t\n",
    "optimizer = torch.optim.Adam(model.parameters(), lr = 1e-3)\n",
    "criterion = nn.MSELoss()\n",
    "epochs    = 30\t\t\t\t\t\t\t\t\t\t\t\t\t\t\t\t\t\t\t\t\t\t\t\t\t\t\t\t\t\t\t\t\t\t\t\t\t\t\t\t\t\t\t\t\t\t\t\t\t\t\t\t\t\t\t\t\t\t\t\t\t\t\t\t\t\t\t\t\t\t\t\t\t\t\t\t\t\t\t\t\t\t\t\t\t\t\t\t\t\t\t\t\t\t\t\t\t\t\t\t\t\t\t\t\t\t\t\t\t\t\t\t\t\t\t\t\t\t\t\t\t\t\t\t\t\t\t\t\t\t\t\t\t\t\t\t\t\n",
    "\n",
    "print(device)\t\t\t\t\t\t\t\t\t\t\t\t\t\t\t\t\t\t\t\t\t\t\t\t\t\t\t\t\t\t\t\t\t\t\t\t\t\t\t\t\t\t\t\t\t\t\t\t\t\t\t\t\t\t\t\t\t\t\t\t\t\t\t\t\t\t\t\t\t\t\t\t\t\t\t\t\t\t\t\t\t\t\t\t\t\t\t\t\t\t\t\t\t\t\t\t\t\t\t\t\t\t\t\t\t\t\t\t\t\t\t\t\t\t\t\t\t\t\t\t\t\t\t\t\t\t\t\t\t\t\t\t\t\t\t\t\t\t"
   ]
  },
  {
   "cell_type": "markdown",
   "metadata": {},
   "source": [
    "Run"
   ]
  },
  {
   "cell_type": "code",
   "execution_count": null,
   "metadata": {},
   "outputs": [],
   "source": [
    "trainingLoss = []"
   ]
  },
  {
   "cell_type": "code",
   "execution_count": null,
   "metadata": {},
   "outputs": [],
   "source": [
    "model.train()\n",
    "\n",
    "for epoch in range(epochs):\n",
    "\ttotalLoss = 0\n",
    "\n",
    "\tfor X, Y in trainDataloader:\n",
    "\t\tX, Y = X.to(device), Y.to(device)\n",
    "\n",
    "\t\tprediction = model(X)\n",
    "\t\tloss       = criterion(prediction, Y)\n",
    "\n",
    "\t\toptimizer.zero_grad()\n",
    "\t\tloss.backward()\n",
    "\t\toptimizer.step()\n",
    "\n",
    "\t\ttotalLoss += loss.item()\n",
    "\n",
    "\ttrainingLoss.append(totalLoss / len(trainDataloader))\n",
    "\n",
    "\tprint(f\"Epoch {epoch + 1}: loss = {trainingLoss[-1]:.4f}\")"
   ]
  },
  {
   "cell_type": "markdown",
   "metadata": {},
   "source": [
    "Loss along the epochs"
   ]
  },
  {
   "cell_type": "code",
   "execution_count": null,
   "metadata": {},
   "outputs": [],
   "source": [
    "plt.scatter(range(epochs), trainingLoss, c = \"blue\", marker = \"x\")\n",
    "\n",
    "plt.title(\"Training Loss\")\n",
    "\n",
    "plt.xlabel(\"Epoch\")\n",
    "plt.ylabel(\"Loss\")\n",
    "\n",
    "plt.grid()\n",
    "plt.tight_layout()\n",
    "plt.show()"
   ]
  },
  {
   "cell_type": "markdown",
   "metadata": {},
   "source": [
    "# Test"
   ]
  },
  {
   "cell_type": "code",
   "execution_count": null,
   "metadata": {},
   "outputs": [],
   "source": [
    "model.eval()\n",
    "\n",
    "testLoss = 0\n",
    "testR2   = 0\n",
    "\n",
    "totalSamples = 0\n",
    "\n",
    "with torch.no_grad():\n",
    "\tfor X, Y in testDataloader:\n",
    "\t\tX, Y       =  X.to(device), Y.to(device)\n",
    "\t\tprediction =  model(X)\n",
    "\t\tloss       =  criterion(prediction, Y)\n",
    "\t\ttestLoss   += loss.item()\n",
    "\n",
    "\t\tYFlat \t\t   = Y.cpu().numpy().reshape(-1, Y.shape[-1])\n",
    "\t\tpredictionFlat = prediction.cpu().numpy().reshape(-1, prediction.shape[-1])\n",
    "\n",
    "\t\ttestR2 += r2_score(YFlat, predictionFlat) * YFlat.shape[0]\n",
    "\n",
    "\t\ttotalSamples += YFlat.shape[0]\n",
    "\n",
    "testR2 /= totalSamples\n",
    "\n",
    "print(f\"Test Loss: {testLoss:.4f}\")\n",
    "print(f\"Test R^2:  {testR2:.4f}\")\n"
   ]
  },
  {
   "cell_type": "markdown",
   "metadata": {},
   "source": [
    "# Ploting"
   ]
  },
  {
   "cell_type": "markdown",
   "metadata": {},
   "source": [
    "Ploting functions"
   ]
  },
  {
   "cell_type": "code",
   "execution_count": null,
   "metadata": {},
   "outputs": [],
   "source": [
    "def plotECG(ecg, headers, colors): \n",
    "\tfigure, axes = plt.subplots(\n",
    "\t\tnrows   = 3,\n",
    "\t\tncols   = 4,\n",
    "\t\tsharex  = True,\n",
    "\t\tfigsize = (16, 9)\n",
    "\t)\n",
    "\n",
    "\tfigure.suptitle(\"ECG 12-Lead\")\n",
    "\tfigure.supxlabel(\"Sample\")\n",
    "\tfigure.supylabel(\"Dpp\")\n",
    "\n",
    "\taxes = axes.flatten()\n",
    "\n",
    "\tfor idx, header in enumerate(headers):\n",
    "\t\taxes[idx].plot(ecg[header], color = colors[header])\n",
    "\t\taxes[idx].set_title(f\"{header}\")\n",
    "\t\n",
    "\n",
    "\tplt.tight_layout(pad = 1.5)\n",
    "\n",
    "\tplt.show()\n",
    "\n",
    "\tplt.close()"
   ]
  },
  {
   "cell_type": "code",
   "execution_count": null,
   "metadata": {},
   "outputs": [],
   "source": [
    "def comparativeFullEcgPlot(ecgOring, ecgRec, headers):\n",
    "\tfigure, axes = plt.subplots(\n",
    "\t\tnrows   = 3,\n",
    "\t\tncols   = 4,\n",
    "\t\tsharex  = True,\n",
    "\t\tfigsize = (16, 9)\n",
    "\t)\n",
    "\n",
    "\tfigure.suptitle(\"Comparison: ECG 12-Lead\")\n",
    "\tfigure.supxlabel(\"Sample\")\n",
    "\tfigure.supylabel(\"Dpp\")\n",
    "\n",
    "\taxes = axes.flatten()\n",
    "\n",
    "\tfor idx, header in enumerate(headers):\n",
    "\t\tcorr = np.round(ecgOring[header].corr(ecgRec[header]), 3)\n",
    "\t\tr2   = np.round(r2_score(ecgOring[header], ecgRec[header]), 3)\n",
    "\n",
    "\t\taxes[idx].plot(\n",
    "\t\t\tecgOring[header], \n",
    "\t\t\tcolor = \"blue\", \n",
    "\t\t\talpha = 0.75\n",
    "\t\t)\n",
    "\t\taxes[idx].plot(\n",
    "\t\t\tecgRec[header], \n",
    "\t\t\tcolor = \"red\", \n",
    "\t\t\talpha = 0.75\n",
    "\t\t)\n",
    "\n",
    "\t\taxes[idx].set_title(f\"{header} CORR = {corr} r2 = {r2}\")\n",
    "\t\n",
    "\n",
    "\tplt.tight_layout(pad = 1.5)\n",
    "\n",
    "\tplt.show()\n",
    "\n",
    "\tplt.close()"
   ]
  },
  {
   "cell_type": "markdown",
   "metadata": {},
   "source": [
    "Extract a sample ECG from dataset"
   ]
  },
  {
   "cell_type": "code",
   "execution_count": null,
   "metadata": {},
   "outputs": [],
   "source": [
    "sampleX, sampleY = trainSet[13]"
   ]
  },
  {
   "cell_type": "code",
   "execution_count": null,
   "metadata": {},
   "outputs": [],
   "source": [
    "with torch.no_grad():\n",
    "    prediction = model(sampleX.unsqueeze(0)\\\n",
    "        .to(device))\\\n",
    "        .squeeze(0)\\\n",
    "        .cpu()\\\n",
    "        .numpy()"
   ]
  },
  {
   "cell_type": "code",
   "execution_count": null,
   "metadata": {},
   "outputs": [],
   "source": [
    "sampleECG              = pd.DataFrame(sampleY,    columns = ecgFeatures)\n",
    "sampleRandomLeadECG    = pd.DataFrame(sampleX,    columns = ecgFeatures)\n",
    "sampleECGReconstructed = pd.DataFrame(prediction, columns = ecgFeatures)"
   ]
  },
  {
   "cell_type": "code",
   "execution_count": null,
   "metadata": {},
   "outputs": [],
   "source": [
    "plotECG(\n",
    "\tecg     = sampleRandomLeadECG,\n",
    "\theaders = ecgPlotHeaders,\n",
    "\tcolors  = ecgPlotColors\n",
    ")"
   ]
  },
  {
   "cell_type": "code",
   "execution_count": null,
   "metadata": {},
   "outputs": [],
   "source": [
    "plotECG(\n",
    "\tecg     = sampleECG,\n",
    "\theaders = ecgPlotHeaders,\n",
    "\tcolors  = ecgPlotColors\n",
    ")"
   ]
  },
  {
   "cell_type": "code",
   "execution_count": null,
   "metadata": {},
   "outputs": [],
   "source": [
    "plotECG(\n",
    "\tecg     = sampleECGReconstructed,\n",
    "\theaders = ecgPlotHeaders,\n",
    "\tcolors  = ecgPlotColors\n",
    ")"
   ]
  },
  {
   "cell_type": "code",
   "execution_count": null,
   "metadata": {},
   "outputs": [],
   "source": [
    "comparativeFullEcgPlot(\n",
    "\tecgOring = sampleECG,\n",
    "\tecgRec   = sampleECGReconstructed,\n",
    "\theaders  = ecgPlotHeaders\n",
    ")"
   ]
  },
  {
   "cell_type": "code",
   "execution_count": null,
   "metadata": {},
   "outputs": [],
   "source": [
    "viewWindow = slice(1000, 2000)"
   ]
  },
  {
   "cell_type": "code",
   "execution_count": null,
   "metadata": {},
   "outputs": [],
   "source": [
    "comparativeFullEcgPlot(\n",
    "\tecgOring = sampleECG[viewWindow],\n",
    "\tecgRec   = sampleECGReconstructed[viewWindow],\n",
    "\theaders  = ecgPlotHeaders\n",
    ")"
   ]
  },
  {
   "cell_type": "markdown",
   "metadata": {},
   "source": [
    "# Save model"
   ]
  },
  {
   "cell_type": "code",
   "execution_count": null,
   "metadata": {},
   "outputs": [],
   "source": [
    "# torch.save(model.state_dict(), \"../../../models/ae-t4-v1.pth\")"
   ]
  }
 ],
 "metadata": {
  "kernelspec": {
   "display_name": ".venv",
   "language": "python",
   "name": "python3"
  },
  "language_info": {
   "codemirror_mode": {
    "name": "ipython",
    "version": 3
   },
   "file_extension": ".py",
   "mimetype": "text/x-python",
   "name": "python",
   "nbconvert_exporter": "python",
   "pygments_lexer": "ipython3",
   "version": "3.13.0"
  }
 },
 "nbformat": 4,
 "nbformat_minor": 2
}
