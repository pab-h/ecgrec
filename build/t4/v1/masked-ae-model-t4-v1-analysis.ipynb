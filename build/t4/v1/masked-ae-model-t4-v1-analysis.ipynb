{
 "cells": [
  {
   "cell_type": "markdown",
   "id": "8498d2f2",
   "metadata": {},
   "source": [
    "# Libraries"
   ]
  },
  {
   "cell_type": "code",
   "execution_count": null,
   "id": "31df3f96",
   "metadata": {},
   "outputs": [],
   "source": [
    "import h5py\n",
    "import torch\n",
    "\n",
    "from torch.utils.data import Dataset\n",
    "from torch.utils.data import DataLoader\n",
    "from sklearn.metrics  import r2_score\n",
    "from glob             import glob\n",
    "\n",
    "import matplotlib.pyplot as plt\n",
    "import scipy.signal      as signal\n",
    "import scipy.stats \t\t as stats\n",
    "import torch.nn          as nn\n",
    "import numpy  \t\t\t as np\n",
    "import pandas \t\t     as pd\n",
    "import random\n"
   ]
  },
  {
   "cell_type": "markdown",
   "id": "59b7ba4b",
   "metadata": {},
   "source": [
    "# ECG Definitions"
   ]
  },
  {
   "cell_type": "markdown",
   "id": "7a3ca37f",
   "metadata": {},
   "source": [
    "ECG metadata"
   ]
  },
  {
   "cell_type": "code",
   "execution_count": null,
   "id": "cde0b86c",
   "metadata": {},
   "outputs": [],
   "source": [
    "samplingFrequency = 400"
   ]
  },
  {
   "cell_type": "markdown",
   "id": "478def16",
   "metadata": {},
   "source": [
    "ECG file headers"
   ]
  },
  {
   "cell_type": "code",
   "execution_count": null,
   "id": "ec15eb40",
   "metadata": {},
   "outputs": [],
   "source": [
    "ecgHeaders = [\n",
    "    \"LI\", \n",
    "    \"LII\", \n",
    "    \"LIII\", \n",
    "    \"aVR\", \n",
    "    \"aVL\",\n",
    "    \"aVF\", \n",
    "    \"V1\",\n",
    "    \"V2\",\n",
    "    \"V3\",\n",
    "    \"V4\",\n",
    "    \"V5\",\n",
    "    \"V6\"\n",
    "]"
   ]
  },
  {
   "cell_type": "markdown",
   "id": "53449fa3",
   "metadata": {},
   "source": [
    "ECG plot definitions"
   ]
  },
  {
   "cell_type": "code",
   "execution_count": null,
   "id": "b1032cce",
   "metadata": {},
   "outputs": [],
   "source": [
    "ecgPlotHeaders = [\n",
    "    \"LI\", \"aVR\", \"V1\", \"V4\",\n",
    "    \"LII\", \"aVL\", \"V2\", \"V5\",\n",
    "    \"LIII\", \"aVF\", \"V3\", \"V6\"\n",
    "]\n",
    "\n",
    "ecgPlotColors = {\n",
    "    \"LI\":   \"seagreen\",\n",
    "    \"aVR\":  \"black\",\n",
    "    \"V1\":   \"gold\",\n",
    "    \"V4\":   \"orangered\",\n",
    "    \"LII\":  \"cornflowerblue\",\n",
    "    \"aVL\":  \"seagreen\",\n",
    "    \"V2\":   \"gold\",\n",
    "    \"V5\":   \"crimson\",\n",
    "    \"LIII\": \"cornflowerblue\",\n",
    "    \"aVF\":  \"cornflowerblue\",\n",
    "    \"V3\":   \"orangered\",\n",
    "    \"V6\":   \"crimson\"\n",
    "}"
   ]
  },
  {
   "cell_type": "markdown",
   "id": "d29b9e79",
   "metadata": {},
   "source": [
    "# The Dataset: CODE-15"
   ]
  },
  {
   "cell_type": "markdown",
   "id": "d4302025",
   "metadata": {},
   "source": [
    "Metadata"
   ]
  },
  {
   "cell_type": "code",
   "execution_count": null,
   "id": "07d000cb",
   "metadata": {},
   "outputs": [],
   "source": [
    "dataFolder = \"../../../data/\""
   ]
  },
  {
   "cell_type": "code",
   "execution_count": null,
   "id": "242a22d2",
   "metadata": {},
   "outputs": [],
   "source": [
    "ecgFeatures = [\n",
    "    \"LI\", \n",
    "    \"LII\", \n",
    "    \"LIII\", \n",
    "    \"aVR\", \n",
    "    \"aVL\",\n",
    "    \"aVF\", \n",
    "    \"V1\",\n",
    "    \"V2\",\n",
    "    \"V3\",\n",
    "    \"V4\",\n",
    "    \"V5\",\n",
    "    \"V6\"\n",
    "]\n",
    "\n",
    "ecgFeaturesIndexes = [ecgHeaders.index(derivation) for derivation in ecgFeatures]\n",
    "ecgFeaturesIndexes"
   ]
  },
  {
   "cell_type": "code",
   "execution_count": null,
   "id": "d20f960b",
   "metadata": {},
   "outputs": [],
   "source": [
    "ecgTarget = [\n",
    "    \"LI\", \n",
    "    \"LII\", \n",
    "    \"LIII\", \n",
    "    \"aVR\", \n",
    "    \"aVL\",\n",
    "    \"aVF\", \n",
    "    \"V1\",\n",
    "    \"V2\",\n",
    "    \"V3\",\n",
    "    \"V4\",\n",
    "    \"V5\",\n",
    "    \"V6\"\n",
    "]\n",
    "\n",
    "ecgTargetIndexes = [ecgHeaders.index(derivation) for derivation in ecgTarget]\n",
    "ecgTargetIndexes"
   ]
  },
  {
   "cell_type": "markdown",
   "id": "81933fbc",
   "metadata": {},
   "source": [
    "Dataset class"
   ]
  },
  {
   "cell_type": "code",
   "execution_count": null,
   "id": "abcf948c",
   "metadata": {},
   "outputs": [],
   "source": [
    "class Code15RandomLeadsDataset(Dataset):\n",
    "    def __init__(self, hdf5Files, features, target, transform, subsetSize=None, seed=None):\n",
    "        super().__init__()\n",
    "\n",
    "        self.hdf5Files = hdf5Files\n",
    "        self.indexMap  = []  \n",
    "        self.features  = features\n",
    "        self.target    = target\n",
    "        self.transform = transform\n",
    "\n",
    "        self.nLeads      = 12  \n",
    "        self.leadSubsets = []\n",
    "\n",
    "        for fileIndex, path in enumerate(self.hdf5Files):\n",
    "\n",
    "            with h5py.File(path, \"r\") as f:\n",
    "                samplesCount = f['exam_id'].shape[0]\n",
    "                self.indexMap.extend([(fileIndex, i) for i in range(samplesCount)])\n",
    "\n",
    "        if subsetSize is not None:\n",
    "\n",
    "            if seed is not None:\n",
    "                random.seed(seed)\n",
    "\n",
    "            self.indexMap = random.sample(self.indexMap, min(subsetSize, len(self.indexMap)))\n",
    "\n",
    "    def preComputeRandomLeadSubset(self):\n",
    "\n",
    "        leadCounts       = np.zeros(self.nLeads)\n",
    "        self.leadSubsets = []\n",
    "\n",
    "        for _ in range(len(self.indexMap)):\n",
    "            nLeadsToPick = random.randint(3, 9)\n",
    "\n",
    "            odds =  1 / (leadCounts + 1)\n",
    "            odds /= odds.sum()\n",
    "\n",
    "            chosen = np.random.choice(\n",
    "                a       = self.nLeads,\n",
    "                size    = nLeadsToPick,\n",
    "                replace = False,\n",
    "                p       = odds\n",
    "            )\n",
    "\n",
    "            self.leadSubsets.append(chosen)\n",
    "\n",
    "            leadCounts[chosen] += 1\n",
    "\n",
    "    def __len__(self):\n",
    "        return len(self.indexMap)\n",
    "\n",
    "    def __getitem__(self, idx):\n",
    "        \n",
    "        fileIndex, examIdx = self.indexMap[idx]\n",
    "        hdf5File           = self.hdf5Files[fileIndex]\n",
    "\n",
    "        with h5py.File(hdf5File, \"r\") as file:\n",
    "            tracing = np.array(file['tracings'][examIdx]) \n",
    "\n",
    "        tracing     = self.transform(tracing)\n",
    "        randomLeads = self.leadSubsets[idx]\n",
    "\n",
    "        X = np.zeros_like(tracing)\n",
    "        X[:, randomLeads] = tracing[:, randomLeads]\n",
    "\n",
    "        X = X[:, self.features]\n",
    "        X = torch.tensor(X, dtype = torch.float32)\n",
    "\n",
    "        Y = tracing[:, self.target]\n",
    "        Y = torch.tensor(Y, dtype = torch.float32)\n",
    "\n",
    "        return X, Y"
   ]
  },
  {
   "cell_type": "markdown",
   "id": "844da6fd",
   "metadata": {},
   "source": [
    "Transform Function\n",
    "\n",
    "- highpass butterworth filter with $ f_c = 1$ Hz\n",
    "- Truncation in the tails of $ N = 600  $ samples\n",
    "- Gain of 5\n",
    "- Normalization with z-score"
   ]
  },
  {
   "cell_type": "code",
   "execution_count": null,
   "id": "0e4107db",
   "metadata": {},
   "outputs": [],
   "source": [
    "def transform(ecg):\n",
    "    b, a = signal.butter(\n",
    "        N     = 1, \n",
    "        Wn    = 1, \n",
    "        btype = 'high', \n",
    "        fs    = samplingFrequency\n",
    "    )\n",
    "    \n",
    "    ecgFiltred  = signal.filtfilt(b, a, ecg, axis = 0)\n",
    "    ecgWithGain = 5 * ecgFiltred\n",
    "    ecgClean    = ecgWithGain[600: -600, :]\n",
    "\n",
    "    ecgMean = np.mean(ecgClean, axis = 0, keepdims = True)\n",
    "    ecgStd  = np.std(ecgClean,  axis = 0, keepdims = True) + 1e-8\n",
    "\n",
    "    ecgNormalized = (ecgClean - ecgMean) / ecgStd\n",
    "\n",
    "    return ecgNormalized\n"
   ]
  },
  {
   "cell_type": "code",
   "execution_count": null,
   "id": "c3a0f82a",
   "metadata": {},
   "outputs": [],
   "source": [
    "randomLeadsDataset = Code15RandomLeadsDataset(\n",
    "    hdf5Files  = glob(f\"{dataFolder}/*.hdf5\"),\n",
    "    features   = ecgFeaturesIndexes,\n",
    "    target     = ecgTargetIndexes,    \n",
    "    transform  = transform,\n",
    "    subsetSize = 20_000,\n",
    "    seed       = 42\n",
    ")\n",
    "\n",
    "randomLeadsDataset.preComputeRandomLeadSubset()"
   ]
  },
  {
   "cell_type": "code",
   "execution_count": null,
   "id": "31fad8fe",
   "metadata": {},
   "outputs": [],
   "source": [
    "len(randomLeadsDataset)"
   ]
  },
  {
   "cell_type": "markdown",
   "id": "905561cf",
   "metadata": {},
   "source": [
    "Dataloader"
   ]
  },
  {
   "cell_type": "code",
   "execution_count": null,
   "id": "f8e1e9ae",
   "metadata": {},
   "outputs": [],
   "source": [
    "dataloader = DataLoader(\n",
    "    dataset     = randomLeadsDataset,\n",
    "    batch_size  = 1,\n",
    "    shuffle     = False,\n",
    "    num_workers = 4\n",
    "\n",
    ")"
   ]
  },
  {
   "cell_type": "markdown",
   "id": "2afa69e0",
   "metadata": {},
   "source": [
    "# Model loading"
   ]
  },
  {
   "cell_type": "code",
   "execution_count": null,
   "id": "86f47682",
   "metadata": {},
   "outputs": [],
   "source": [
    "class ECGReconstructor(nn.Module):\n",
    "    def __init__(self, latentDim, hiddenDim):\n",
    "        super().__init__()\n",
    "        \n",
    "        self.encoder = nn.Sequential(\n",
    "            nn.Conv1d(12, 6, 5, padding = 2),\n",
    "            nn.ReLU(),\n",
    "            nn.Conv1d(6, hiddenDim, 5, padding = 2),\n",
    "            nn.ReLU(),\n",
    "            nn.Conv1d(hiddenDim, latentDim, 5, padding = 2)\n",
    "        )\n",
    "        \n",
    "        self.decoder = nn.Sequential(\n",
    "            nn.Conv1d(latentDim, hiddenDim, 5, padding = 2),\n",
    "            nn.ReLU(),\n",
    "            nn.Conv1d(hiddenDim, 6, 5, padding = 2),\n",
    "            nn.ReLU(),\n",
    "            nn.Conv1d(6, 12, 5, padding = 2)\n",
    "        )\n",
    "\n",
    "    def forward(self, x):\n",
    "        x = x.permute(0, 2, 1)  \n",
    "\n",
    "        encoded = self.encoder(x) \n",
    "        decoded = self.decoder(encoded)\n",
    "        decoded = decoded.permute(0, 2, 1)\n",
    "\n",
    "        return decoded"
   ]
  },
  {
   "cell_type": "code",
   "execution_count": null,
   "id": "b6b56666",
   "metadata": {},
   "outputs": [],
   "source": [
    "device = torch.device(\"cuda\" if torch.cuda.is_available() else \"cpu\")\n",
    "model  = ECGReconstructor(latentDim = 128, hiddenDim = 32).to(device)\n",
    "\n",
    "model.load_state_dict(\n",
    "    torch.load(\n",
    "        \"../../../models/ae-t4-v1.pth\", \n",
    "        weights_only = True\n",
    "    )\n",
    ")\n",
    "\n",
    "model"
   ]
  },
  {
   "cell_type": "markdown",
   "id": "4224aa6f",
   "metadata": {},
   "source": [
    "# Graphical analysis of reconstruction performance"
   ]
  },
  {
   "cell_type": "code",
   "execution_count": null,
   "id": "3dba2d57",
   "metadata": {},
   "outputs": [],
   "source": [
    "r2Scores = pd.DataFrame(\n",
    "    columns = ecgTarget,\n",
    "    index   = range(len(randomLeadsDataset))\n",
    ")\n",
    "\n",
    "correlations = pd.DataFrame(\n",
    "    columns = ecgTarget,\n",
    "    index   = range(len(randomLeadsDataset))\n",
    ")"
   ]
  },
  {
   "cell_type": "markdown",
   "id": "dcbfb09c",
   "metadata": {},
   "source": [
    "Calculating Pearson Correlations and r2 score for each ECG"
   ]
  },
  {
   "cell_type": "code",
   "execution_count": null,
   "id": "a7326c48",
   "metadata": {},
   "outputs": [],
   "source": [
    "model.eval()\n",
    "\n",
    "with torch.no_grad():\n",
    "    for i, (X, Y) in enumerate(dataloader):\n",
    "        X, Y       =  X.to(device), Y.to(device)\n",
    "        prediction =  model(X)\n",
    "\n",
    "        prediction = prediction.cpu()[0]\n",
    "        Y \t\t   = Y.cpu()[0]\n",
    "        \n",
    "        r2Row   \t   = []\n",
    "        correlationRow = []\n",
    "\n",
    "        for j in range(len(ecgTarget)):\n",
    "\n",
    "            yTrue = Y[:, j].numpy()\n",
    "            yPred = prediction[:, j].numpy()\n",
    "\n",
    "            r2 = r2_score(yTrue, yPred)\n",
    "\n",
    "            if np.std(yTrue) == 0 or np.std(yPred) == 0:\n",
    "                correlation = 0 \n",
    "            else:\n",
    "                correlation = stats.pearsonr(yTrue, yPred).statistic\n",
    "\n",
    "            r2Row.append(r2)\n",
    "            correlationRow.append(correlation)\n",
    "\n",
    "        r2Scores.iloc[i]     = r2Row\n",
    "        correlations.iloc[i] = correlationRow"
   ]
  },
  {
   "cell_type": "markdown",
   "id": "20abfbd2",
   "metadata": {},
   "source": [
    "The comparative plot function"
   ]
  },
  {
   "cell_type": "code",
   "execution_count": null,
   "id": "584d681a",
   "metadata": {},
   "outputs": [],
   "source": [
    "def methodComparativePlot(df, derivation, method):\n",
    "    dfMean = np.mean(df[derivation])\n",
    "    dfMean = np.round(dfMean, 3)\n",
    "\n",
    "    figure, axes = plt.subplots(nrows = 1, ncols = 2, figsize = (12, 6))\n",
    "\n",
    "    axes[0].set_title(f\"{method}($ {derivation} $, $ {derivation}_{{rec}} $)\")\n",
    "    axes[1].set_title(f\"Histograma - {method}($ {derivation} $, $ {derivation}_{{rec}} $)\")\n",
    "\n",
    "    axes[0].set_xlabel(\"n\")\n",
    "    axes[0].set_ylabel(f\"{method}\")\n",
    "    \n",
    "    axes[1].set_xlabel(f\"{method}\")\n",
    "    axes[1].set_ylabel(\"Frequência\")\n",
    "\n",
    "\n",
    "    axes[0].scatter(\n",
    "        df.index, \n",
    "        df[derivation]\n",
    "    )\n",
    "    axes[0].axhline(\n",
    "        dfMean, \n",
    "        color     = 'r', \n",
    "        linestyle = '--', \n",
    "        label     = f\"Média = {dfMean}\"\n",
    "    )\n",
    "\n",
    "\n",
    "    counts, bins = np.histogram(df[derivation], 50)\n",
    "    axes[1].stairs(counts / len(df[derivation]), bins, fill = True)\n",
    "    axes[1].axvline(\n",
    "        dfMean, \n",
    "        color     = 'r', \n",
    "        linestyle = '--', \n",
    "        label     = f\"Média = {dfMean}\"\n",
    "    )\n",
    "\n",
    "    axes[1].legend()\n",
    "    axes[0].legend()\n",
    "\n",
    "    plt.show()\n",
    "\n",
    "    plt.close()"
   ]
  },
  {
   "cell_type": "markdown",
   "id": "ec82f0e8",
   "metadata": {},
   "source": [
    "## Results"
   ]
  },
  {
   "cell_type": "code",
   "execution_count": null,
   "id": "027b089f",
   "metadata": {},
   "outputs": [],
   "source": [
    "for derivation in ecgTarget:\n",
    "    methodComparativePlot(r2Scores, derivation, \"R²\")"
   ]
  },
  {
   "cell_type": "code",
   "execution_count": null,
   "id": "ad6b8dcd",
   "metadata": {},
   "outputs": [],
   "source": [
    "for derivation in ecgTarget:\n",
    "    methodComparativePlot(correlations, derivation, \"CORR\")"
   ]
  }
 ],
 "metadata": {
  "kernelspec": {
   "display_name": ".venv",
   "language": "python",
   "name": "python3"
  },
  "language_info": {
   "codemirror_mode": {
    "name": "ipython",
    "version": 3
   },
   "file_extension": ".py",
   "mimetype": "text/x-python",
   "name": "python",
   "nbconvert_exporter": "python",
   "pygments_lexer": "ipython3",
   "version": "3.13.0"
  }
 },
 "nbformat": 4,
 "nbformat_minor": 5
}
