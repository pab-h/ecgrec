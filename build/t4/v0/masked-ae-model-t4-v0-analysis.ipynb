{
 "cells": [
  {
   "cell_type": "markdown",
   "id": "8498d2f2",
   "metadata": {},
   "source": [
    "# Libraries"
   ]
  },
  {
   "cell_type": "code",
   "execution_count": null,
   "id": "31df3f96",
   "metadata": {},
   "outputs": [],
   "source": [
    "import h5py\n",
    "import torch\n",
    "\n",
    "from torch.utils.data import Dataset\n",
    "from torch.utils.data import DataLoader\n",
    "from sklearn.metrics  import r2_score\n",
    "from glob             import glob\n",
    "\n",
    "import matplotlib.pyplot as plt\n",
    "import scipy.signal      as signal\n",
    "import scipy.stats \t\t as stats\n",
    "import torch.nn          as nn\n",
    "import numpy  \t\t\t as np\n",
    "import pandas \t\t     as pd\n",
    "import random\n"
   ]
  },
  {
   "cell_type": "markdown",
   "id": "59b7ba4b",
   "metadata": {},
   "source": [
    "# ECG Definitions"
   ]
  },
  {
   "cell_type": "markdown",
   "id": "7a3ca37f",
   "metadata": {},
   "source": [
    "ECG metadata"
   ]
  },
  {
   "cell_type": "code",
   "execution_count": null,
   "id": "cde0b86c",
   "metadata": {},
   "outputs": [],
   "source": [
    "samplingFrequency = 400"
   ]
  },
  {
   "cell_type": "markdown",
   "id": "478def16",
   "metadata": {},
   "source": [
    "ECG file headers"
   ]
  },
  {
   "cell_type": "code",
   "execution_count": null,
   "id": "ec15eb40",
   "metadata": {},
   "outputs": [],
   "source": [
    "ecgHeaders = [\n",
    "\t\"LI\", \n",
    "\t\"LII\", \n",
    "\t\"LIII\", \n",
    "\t\"aVR\", \n",
    "\t\"aVL\",\n",
    "\t\"aVF\", \n",
    "\t\"V1\",\n",
    "\t\"V2\",\n",
    "\t\"V3\",\n",
    "\t\"V4\",\n",
    "\t\"V5\",\n",
    "\t\"V6\"\n",
    "]"
   ]
  },
  {
   "cell_type": "markdown",
   "id": "53449fa3",
   "metadata": {},
   "source": [
    "ECG plot definitions"
   ]
  },
  {
   "cell_type": "code",
   "execution_count": null,
   "id": "b1032cce",
   "metadata": {},
   "outputs": [],
   "source": [
    "ecgPlotHeaders = [\n",
    "\t\"LI\", \"aVR\", \"V1\", \"V4\",\n",
    "\t\"LII\", \"aVL\", \"V2\", \"V5\",\n",
    "\t\"LIII\", \"aVF\", \"V3\", \"V6\"\n",
    "]\n",
    "\n",
    "ecgPlotColors = {\n",
    "\t\"LI\":   \"seagreen\",\n",
    "\t\"aVR\":  \"black\",\n",
    "\t\"V1\":   \"gold\",\n",
    "\t\"V4\":   \"orangered\",\n",
    "\t\"LII\":  \"cornflowerblue\",\n",
    "\t\"aVL\":  \"seagreen\",\n",
    "\t\"V2\":   \"gold\",\n",
    "\t\"V5\":   \"crimson\",\n",
    "\t\"LIII\": \"cornflowerblue\",\n",
    "\t\"aVF\":  \"cornflowerblue\",\n",
    "\t\"V3\":   \"orangered\",\n",
    "\t\"V6\":   \"crimson\"\n",
    "}"
   ]
  },
  {
   "cell_type": "markdown",
   "id": "d29b9e79",
   "metadata": {},
   "source": [
    "# The Dataset: CODE-15"
   ]
  },
  {
   "cell_type": "markdown",
   "id": "d4302025",
   "metadata": {},
   "source": [
    "Metadata"
   ]
  },
  {
   "cell_type": "code",
   "execution_count": null,
   "id": "07d000cb",
   "metadata": {},
   "outputs": [],
   "source": [
    "dataFolder = \"../../../data/CODE15/hdf5/\""
   ]
  },
  {
   "cell_type": "code",
   "execution_count": null,
   "id": "242a22d2",
   "metadata": {},
   "outputs": [],
   "source": [
    "ecgFeatures = [\n",
    "\t\"LI\", \n",
    "\t\"LII\", \n",
    "\t\"LIII\", \n",
    "\t\"aVR\", \n",
    "\t\"aVL\",\n",
    "\t\"aVF\", \n",
    "\t\"V1\",\n",
    "\t\"V2\",\n",
    "\t\"V3\",\n",
    "\t\"V4\",\n",
    "\t\"V5\",\n",
    "\t\"V6\"\n",
    "]\n",
    "\n",
    "ecgFeaturesIndexes = [ecgHeaders.index(derivation) for derivation in ecgFeatures]\n",
    "ecgFeaturesIndexes"
   ]
  },
  {
   "cell_type": "code",
   "execution_count": null,
   "id": "d20f960b",
   "metadata": {},
   "outputs": [],
   "source": [
    "ecgTarget = [\n",
    "\t\"LI\", \n",
    "\t\"LII\", \n",
    "\t\"LIII\", \n",
    "\t\"aVR\", \n",
    "\t\"aVL\",\n",
    "\t\"aVF\", \n",
    "\t\"V1\",\n",
    "\t\"V2\",\n",
    "\t\"V3\",\n",
    "\t\"V4\",\n",
    "\t\"V5\",\n",
    "\t\"V6\"\n",
    "]\n",
    "\n",
    "ecgTargetIndexes = [ecgHeaders.index(derivation) for derivation in ecgTarget]\n",
    "ecgTargetIndexes"
   ]
  },
  {
   "cell_type": "markdown",
   "id": "81933fbc",
   "metadata": {},
   "source": [
    "Dataset class"
   ]
  },
  {
   "cell_type": "code",
   "execution_count": null,
   "id": "abcf948c",
   "metadata": {},
   "outputs": [],
   "source": [
    "class Code15SingleLeadDataset(Dataset):\n",
    "    def __init__(self, hdf5Files, features, target, transform, subsetSize = None, seed = None):\n",
    "        super().__init__()\n",
    "\n",
    "        self.hdf5Files = hdf5Files\n",
    "        self.indexMap  = []  \n",
    "        self.features  = features\n",
    "        self.target    = target\n",
    "        self.transform = transform\n",
    "\n",
    "        self.nLeads = 12\n",
    "\n",
    "        for fileIndex, path in enumerate(self.hdf5Files):\n",
    "            with h5py.File(path, \"r\") as f:\n",
    "                samplesCount = f['exam_id'].shape[0]\n",
    "                self.indexMap.extend([(fileIndex, i) for i in range(samplesCount)])\n",
    "\n",
    "        if subsetSize is not None:\n",
    "            if seed is not None:\n",
    "                random.seed(seed)\n",
    "            self.indexMap = random.sample(self.indexMap, min(subsetSize, len(self.indexMap)))\n",
    "\n",
    "        self.totalSamples = len(self.indexMap) * self.nLeads\n",
    "\n",
    "    def __len__(self):\n",
    "        return self.totalSamples\n",
    "\n",
    "    def __getitem__(self, idx):\n",
    "        baseidx = idx // self.nLeads\n",
    "        leadidx = idx % self.nLeads\n",
    "\n",
    "        fileIndex, examIdx = self.indexMap[baseidx]\n",
    "        hdf5File = self.hdf5Files[fileIndex]\n",
    "\n",
    "        with h5py.File(hdf5File, \"r\") as file:\n",
    "            tracing = np.array(file['tracings'][examIdx])\n",
    "\n",
    "        tracing = self.transform(tracing)\n",
    "\n",
    "        X = np.zeros_like(tracing)\n",
    "        X[:, leadidx] = tracing[:, leadidx]\n",
    "\n",
    "        X = X[:, self.features]\n",
    "        X = torch.tensor(X, dtype=torch.float32)\n",
    "\n",
    "        Y = tracing[:, self.target]\n",
    "        Y = torch.tensor(Y, dtype=torch.float32)\n",
    "\n",
    "        return X, Y\n"
   ]
  },
  {
   "cell_type": "markdown",
   "id": "844da6fd",
   "metadata": {},
   "source": [
    "Transform Function\n",
    "\n",
    "- highpass butterworth filter with $ f_c = 1$ Hz\n",
    "- Truncation in the tails of $ N = 600  $ samples\n",
    "- Gain of 5\n",
    "- Normalization with z-score"
   ]
  },
  {
   "cell_type": "code",
   "execution_count": null,
   "id": "0e4107db",
   "metadata": {},
   "outputs": [],
   "source": [
    "def transform(ecg):\n",
    "\tb, a = signal.butter(\n",
    "\t\tN     = 1, \n",
    "\t\tWn    = 1, \n",
    "\t\tbtype = 'high', \n",
    "\t\tfs    = samplingFrequency\n",
    "\t)\n",
    "\t\n",
    "\tecgFiltred  = signal.filtfilt(b, a, ecg, axis = 0)\n",
    "\tecgWithGain = 5 * ecgFiltred\n",
    "\tecgClean    = ecgWithGain[600: -600, :]\n",
    "\n",
    "\tecgMean = np.mean(ecgClean, axis = 0, keepdims = True)\n",
    "\tecgStd  = np.std(ecgClean,  axis = 0, keepdims = True) + 1e-8\n",
    "\n",
    "\tecgNormalized = (ecgClean - ecgMean) / ecgStd\n",
    "\n",
    "\treturn ecgNormalized\n"
   ]
  },
  {
   "cell_type": "code",
   "execution_count": null,
   "id": "c3a0f82a",
   "metadata": {},
   "outputs": [],
   "source": [
    "singleLeadDataset = Code15SingleLeadDataset(\n",
    "    hdf5Files  = glob(f\"{dataFolder}/*.hdf5\"),\n",
    "    features   = ecgFeaturesIndexes,\n",
    "    target     = ecgTargetIndexes,    \n",
    "    transform  = transform,\n",
    "    subsetSize = 20_000,\n",
    "    seed       = 42\n",
    ")"
   ]
  },
  {
   "cell_type": "code",
   "execution_count": null,
   "id": "31fad8fe",
   "metadata": {},
   "outputs": [],
   "source": [
    "len(singleLeadDataset)"
   ]
  },
  {
   "cell_type": "markdown",
   "id": "905561cf",
   "metadata": {},
   "source": [
    "Dataloader"
   ]
  },
  {
   "cell_type": "code",
   "execution_count": null,
   "id": "f8e1e9ae",
   "metadata": {},
   "outputs": [],
   "source": [
    "dataloader = DataLoader(\n",
    "\tdataset     = singleLeadDataset,\n",
    "\tbatch_size  = 1,\n",
    "\tshuffle     = False,\n",
    "\tnum_workers = 4\n",
    "\n",
    ")"
   ]
  },
  {
   "cell_type": "markdown",
   "id": "2afa69e0",
   "metadata": {},
   "source": [
    "# Model loading"
   ]
  },
  {
   "cell_type": "code",
   "execution_count": null,
   "id": "86f47682",
   "metadata": {},
   "outputs": [],
   "source": [
    "class ECGReconstructor(nn.Module):\n",
    "    def __init__(self, latentDim, batchSize):\n",
    "        super().__init__()\n",
    "        \n",
    "        self.encoder = nn.Sequential(\n",
    "            nn.Conv1d(12, 6, 5, padding = 2),\n",
    "            nn.ReLU(),\n",
    "            nn.Conv1d(6, batchSize, 5, padding = 2),\n",
    "            nn.ReLU(),\n",
    "            nn.Conv1d(batchSize, latentDim, 5, padding = 2)\n",
    "        )\n",
    "        \n",
    "        self.decoder = nn.Sequential(\n",
    "            nn.Conv1d(latentDim, batchSize, 5, padding = 2),\n",
    "            nn.ReLU(),\n",
    "            nn.Conv1d(batchSize, 6, 5, padding = 2),\n",
    "            nn.ReLU(),\n",
    "            nn.Conv1d(6, 12, 5, padding = 2)\n",
    "        )\n",
    "\n",
    "    def forward(self, x):\n",
    "        x = x.permute(0, 2, 1)  \n",
    "\n",
    "        encoded = self.encoder(x) \n",
    "        decoded = self.decoder(encoded)\n",
    "        decoded = decoded.permute(0, 2, 1)\n",
    "\n",
    "        return decoded"
   ]
  },
  {
   "cell_type": "code",
   "execution_count": null,
   "id": "b6b56666",
   "metadata": {},
   "outputs": [],
   "source": [
    "device = torch.device(\"cuda\" if torch.cuda.is_available() else \"cpu\")\n",
    "model  = ECGReconstructor(latentDim = 128, batchSize=32).to(device)\n",
    "\n",
    "model.load_state_dict(\n",
    "    torch.load(\n",
    "        \"../../../models/t4/ae-t4-v0.pth\", \n",
    "        weights_only = True\n",
    "    )\n",
    ")\n",
    "\n",
    "model"
   ]
  },
  {
   "cell_type": "markdown",
   "id": "4224aa6f",
   "metadata": {},
   "source": [
    "# Graphical analysis of reconstruction performance"
   ]
  },
  {
   "cell_type": "code",
   "execution_count": null,
   "id": "3dba2d57",
   "metadata": {},
   "outputs": [],
   "source": [
    "r2Scores = pd.DataFrame(\n",
    "    columns = ecgTarget,\n",
    "    index   = range(len(singleLeadDataset))\n",
    ")\n",
    "\n",
    "correlations = pd.DataFrame(\n",
    "    columns = ecgTarget,\n",
    "    index   = range(len(singleLeadDataset))\n",
    ")"
   ]
  },
  {
   "cell_type": "markdown",
   "id": "dcbfb09c",
   "metadata": {},
   "source": [
    "Calculating Pearson Correlations and r2 score for each ECG"
   ]
  },
  {
   "cell_type": "code",
   "execution_count": null,
   "id": "a7326c48",
   "metadata": {},
   "outputs": [],
   "source": [
    "model.eval()\n",
    "\n",
    "with torch.no_grad():\n",
    "\tfor i, (X, Y) in enumerate(dataloader):\n",
    "\t\tX, Y       =  X.to(device), Y.to(device)\n",
    "\t\tprediction =  model(X)\n",
    "\n",
    "\t\tprediction = prediction.cpu()[0]\n",
    "\t\tY \t\t   = Y.cpu()[0]\n",
    "\n",
    "\t\tr2Row   \t   = []\n",
    "\t\tcorrelationRow = []\n",
    "\n",
    "\t\tfor j in range(len(ecgTarget)):\n",
    "\n",
    "\t\t\tyTrue = Y[:, j]\n",
    "\t\t\tyPred = prediction[:, j]\n",
    "\n",
    "\t\t\tr2 = r2_score(yTrue, yPred)\n",
    "\n",
    "\t\t\tif torch.std(yTrue) == 0 or torch.std(yPred) == 0:\n",
    "\t\t\t\tcorrelation = 0 \n",
    "\t\t\telse:\n",
    "\t\t\t\tcorrelation = stats.pearsonr(yTrue, yPred).statistic\n",
    "\n",
    "\t\t\tr2Row.append(r2)\n",
    "\t\t\tcorrelationRow.append(correlation)\n",
    "\n",
    "\t\tr2Scores.iloc[i]     = r2Row\n",
    "\t\tcorrelations.iloc[i] = correlationRow"
   ]
  },
  {
   "cell_type": "markdown",
   "id": "20abfbd2",
   "metadata": {},
   "source": [
    "The comparative plot function"
   ]
  },
  {
   "cell_type": "code",
   "execution_count": null,
   "id": "584d681a",
   "metadata": {},
   "outputs": [],
   "source": [
    "def methodComparativePlot(df, derivation, method):\n",
    "\tdfMean = np.mean(df[derivation])\n",
    "\tdfMean = np.round(dfMean, 3)\n",
    "\n",
    "\tfigure, axes = plt.subplots(nrows = 1, ncols = 2, figsize = (12, 6))\n",
    "\n",
    "\taxes[0].set_title(f\"{method}($ {derivation} $, $ {derivation}_{{rec}} $)\")\n",
    "\taxes[1].set_title(f\"Histograma - {method}($ {derivation} $, $ {derivation}_{{rec}} $)\")\n",
    "\n",
    "\taxes[0].set_xlabel(\"n\")\n",
    "\taxes[0].set_ylabel(f\"{method}\")\n",
    "\t\n",
    "\taxes[1].set_xlabel(f\"{method}\")\n",
    "\taxes[1].set_ylabel(\"Frequência\")\n",
    "\n",
    "\n",
    "\taxes[0].scatter(\n",
    "\t\tdf.index, \n",
    "\t\tdf[derivation]\n",
    "\t)\n",
    "\taxes[0].axhline(\n",
    "\t\tdfMean, \n",
    "\t\tcolor     = 'r', \n",
    "\t\tlinestyle = '--', \n",
    "\t\tlabel     = f\"Média = {dfMean}\"\n",
    "\t)\n",
    "\n",
    "\n",
    "\tcounts, bins = np.histogram(df[derivation], 50)\n",
    "\taxes[1].stairs(counts / len(df[derivation]), bins, fill = True)\n",
    "\taxes[1].axvline(\n",
    "\t\tdfMean, \n",
    "\t\tcolor     = 'r', \n",
    "\t\tlinestyle = '--', \n",
    "\t\tlabel     = f\"Média = {dfMean}\"\n",
    "\t)\n",
    "\n",
    "\taxes[1].legend()\n",
    "\taxes[0].legend()\n",
    "\n",
    "\tplt.show()\n",
    "\n",
    "\tplt.close()"
   ]
  },
  {
   "cell_type": "markdown",
   "id": "ec82f0e8",
   "metadata": {},
   "source": [
    "## Results"
   ]
  },
  {
   "cell_type": "code",
   "execution_count": null,
   "id": "027b089f",
   "metadata": {},
   "outputs": [],
   "source": [
    "for derivation in ecgTarget:\n",
    "\tmethodComparativePlot(r2Scores, derivation, \"R²\")"
   ]
  },
  {
   "cell_type": "code",
   "execution_count": null,
   "id": "ad6b8dcd",
   "metadata": {},
   "outputs": [],
   "source": [
    "for derivation in ecgTarget:\n",
    "\tmethodComparativePlot(correlations, derivation, \"CORR\")"
   ]
  }
 ],
 "metadata": {
  "kernelspec": {
   "display_name": "notebooks-py3.10 (3.10.15)",
   "language": "python",
   "name": "python3"
  },
  "language_info": {
   "codemirror_mode": {
    "name": "ipython",
    "version": 3
   },
   "file_extension": ".py",
   "mimetype": "text/x-python",
   "name": "python",
   "nbconvert_exporter": "python",
   "pygments_lexer": "ipython3",
   "version": "3.10.15"
  }
 },
 "nbformat": 4,
 "nbformat_minor": 5
}
